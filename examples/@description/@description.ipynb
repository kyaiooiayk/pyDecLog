{
 "cells": [
  {
   "cell_type": "code",
   "execution_count": 1,
   "id": "8fedeb7a",
   "metadata": {
    "ExecuteTime": {
     "end_time": "2023-06-26T20:19:24.346854Z",
     "start_time": "2023-06-26T20:19:24.262845Z"
    }
   },
   "outputs": [],
   "source": [
    "from pyDecLog import description as doc"
   ]
  },
  {
   "cell_type": "code",
   "execution_count": 2,
   "id": "806612dd",
   "metadata": {
    "ExecuteTime": {
     "end_time": "2023-06-26T20:19:24.474469Z",
     "start_time": "2023-06-26T20:19:24.348539Z"
    }
   },
   "outputs": [
    {
     "name": "stdout",
     "output_type": "stream",
     "text": [
      "rm: LOG.log: No such file or directory\r\n"
     ]
    }
   ],
   "source": [
    "rm LOG.log"
   ]
  },
  {
   "cell_type": "code",
   "execution_count": 3,
   "id": "abee7750",
   "metadata": {
    "ExecuteTime": {
     "end_time": "2023-06-26T20:19:24.481677Z",
     "start_time": "2023-06-26T20:19:24.478457Z"
    }
   },
   "outputs": [],
   "source": [
    "@doc\n",
    "def sum_(first, second=2):\n",
    "    \"\"\"Sum two numbers.\"\"\"\n",
    "    \n",
    "    result = first + second\n",
    "    return result"
   ]
  },
  {
   "cell_type": "code",
   "execution_count": 4,
   "id": "7b565587",
   "metadata": {
    "ExecuteTime": {
     "end_time": "2023-06-26T20:19:24.489371Z",
     "start_time": "2023-06-26T20:19:24.485787Z"
    }
   },
   "outputs": [],
   "source": [
    "dummy = sum_(1,1)"
   ]
  },
  {
   "cell_type": "code",
   "execution_count": 5,
   "id": "ffdb0a30",
   "metadata": {
    "ExecuteTime": {
     "end_time": "2023-06-26T20:19:24.618896Z",
     "start_time": "2023-06-26T20:19:24.491440Z"
    }
   },
   "outputs": [
    {
     "name": "stdout",
     "output_type": "stream",
     "text": [
      "2023/06/26 | 21:19:24 | DEBUG Method's description: Sum two numbers.\r\n"
     ]
    }
   ],
   "source": [
    "cat LOG.log"
   ]
  },
  {
   "cell_type": "code",
   "execution_count": null,
   "id": "892a6986",
   "metadata": {},
   "outputs": [],
   "source": []
  }
 ],
 "metadata": {
  "kernelspec": {
   "display_name": "trainingAI",
   "language": "python",
   "name": "trainingai"
  },
  "language_info": {
   "codemirror_mode": {
    "name": "ipython",
    "version": 3
   },
   "file_extension": ".py",
   "mimetype": "text/x-python",
   "name": "python",
   "nbconvert_exporter": "python",
   "pygments_lexer": "ipython3",
   "version": "3.9.7"
  },
  "toc": {
   "base_numbering": 1,
   "nav_menu": {},
   "number_sections": true,
   "sideBar": true,
   "skip_h1_title": false,
   "title_cell": "Table of Contents",
   "title_sidebar": "Contents",
   "toc_cell": false,
   "toc_position": {},
   "toc_section_display": true,
   "toc_window_display": false
  },
  "varInspector": {
   "cols": {
    "lenName": 16,
    "lenType": 16,
    "lenVar": 40
   },
   "kernels_config": {
    "python": {
     "delete_cmd_postfix": "",
     "delete_cmd_prefix": "del ",
     "library": "var_list.py",
     "varRefreshCmd": "print(var_dic_list())"
    },
    "r": {
     "delete_cmd_postfix": ") ",
     "delete_cmd_prefix": "rm(",
     "library": "var_list.r",
     "varRefreshCmd": "cat(var_dic_list()) "
    }
   },
   "types_to_exclude": [
    "module",
    "function",
    "builtin_function_or_method",
    "instance",
    "_Feature"
   ],
   "window_display": false
  }
 },
 "nbformat": 4,
 "nbformat_minor": 5
}
