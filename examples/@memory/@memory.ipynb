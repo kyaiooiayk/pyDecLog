{
 "cells": [
  {
   "cell_type": "code",
   "execution_count": 1,
   "id": "dc4d14df",
   "metadata": {
    "ExecuteTime": {
     "end_time": "2023-06-26T15:11:19.640819Z",
     "start_time": "2023-06-26T15:11:19.461228Z"
    }
   },
   "outputs": [],
   "source": [
    "import sys\n",
    "sys.path.append(\"../../\")\n",
    "from PyDecLog import memory as mem"
   ]
  },
  {
   "cell_type": "code",
   "execution_count": 2,
   "id": "8cf050c0",
   "metadata": {
    "ExecuteTime": {
     "end_time": "2023-06-26T15:11:19.793649Z",
     "start_time": "2023-06-26T15:11:19.643542Z"
    }
   },
   "outputs": [
    {
     "name": "stdout",
     "output_type": "stream",
     "text": [
      "rm: LOG.log: No such file or directory\r\n"
     ]
    }
   ],
   "source": [
    "rm LOG.log"
   ]
  },
  {
   "cell_type": "code",
   "execution_count": 3,
   "id": "33640657",
   "metadata": {
    "ExecuteTime": {
     "end_time": "2023-06-26T15:11:19.933672Z",
     "start_time": "2023-06-26T15:11:19.798086Z"
    }
   },
   "outputs": [],
   "source": [
    "rm -rf log_folder"
   ]
  },
  {
   "cell_type": "code",
   "execution_count": 19,
   "id": "04d6842e",
   "metadata": {
    "ExecuteTime": {
     "end_time": "2023-06-26T15:11:36.399518Z",
     "start_time": "2023-06-26T15:11:36.392924Z"
    }
   },
   "outputs": [],
   "source": [
    "@mem\n",
    "def sum_(first, second=2):\n",
    "    \"\"\"Sum two numbers.\"\"\"\n",
    "    \n",
    "    result = first + second\n",
    "    return result"
   ]
  },
  {
   "cell_type": "code",
   "execution_count": 20,
   "id": "cf3c7069",
   "metadata": {
    "ExecuteTime": {
     "end_time": "2023-06-26T15:11:36.788562Z",
     "start_time": "2023-06-26T15:11:36.783741Z"
    }
   },
   "outputs": [],
   "source": [
    "dummy = sum_(1,1)"
   ]
  },
  {
   "cell_type": "code",
   "execution_count": 21,
   "id": "8365a190",
   "metadata": {
    "ExecuteTime": {
     "end_time": "2023-06-26T15:11:37.243182Z",
     "start_time": "2023-06-26T15:11:37.099297Z"
    }
   },
   "outputs": [
    {
     "name": "stdout",
     "output_type": "stream",
     "text": [
      "2023/06/26 | 16:11:36 | DEBUG Function signature: (first, second=2)\r\n",
      "2023/06/26 | 16:11:36 | DEBUG Size of argument 1: 32 bytes\r\n",
      "2023/06/26 | 16:11:36 | DEBUG Size of argument 1: 32 bytes\r\n",
      "2023/06/26 | 16:11:36 | DEBUG Size of output: 28 bytes\r\n"
     ]
    }
   ],
   "source": [
    "cat LOG.log"
   ]
  },
  {
   "cell_type": "code",
   "execution_count": null,
   "id": "6924d84f",
   "metadata": {},
   "outputs": [],
   "source": [
    "rm -rf LOG.log"
   ]
  },
  {
   "cell_type": "code",
   "execution_count": 22,
   "id": "ff128349",
   "metadata": {
    "ExecuteTime": {
     "end_time": "2023-06-26T15:15:50.836903Z",
     "start_time": "2023-06-26T15:15:50.817318Z"
    }
   },
   "outputs": [],
   "source": [
    "@mem(unit=\"mb\")\n",
    "def sum_(first, second=2):\n",
    "    \"\"\"Sum two numbers.\"\"\"\n",
    "    \n",
    "    result = first + second\n",
    "    return result"
   ]
  },
  {
   "cell_type": "code",
   "execution_count": 23,
   "id": "ce719740",
   "metadata": {
    "ExecuteTime": {
     "end_time": "2023-06-26T15:15:54.338173Z",
     "start_time": "2023-06-26T15:15:54.330362Z"
    }
   },
   "outputs": [],
   "source": [
    "dummy = sum_(1,1)"
   ]
  },
  {
   "cell_type": "code",
   "execution_count": 24,
   "id": "f2b23463",
   "metadata": {
    "ExecuteTime": {
     "end_time": "2023-06-26T15:16:00.879543Z",
     "start_time": "2023-06-26T15:16:00.719430Z"
    }
   },
   "outputs": [
    {
     "name": "stdout",
     "output_type": "stream",
     "text": [
      "2023/06/26 | 16:11:36 | DEBUG Function signature: (first, second=2)\r\n",
      "2023/06/26 | 16:11:36 | DEBUG Size of argument 1: 32 bytes\r\n",
      "2023/06/26 | 16:11:36 | DEBUG Size of argument 1: 32 bytes\r\n",
      "2023/06/26 | 16:11:36 | DEBUG Size of output: 28 bytes\r\n",
      "2023/06/26 | 16:15:54 | DEBUG Function signature: (first, second=2)\r\n",
      "2023/06/26 | 16:15:54 | DEBUG Size of argument 1: 3.2e-05 MBs\r\n",
      "2023/06/26 | 16:15:54 | DEBUG Size of argument 1: 3.2e-05 MBs\r\n",
      "2023/06/26 | 16:15:54 | DEBUG Size of output: 28 MBs\r\n"
     ]
    }
   ],
   "source": [
    "cat LOG.log"
   ]
  },
  {
   "cell_type": "code",
   "execution_count": 25,
   "id": "537751f5",
   "metadata": {
    "ExecuteTime": {
     "end_time": "2023-06-26T15:16:53.380130Z",
     "start_time": "2023-06-26T15:16:53.233720Z"
    }
   },
   "outputs": [],
   "source": [
    "rm -rf LOG.log"
   ]
  },
  {
   "cell_type": "code",
   "execution_count": 26,
   "id": "1f564179",
   "metadata": {
    "ExecuteTime": {
     "end_time": "2023-06-26T15:17:00.891556Z",
     "start_time": "2023-06-26T15:17:00.884989Z"
    }
   },
   "outputs": [],
   "source": [
    "@mem(unit=\"gb\")\n",
    "def sum_(first, second=2):\n",
    "    \"\"\"Sum two numbers.\"\"\"\n",
    "    \n",
    "    result = first + second\n",
    "    return result"
   ]
  },
  {
   "cell_type": "code",
   "execution_count": 27,
   "id": "a9dd1237",
   "metadata": {
    "ExecuteTime": {
     "end_time": "2023-06-26T15:17:04.151977Z",
     "start_time": "2023-06-26T15:17:04.147188Z"
    }
   },
   "outputs": [],
   "source": [
    "dummy = sum_(1,1)"
   ]
  },
  {
   "cell_type": "code",
   "execution_count": 28,
   "id": "695ac160",
   "metadata": {
    "ExecuteTime": {
     "end_time": "2023-06-26T15:17:07.831878Z",
     "start_time": "2023-06-26T15:17:07.699450Z"
    }
   },
   "outputs": [
    {
     "name": "stdout",
     "output_type": "stream",
     "text": [
      "2023/06/26 | 16:17:04 | DEBUG Function signature: (first, second=2)\r\n",
      "2023/06/26 | 16:17:04 | DEBUG Size of argument 1: 3.2e-08 GBs\r\n",
      "2023/06/26 | 16:17:04 | DEBUG Size of argument 1: 3.2e-08 GBs\r\n",
      "2023/06/26 | 16:17:04 | DEBUG Size of output: 28 GBs\r\n"
     ]
    }
   ],
   "source": [
    "cat LOG.log"
   ]
  },
  {
   "cell_type": "code",
   "execution_count": 7,
   "id": "d332d048",
   "metadata": {
    "ExecuteTime": {
     "end_time": "2023-06-26T15:11:20.243608Z",
     "start_time": "2023-06-26T15:11:20.107104Z"
    }
   },
   "outputs": [],
   "source": [
    "rm -rf LOG.log"
   ]
  },
  {
   "cell_type": "code",
   "execution_count": 8,
   "id": "abbc3fa6",
   "metadata": {
    "ExecuteTime": {
     "end_time": "2023-06-26T15:11:20.251405Z",
     "start_time": "2023-06-26T15:11:20.246654Z"
    }
   },
   "outputs": [],
   "source": [
    "@mem(level=\"info\")\n",
    "def sum_(first, second=2):\n",
    "    \"\"\"Sum two numbers.\"\"\"\n",
    "    \n",
    "    result = first + second\n",
    "    return result"
   ]
  },
  {
   "cell_type": "code",
   "execution_count": 9,
   "id": "b25650eb",
   "metadata": {
    "ExecuteTime": {
     "end_time": "2023-06-26T15:11:20.261544Z",
     "start_time": "2023-06-26T15:11:20.257557Z"
    }
   },
   "outputs": [],
   "source": [
    "dummy = sum_(1,1)"
   ]
  },
  {
   "cell_type": "code",
   "execution_count": 10,
   "id": "ea6be893",
   "metadata": {
    "ExecuteTime": {
     "end_time": "2023-06-26T15:11:20.392996Z",
     "start_time": "2023-06-26T15:11:20.263735Z"
    }
   },
   "outputs": [
    {
     "name": "stdout",
     "output_type": "stream",
     "text": [
      "2023/06/26 | 16:11:20 | INFO Function signature: (first, second=2)\r\n",
      "2023/06/26 | 16:11:20 | INFO Size of argument 1: 32 bytes\r\n",
      "2023/06/26 | 16:11:20 | INFO Size of argument 1: 32 bytes\r\n",
      "2023/06/26 | 16:11:20 | INFO Size of output: 28 bytes\r\n"
     ]
    }
   ],
   "source": [
    "cat LOG.log"
   ]
  },
  {
   "cell_type": "code",
   "execution_count": 11,
   "id": "7c4d7cda",
   "metadata": {
    "ExecuteTime": {
     "end_time": "2023-06-26T15:11:20.527649Z",
     "start_time": "2023-06-26T15:11:20.395820Z"
    }
   },
   "outputs": [],
   "source": [
    "rm -rf LOG.log"
   ]
  },
  {
   "cell_type": "code",
   "execution_count": 12,
   "id": "35a8bcba",
   "metadata": {
    "ExecuteTime": {
     "end_time": "2023-06-26T15:11:20.538207Z",
     "start_time": "2023-06-26T15:11:20.531172Z"
    }
   },
   "outputs": [],
   "source": [
    "@mem(level=\"info\", console_log_level=\"info\")\n",
    "def sum_(first, second=2):\n",
    "    \"\"\"Sum two numbers.\"\"\"\n",
    "    \n",
    "    result = first + second\n",
    "    return result"
   ]
  },
  {
   "cell_type": "code",
   "execution_count": 13,
   "id": "1fe2cd15",
   "metadata": {
    "ExecuteTime": {
     "end_time": "2023-06-26T15:11:20.551654Z",
     "start_time": "2023-06-26T15:11:20.540960Z"
    }
   },
   "outputs": [
    {
     "name": "stderr",
     "output_type": "stream",
     "text": [
      "Function signature: (first, second=2)\n",
      "Size of argument 1: 32 bytes\n",
      "Size of argument 1: 32 bytes\n",
      "Size of output: 28 bytes\n"
     ]
    }
   ],
   "source": [
    "dummy = sum_(1,1)"
   ]
  },
  {
   "cell_type": "code",
   "execution_count": 14,
   "id": "c1a74b32",
   "metadata": {
    "ExecuteTime": {
     "end_time": "2023-06-26T15:11:20.695154Z",
     "start_time": "2023-06-26T15:11:20.558441Z"
    }
   },
   "outputs": [
    {
     "name": "stdout",
     "output_type": "stream",
     "text": [
      "2023/06/26 | 16:11:20 | INFO Function signature: (first, second=2)\r\n",
      "2023/06/26 | 16:11:20 | INFO Size of argument 1: 32 bytes\r\n",
      "2023/06/26 | 16:11:20 | INFO Size of argument 1: 32 bytes\r\n",
      "2023/06/26 | 16:11:20 | INFO Size of output: 28 bytes\r\n"
     ]
    }
   ],
   "source": [
    "cat LOG.log"
   ]
  },
  {
   "cell_type": "code",
   "execution_count": 15,
   "id": "b717a1c2",
   "metadata": {
    "ExecuteTime": {
     "end_time": "2023-06-26T15:11:20.847195Z",
     "start_time": "2023-06-26T15:11:20.699455Z"
    }
   },
   "outputs": [],
   "source": [
    "rm LOG.log"
   ]
  },
  {
   "cell_type": "code",
   "execution_count": 16,
   "id": "2cf343cf",
   "metadata": {
    "ExecuteTime": {
     "end_time": "2023-06-26T15:11:20.859174Z",
     "start_time": "2023-06-26T15:11:20.852790Z"
    }
   },
   "outputs": [],
   "source": [
    "@mem(level=\"info\",\n",
    "     console_log_level=\"info\",\n",
    "     log_file_name=\"test\",\n",
    "     log_file_path=\"./log_folder\")\n",
    "def sum_(first, second=2):\n",
    "    \"\"\"Sum two numbers.\"\"\"\n",
    "\n",
    "    result = first + second\n",
    "    return result"
   ]
  },
  {
   "cell_type": "code",
   "execution_count": 17,
   "id": "aa4ddd46",
   "metadata": {
    "ExecuteTime": {
     "end_time": "2023-06-26T15:11:20.871413Z",
     "start_time": "2023-06-26T15:11:20.861183Z"
    }
   },
   "outputs": [
    {
     "name": "stderr",
     "output_type": "stream",
     "text": [
      "Function signature: (first, second=2)\n",
      "Size of argument 1: 32 bytes\n",
      "Size of argument 1: 32 bytes\n",
      "Size of output: 28 bytes\n"
     ]
    }
   ],
   "source": [
    "dummy = sum_(1,1)"
   ]
  },
  {
   "cell_type": "code",
   "execution_count": 18,
   "id": "71504fb8",
   "metadata": {
    "ExecuteTime": {
     "end_time": "2023-06-26T15:11:21.020998Z",
     "start_time": "2023-06-26T15:11:20.874560Z"
    }
   },
   "outputs": [
    {
     "name": "stdout",
     "output_type": "stream",
     "text": [
      "2023/06/26 | 16:11:20 | INFO Function signature: (first, second=2)\r\n",
      "2023/06/26 | 16:11:20 | INFO Size of argument 1: 32 bytes\r\n",
      "2023/06/26 | 16:11:20 | INFO Size of argument 1: 32 bytes\r\n",
      "2023/06/26 | 16:11:20 | INFO Size of output: 28 bytes\r\n"
     ]
    }
   ],
   "source": [
    "cat log_folder/test.log"
   ]
  },
  {
   "cell_type": "code",
   "execution_count": null,
   "id": "f3a2c41e",
   "metadata": {},
   "outputs": [],
   "source": []
  }
 ],
 "metadata": {
  "kernelspec": {
   "display_name": "Python 3 (ipykernel)",
   "language": "python",
   "name": "python3"
  },
  "language_info": {
   "codemirror_mode": {
    "name": "ipython",
    "version": 3
   },
   "file_extension": ".py",
   "mimetype": "text/x-python",
   "name": "python",
   "nbconvert_exporter": "python",
   "pygments_lexer": "ipython3",
   "version": "3.9.7"
  },
  "toc": {
   "base_numbering": 1,
   "nav_menu": {},
   "number_sections": true,
   "sideBar": true,
   "skip_h1_title": false,
   "title_cell": "Table of Contents",
   "title_sidebar": "Contents",
   "toc_cell": false,
   "toc_position": {},
   "toc_section_display": true,
   "toc_window_display": false
  },
  "varInspector": {
   "cols": {
    "lenName": 16,
    "lenType": 16,
    "lenVar": 40
   },
   "kernels_config": {
    "python": {
     "delete_cmd_postfix": "",
     "delete_cmd_prefix": "del ",
     "library": "var_list.py",
     "varRefreshCmd": "print(var_dic_list())"
    },
    "r": {
     "delete_cmd_postfix": ") ",
     "delete_cmd_prefix": "rm(",
     "library": "var_list.r",
     "varRefreshCmd": "cat(var_dic_list()) "
    }
   },
   "types_to_exclude": [
    "module",
    "function",
    "builtin_function_or_method",
    "instance",
    "_Feature"
   ],
   "window_display": false
  }
 },
 "nbformat": 4,
 "nbformat_minor": 5
}
