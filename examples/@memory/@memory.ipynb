{
 "cells": [
  {
   "cell_type": "code",
   "execution_count": 1,
   "id": "dc4d14df",
   "metadata": {
    "ExecuteTime": {
     "end_time": "2023-06-26T06:12:06.283310Z",
     "start_time": "2023-06-26T06:12:06.192016Z"
    }
   },
   "outputs": [],
   "source": [
    "import sys\n",
    "sys.path.append(\"../../\")\n",
    "from PyDecLog import memory as mem"
   ]
  },
  {
   "cell_type": "code",
   "execution_count": 2,
   "id": "04d6842e",
   "metadata": {
    "ExecuteTime": {
     "end_time": "2023-06-26T06:12:06.287243Z",
     "start_time": "2023-06-26T06:12:06.284914Z"
    }
   },
   "outputs": [],
   "source": [
    "@mem\n",
    "def sum_(first, second=2):\n",
    "    \"\"\"Sum two numbers.\"\"\"\n",
    "    \n",
    "    result = first + second\n",
    "    return result"
   ]
  },
  {
   "cell_type": "code",
   "execution_count": 3,
   "id": "cf3c7069",
   "metadata": {
    "ExecuteTime": {
     "end_time": "2023-06-26T06:12:06.293823Z",
     "start_time": "2023-06-26T06:12:06.290472Z"
    }
   },
   "outputs": [],
   "source": [
    "dummy = sum_(1,1)"
   ]
  },
  {
   "cell_type": "code",
   "execution_count": 4,
   "id": "8365a190",
   "metadata": {
    "ExecuteTime": {
     "end_time": "2023-06-26T06:12:06.419776Z",
     "start_time": "2023-06-26T06:12:06.295393Z"
    }
   },
   "outputs": [
    {
     "name": "stdout",
     "output_type": "stream",
     "text": [
      "2023/06/26 | 07:12:06 | DEBUG Function signature: (first, second=2)\r\n",
      "2023/06/26 | 07:12:06 | DEBUG Size of argument 1: 32 bytes\r\n",
      "2023/06/26 | 07:12:06 | DEBUG Size of argument 1: 32 bytes\r\n",
      "2023/06/26 | 07:12:06 | DEBUG Size of output: 28 bytes\r\n"
     ]
    }
   ],
   "source": [
    "cat LOG.log"
   ]
  },
  {
   "cell_type": "code",
   "execution_count": 5,
   "id": "d332d048",
   "metadata": {
    "ExecuteTime": {
     "end_time": "2023-06-26T06:12:06.553372Z",
     "start_time": "2023-06-26T06:12:06.423177Z"
    }
   },
   "outputs": [],
   "source": [
    "rm -rf LOG.log"
   ]
  },
  {
   "cell_type": "code",
   "execution_count": 6,
   "id": "abbc3fa6",
   "metadata": {
    "ExecuteTime": {
     "end_time": "2023-06-26T06:12:06.560311Z",
     "start_time": "2023-06-26T06:12:06.556734Z"
    }
   },
   "outputs": [],
   "source": [
    "@mem(level=\"info\")\n",
    "def sum_(first, second=2):\n",
    "    \"\"\"Sum two numbers.\"\"\"\n",
    "    \n",
    "    result = first + second\n",
    "    return result"
   ]
  },
  {
   "cell_type": "code",
   "execution_count": 7,
   "id": "b25650eb",
   "metadata": {
    "ExecuteTime": {
     "end_time": "2023-06-26T06:12:06.566427Z",
     "start_time": "2023-06-26T06:12:06.562240Z"
    }
   },
   "outputs": [],
   "source": [
    "dummy = sum_(1,1)"
   ]
  },
  {
   "cell_type": "code",
   "execution_count": 8,
   "id": "ea6be893",
   "metadata": {
    "ExecuteTime": {
     "end_time": "2023-06-26T06:12:06.692162Z",
     "start_time": "2023-06-26T06:12:06.568072Z"
    }
   },
   "outputs": [
    {
     "name": "stdout",
     "output_type": "stream",
     "text": [
      "2023/06/26 | 07:12:06 | INFO Function signature: (first, second=2)\r\n",
      "2023/06/26 | 07:12:06 | INFO Size of argument 1: 32 bytes\r\n",
      "2023/06/26 | 07:12:06 | INFO Size of argument 1: 32 bytes\r\n",
      "2023/06/26 | 07:12:06 | INFO Size of output: 28 bytes\r\n"
     ]
    }
   ],
   "source": [
    "cat LOG.log"
   ]
  },
  {
   "cell_type": "code",
   "execution_count": 9,
   "id": "7c4d7cda",
   "metadata": {
    "ExecuteTime": {
     "end_time": "2023-06-26T06:12:06.825919Z",
     "start_time": "2023-06-26T06:12:06.698156Z"
    }
   },
   "outputs": [],
   "source": [
    "rm -rf LOG.log"
   ]
  },
  {
   "cell_type": "code",
   "execution_count": 10,
   "id": "35a8bcba",
   "metadata": {
    "ExecuteTime": {
     "end_time": "2023-06-26T06:12:06.832298Z",
     "start_time": "2023-06-26T06:12:06.828917Z"
    }
   },
   "outputs": [],
   "source": [
    "@mem(level=\"info\", console_log_level=\"info\")\n",
    "def sum_(first, second=2):\n",
    "    \"\"\"Sum two numbers.\"\"\"\n",
    "    \n",
    "    result = first + second\n",
    "    return result"
   ]
  },
  {
   "cell_type": "code",
   "execution_count": 11,
   "id": "1fe2cd15",
   "metadata": {
    "ExecuteTime": {
     "end_time": "2023-06-26T06:12:06.840512Z",
     "start_time": "2023-06-26T06:12:06.834295Z"
    }
   },
   "outputs": [
    {
     "name": "stderr",
     "output_type": "stream",
     "text": [
      "Function signature: (first, second=2)\n",
      "Size of argument 1: 32 bytes\n",
      "Size of argument 1: 32 bytes\n",
      "Size of output: 28 bytes\n"
     ]
    }
   ],
   "source": [
    "dummy = sum_(1,1)"
   ]
  },
  {
   "cell_type": "code",
   "execution_count": 12,
   "id": "c1a74b32",
   "metadata": {
    "ExecuteTime": {
     "end_time": "2023-06-26T06:12:06.969617Z",
     "start_time": "2023-06-26T06:12:06.842474Z"
    }
   },
   "outputs": [
    {
     "name": "stdout",
     "output_type": "stream",
     "text": [
      "2023/06/26 | 07:12:06 | INFO Function signature: (first, second=2)\r\n",
      "2023/06/26 | 07:12:06 | INFO Size of argument 1: 32 bytes\r\n",
      "2023/06/26 | 07:12:06 | INFO Size of argument 1: 32 bytes\r\n",
      "2023/06/26 | 07:12:06 | INFO Size of output: 28 bytes\r\n"
     ]
    }
   ],
   "source": [
    "cat LOG.log"
   ]
  },
  {
   "cell_type": "code",
   "execution_count": 13,
   "id": "b717a1c2",
   "metadata": {
    "ExecuteTime": {
     "end_time": "2023-06-26T06:12:07.100129Z",
     "start_time": "2023-06-26T06:12:06.973299Z"
    }
   },
   "outputs": [],
   "source": [
    "rm LOG.log"
   ]
  },
  {
   "cell_type": "code",
   "execution_count": 14,
   "id": "2cf343cf",
   "metadata": {
    "ExecuteTime": {
     "end_time": "2023-06-26T06:12:07.107976Z",
     "start_time": "2023-06-26T06:12:07.103767Z"
    }
   },
   "outputs": [],
   "source": [
    "@mem(level=\"info\",\n",
    "     console_log_level=\"info\",\n",
    "     log_file_name=\"test\",\n",
    "     log_file_path=\"./log_folder\")\n",
    "def sum_(first, second=2):\n",
    "    \"\"\"Sum two numbers.\"\"\"\n",
    "\n",
    "    result = first + second\n",
    "    return result"
   ]
  },
  {
   "cell_type": "code",
   "execution_count": 15,
   "id": "aa4ddd46",
   "metadata": {
    "ExecuteTime": {
     "end_time": "2023-06-26T06:12:07.116672Z",
     "start_time": "2023-06-26T06:12:07.110303Z"
    }
   },
   "outputs": [
    {
     "name": "stderr",
     "output_type": "stream",
     "text": [
      "Function signature: (first, second=2)\n",
      "Size of argument 1: 32 bytes\n",
      "Size of argument 1: 32 bytes\n",
      "Size of output: 28 bytes\n"
     ]
    }
   ],
   "source": [
    "dummy = sum_(1,1)"
   ]
  },
  {
   "cell_type": "code",
   "execution_count": 16,
   "id": "71504fb8",
   "metadata": {
    "ExecuteTime": {
     "end_time": "2023-06-26T06:12:07.242777Z",
     "start_time": "2023-06-26T06:12:07.118827Z"
    }
   },
   "outputs": [
    {
     "name": "stdout",
     "output_type": "stream",
     "text": [
      "2023/06/26 | 07:07:25 | INFO Function signature: (first, second=2)\r\n",
      "2023/06/26 | 07:07:25 | INFO Size of argument 1: 32 bytes\r\n",
      "2023/06/26 | 07:07:25 | INFO Size of argument 1: 32 bytes\r\n",
      "2023/06/26 | 07:07:25 | INFO Size of output: 28 bytes\r\n",
      "2023/06/26 | 07:11:39 | CRITICAL Function signature: (first, second=2)\r\n",
      "2023/06/26 | 07:11:39 | CRITICAL Size of argument 1: 32 bytes\r\n",
      "2023/06/26 | 07:11:39 | CRITICAL Size of argument 1: 32 bytes\r\n",
      "2023/06/26 | 07:11:39 | CRITICAL Size of output: 28 bytes\r\n",
      "2023/06/26 | 07:12:07 | INFO Function signature: (first, second=2)\r\n",
      "2023/06/26 | 07:12:07 | INFO Size of argument 1: 32 bytes\r\n",
      "2023/06/26 | 07:12:07 | INFO Size of argument 1: 32 bytes\r\n",
      "2023/06/26 | 07:12:07 | INFO Size of output: 28 bytes\r\n"
     ]
    }
   ],
   "source": [
    "cat log_folder/test.log"
   ]
  },
  {
   "cell_type": "code",
   "execution_count": null,
   "id": "f3a2c41e",
   "metadata": {},
   "outputs": [],
   "source": []
  }
 ],
 "metadata": {
  "kernelspec": {
   "display_name": "Python 3 (ipykernel)",
   "language": "python",
   "name": "python3"
  },
  "language_info": {
   "codemirror_mode": {
    "name": "ipython",
    "version": 3
   },
   "file_extension": ".py",
   "mimetype": "text/x-python",
   "name": "python",
   "nbconvert_exporter": "python",
   "pygments_lexer": "ipython3",
   "version": "3.9.7"
  },
  "toc": {
   "base_numbering": 1,
   "nav_menu": {},
   "number_sections": true,
   "sideBar": true,
   "skip_h1_title": false,
   "title_cell": "Table of Contents",
   "title_sidebar": "Contents",
   "toc_cell": false,
   "toc_position": {},
   "toc_section_display": true,
   "toc_window_display": false
  },
  "varInspector": {
   "cols": {
    "lenName": 16,
    "lenType": 16,
    "lenVar": 40
   },
   "kernels_config": {
    "python": {
     "delete_cmd_postfix": "",
     "delete_cmd_prefix": "del ",
     "library": "var_list.py",
     "varRefreshCmd": "print(var_dic_list())"
    },
    "r": {
     "delete_cmd_postfix": ") ",
     "delete_cmd_prefix": "rm(",
     "library": "var_list.r",
     "varRefreshCmd": "cat(var_dic_list()) "
    }
   },
   "types_to_exclude": [
    "module",
    "function",
    "builtin_function_or_method",
    "instance",
    "_Feature"
   ],
   "window_display": false
  }
 },
 "nbformat": 4,
 "nbformat_minor": 5
}
