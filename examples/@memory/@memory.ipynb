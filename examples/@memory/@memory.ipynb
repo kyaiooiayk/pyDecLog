{
 "cells": [
  {
   "cell_type": "code",
   "execution_count": 1,
   "id": "dc4d14df",
   "metadata": {
    "ExecuteTime": {
     "end_time": "2023-06-26T09:34:41.693481Z",
     "start_time": "2023-06-26T09:34:41.595583Z"
    }
   },
   "outputs": [],
   "source": [
    "import sys\n",
    "sys.path.append(\"../../\")\n",
    "from PyDecLog import memory as mem"
   ]
  },
  {
   "cell_type": "code",
   "execution_count": 2,
   "id": "8cf050c0",
   "metadata": {
    "ExecuteTime": {
     "end_time": "2023-06-26T09:34:41.816608Z",
     "start_time": "2023-06-26T09:34:41.695232Z"
    }
   },
   "outputs": [
    {
     "name": "stdout",
     "output_type": "stream",
     "text": [
      "rm: LOG.log: No such file or directory\r\n"
     ]
    }
   ],
   "source": [
    "rm LOG.log"
   ]
  },
  {
   "cell_type": "code",
   "execution_count": 3,
   "id": "33640657",
   "metadata": {
    "ExecuteTime": {
     "end_time": "2023-06-26T09:34:41.949499Z",
     "start_time": "2023-06-26T09:34:41.820392Z"
    }
   },
   "outputs": [],
   "source": [
    "rm -rf log_folder"
   ]
  },
  {
   "cell_type": "code",
   "execution_count": 4,
   "id": "04d6842e",
   "metadata": {
    "ExecuteTime": {
     "end_time": "2023-06-26T09:34:41.956015Z",
     "start_time": "2023-06-26T09:34:41.952454Z"
    }
   },
   "outputs": [],
   "source": [
    "@mem\n",
    "def sum_(first, second=2):\n",
    "    \"\"\"Sum two numbers.\"\"\"\n",
    "    \n",
    "    result = first + second\n",
    "    return result"
   ]
  },
  {
   "cell_type": "code",
   "execution_count": 5,
   "id": "cf3c7069",
   "metadata": {
    "ExecuteTime": {
     "end_time": "2023-06-26T09:34:41.961812Z",
     "start_time": "2023-06-26T09:34:41.957804Z"
    }
   },
   "outputs": [],
   "source": [
    "dummy = sum_(1,1)"
   ]
  },
  {
   "cell_type": "code",
   "execution_count": 6,
   "id": "8365a190",
   "metadata": {
    "ExecuteTime": {
     "end_time": "2023-06-26T09:34:42.090378Z",
     "start_time": "2023-06-26T09:34:41.963415Z"
    }
   },
   "outputs": [
    {
     "name": "stdout",
     "output_type": "stream",
     "text": [
      "2023/06/26 | 10:34:41 | DEBUG Function signature: (first, second=2)\r\n",
      "2023/06/26 | 10:34:41 | DEBUG Size of argument 1: 32 bytes\r\n",
      "2023/06/26 | 10:34:41 | DEBUG Size of argument 1: 32 bytes\r\n",
      "2023/06/26 | 10:34:41 | DEBUG Size of output: 28 bytes\r\n"
     ]
    }
   ],
   "source": [
    "cat LOG.log"
   ]
  },
  {
   "cell_type": "code",
   "execution_count": 7,
   "id": "d332d048",
   "metadata": {
    "ExecuteTime": {
     "end_time": "2023-06-26T09:34:42.218560Z",
     "start_time": "2023-06-26T09:34:42.092913Z"
    }
   },
   "outputs": [],
   "source": [
    "rm -rf LOG.log"
   ]
  },
  {
   "cell_type": "code",
   "execution_count": 8,
   "id": "abbc3fa6",
   "metadata": {
    "ExecuteTime": {
     "end_time": "2023-06-26T09:34:42.224755Z",
     "start_time": "2023-06-26T09:34:42.221332Z"
    }
   },
   "outputs": [],
   "source": [
    "@mem(level=\"info\")\n",
    "def sum_(first, second=2):\n",
    "    \"\"\"Sum two numbers.\"\"\"\n",
    "    \n",
    "    result = first + second\n",
    "    return result"
   ]
  },
  {
   "cell_type": "code",
   "execution_count": 9,
   "id": "b25650eb",
   "metadata": {
    "ExecuteTime": {
     "end_time": "2023-06-26T09:34:42.233636Z",
     "start_time": "2023-06-26T09:34:42.229633Z"
    }
   },
   "outputs": [],
   "source": [
    "dummy = sum_(1,1)"
   ]
  },
  {
   "cell_type": "code",
   "execution_count": 10,
   "id": "ea6be893",
   "metadata": {
    "ExecuteTime": {
     "end_time": "2023-06-26T09:34:42.364712Z",
     "start_time": "2023-06-26T09:34:42.235512Z"
    }
   },
   "outputs": [
    {
     "name": "stdout",
     "output_type": "stream",
     "text": [
      "2023/06/26 | 10:34:42 | INFO Function signature: (first, second=2)\r\n",
      "2023/06/26 | 10:34:42 | INFO Size of argument 1: 32 bytes\r\n",
      "2023/06/26 | 10:34:42 | INFO Size of argument 1: 32 bytes\r\n",
      "2023/06/26 | 10:34:42 | INFO Size of output: 28 bytes\r\n"
     ]
    }
   ],
   "source": [
    "cat LOG.log"
   ]
  },
  {
   "cell_type": "code",
   "execution_count": 11,
   "id": "7c4d7cda",
   "metadata": {
    "ExecuteTime": {
     "end_time": "2023-06-26T09:34:42.495793Z",
     "start_time": "2023-06-26T09:34:42.368186Z"
    }
   },
   "outputs": [],
   "source": [
    "rm -rf LOG.log"
   ]
  },
  {
   "cell_type": "code",
   "execution_count": 12,
   "id": "35a8bcba",
   "metadata": {
    "ExecuteTime": {
     "end_time": "2023-06-26T09:34:42.502859Z",
     "start_time": "2023-06-26T09:34:42.499606Z"
    }
   },
   "outputs": [],
   "source": [
    "@mem(level=\"info\", console_log_level=\"info\")\n",
    "def sum_(first, second=2):\n",
    "    \"\"\"Sum two numbers.\"\"\"\n",
    "    \n",
    "    result = first + second\n",
    "    return result"
   ]
  },
  {
   "cell_type": "code",
   "execution_count": 13,
   "id": "1fe2cd15",
   "metadata": {
    "ExecuteTime": {
     "end_time": "2023-06-26T09:34:42.511144Z",
     "start_time": "2023-06-26T09:34:42.504860Z"
    }
   },
   "outputs": [
    {
     "name": "stderr",
     "output_type": "stream",
     "text": [
      "Function signature: (first, second=2)\n",
      "Size of argument 1: 32 bytes\n",
      "Size of argument 1: 32 bytes\n",
      "Size of output: 28 bytes\n"
     ]
    }
   ],
   "source": [
    "dummy = sum_(1,1)"
   ]
  },
  {
   "cell_type": "code",
   "execution_count": 14,
   "id": "c1a74b32",
   "metadata": {
    "ExecuteTime": {
     "end_time": "2023-06-26T09:34:42.639850Z",
     "start_time": "2023-06-26T09:34:42.513034Z"
    }
   },
   "outputs": [
    {
     "name": "stdout",
     "output_type": "stream",
     "text": [
      "2023/06/26 | 10:34:42 | INFO Function signature: (first, second=2)\r\n",
      "2023/06/26 | 10:34:42 | INFO Size of argument 1: 32 bytes\r\n",
      "2023/06/26 | 10:34:42 | INFO Size of argument 1: 32 bytes\r\n",
      "2023/06/26 | 10:34:42 | INFO Size of output: 28 bytes\r\n"
     ]
    }
   ],
   "source": [
    "cat LOG.log"
   ]
  },
  {
   "cell_type": "code",
   "execution_count": 15,
   "id": "b717a1c2",
   "metadata": {
    "ExecuteTime": {
     "end_time": "2023-06-26T09:34:42.767598Z",
     "start_time": "2023-06-26T09:34:42.642837Z"
    }
   },
   "outputs": [],
   "source": [
    "rm LOG.log"
   ]
  },
  {
   "cell_type": "code",
   "execution_count": 16,
   "id": "2cf343cf",
   "metadata": {
    "ExecuteTime": {
     "end_time": "2023-06-26T09:34:42.773306Z",
     "start_time": "2023-06-26T09:34:42.770265Z"
    }
   },
   "outputs": [],
   "source": [
    "@mem(level=\"info\",\n",
    "     console_log_level=\"info\",\n",
    "     log_file_name=\"test\",\n",
    "     log_file_path=\"./log_folder\")\n",
    "def sum_(first, second=2):\n",
    "    \"\"\"Sum two numbers.\"\"\"\n",
    "\n",
    "    result = first + second\n",
    "    return result"
   ]
  },
  {
   "cell_type": "code",
   "execution_count": 17,
   "id": "aa4ddd46",
   "metadata": {
    "ExecuteTime": {
     "end_time": "2023-06-26T09:34:42.782027Z",
     "start_time": "2023-06-26T09:34:42.775083Z"
    }
   },
   "outputs": [
    {
     "name": "stderr",
     "output_type": "stream",
     "text": [
      "Function signature: (first, second=2)\n",
      "Size of argument 1: 32 bytes\n",
      "Size of argument 1: 32 bytes\n",
      "Size of output: 28 bytes\n"
     ]
    }
   ],
   "source": [
    "dummy = sum_(1,1)"
   ]
  },
  {
   "cell_type": "code",
   "execution_count": 18,
   "id": "71504fb8",
   "metadata": {
    "ExecuteTime": {
     "end_time": "2023-06-26T09:34:42.913450Z",
     "start_time": "2023-06-26T09:34:42.783942Z"
    }
   },
   "outputs": [
    {
     "name": "stdout",
     "output_type": "stream",
     "text": [
      "2023/06/26 | 10:34:42 | INFO Function signature: (first, second=2)\r\n",
      "2023/06/26 | 10:34:42 | INFO Size of argument 1: 32 bytes\r\n",
      "2023/06/26 | 10:34:42 | INFO Size of argument 1: 32 bytes\r\n",
      "2023/06/26 | 10:34:42 | INFO Size of output: 28 bytes\r\n"
     ]
    }
   ],
   "source": [
    "cat log_folder/test.log"
   ]
  },
  {
   "cell_type": "code",
   "execution_count": null,
   "id": "f3a2c41e",
   "metadata": {},
   "outputs": [],
   "source": []
  }
 ],
 "metadata": {
  "kernelspec": {
   "display_name": "Python 3 (ipykernel)",
   "language": "python",
   "name": "python3"
  },
  "language_info": {
   "codemirror_mode": {
    "name": "ipython",
    "version": 3
   },
   "file_extension": ".py",
   "mimetype": "text/x-python",
   "name": "python",
   "nbconvert_exporter": "python",
   "pygments_lexer": "ipython3",
   "version": "3.9.7"
  },
  "toc": {
   "base_numbering": 1,
   "nav_menu": {},
   "number_sections": true,
   "sideBar": true,
   "skip_h1_title": false,
   "title_cell": "Table of Contents",
   "title_sidebar": "Contents",
   "toc_cell": false,
   "toc_position": {},
   "toc_section_display": true,
   "toc_window_display": false
  },
  "varInspector": {
   "cols": {
    "lenName": 16,
    "lenType": 16,
    "lenVar": 40
   },
   "kernels_config": {
    "python": {
     "delete_cmd_postfix": "",
     "delete_cmd_prefix": "del ",
     "library": "var_list.py",
     "varRefreshCmd": "print(var_dic_list())"
    },
    "r": {
     "delete_cmd_postfix": ") ",
     "delete_cmd_prefix": "rm(",
     "library": "var_list.r",
     "varRefreshCmd": "cat(var_dic_list()) "
    }
   },
   "types_to_exclude": [
    "module",
    "function",
    "builtin_function_or_method",
    "instance",
    "_Feature"
   ],
   "window_display": false
  }
 },
 "nbformat": 4,
 "nbformat_minor": 5
}
