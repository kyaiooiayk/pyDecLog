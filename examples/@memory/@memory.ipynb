{
 "cells": [
  {
   "cell_type": "code",
   "execution_count": 1,
   "id": "dc4d14df",
   "metadata": {
    "ExecuteTime": {
     "end_time": "2023-06-26T20:20:13.791358Z",
     "start_time": "2023-06-26T20:20:13.693289Z"
    }
   },
   "outputs": [],
   "source": [
    "from pyDecLog import memory as mem"
   ]
  },
  {
   "cell_type": "code",
   "execution_count": 2,
   "id": "8cf050c0",
   "metadata": {
    "ExecuteTime": {
     "end_time": "2023-06-26T20:20:13.919561Z",
     "start_time": "2023-06-26T20:20:13.793056Z"
    }
   },
   "outputs": [
    {
     "name": "stdout",
     "output_type": "stream",
     "text": [
      "rm: LOG.log: No such file or directory\r\n"
     ]
    }
   ],
   "source": [
    "rm LOG.log"
   ]
  },
  {
   "cell_type": "code",
   "execution_count": 3,
   "id": "33640657",
   "metadata": {
    "ExecuteTime": {
     "end_time": "2023-06-26T20:20:14.051124Z",
     "start_time": "2023-06-26T20:20:13.923586Z"
    }
   },
   "outputs": [],
   "source": [
    "rm -rf log_folder"
   ]
  },
  {
   "cell_type": "code",
   "execution_count": 4,
   "id": "04d6842e",
   "metadata": {
    "ExecuteTime": {
     "end_time": "2023-06-26T20:20:14.057469Z",
     "start_time": "2023-06-26T20:20:14.053690Z"
    }
   },
   "outputs": [],
   "source": [
    "@mem\n",
    "def sum_(first, second=2):\n",
    "    \"\"\"Sum two numbers.\"\"\"\n",
    "    \n",
    "    result = first + second\n",
    "    return result"
   ]
  },
  {
   "cell_type": "code",
   "execution_count": 5,
   "id": "cf3c7069",
   "metadata": {
    "ExecuteTime": {
     "end_time": "2023-06-26T20:20:14.064158Z",
     "start_time": "2023-06-26T20:20:14.059503Z"
    }
   },
   "outputs": [],
   "source": [
    "dummy = sum_(1,1)"
   ]
  },
  {
   "cell_type": "code",
   "execution_count": 6,
   "id": "8365a190",
   "metadata": {
    "ExecuteTime": {
     "end_time": "2023-06-26T20:20:14.194895Z",
     "start_time": "2023-06-26T20:20:14.066017Z"
    }
   },
   "outputs": [
    {
     "name": "stdout",
     "output_type": "stream",
     "text": [
      "2023/06/26 | 21:20:14 | DEBUG Function signature: (first, second=2)\r\n",
      "2023/06/26 | 21:20:14 | DEBUG Size of argument 1: 32 bytes\r\n",
      "2023/06/26 | 21:20:14 | DEBUG Size of argument 1: 32 bytes\r\n",
      "2023/06/26 | 21:20:14 | DEBUG Size of output: 28 bytes\r\n"
     ]
    }
   ],
   "source": [
    "cat LOG.log"
   ]
  },
  {
   "cell_type": "code",
   "execution_count": 7,
   "id": "6924d84f",
   "metadata": {
    "ExecuteTime": {
     "end_time": "2023-06-26T20:20:14.324563Z",
     "start_time": "2023-06-26T20:20:14.197964Z"
    }
   },
   "outputs": [],
   "source": [
    "rm -rf LOG.log"
   ]
  },
  {
   "cell_type": "code",
   "execution_count": 8,
   "id": "ff128349",
   "metadata": {
    "ExecuteTime": {
     "end_time": "2023-06-26T20:20:14.331000Z",
     "start_time": "2023-06-26T20:20:14.327596Z"
    }
   },
   "outputs": [],
   "source": [
    "@mem(unit=\"mb\")\n",
    "def sum_(first, second=2):\n",
    "    \"\"\"Sum two numbers.\"\"\"\n",
    "    \n",
    "    result = first + second\n",
    "    return result"
   ]
  },
  {
   "cell_type": "code",
   "execution_count": 9,
   "id": "ce719740",
   "metadata": {
    "ExecuteTime": {
     "end_time": "2023-06-26T20:20:14.339067Z",
     "start_time": "2023-06-26T20:20:14.335398Z"
    }
   },
   "outputs": [],
   "source": [
    "dummy = sum_(1,1)"
   ]
  },
  {
   "cell_type": "code",
   "execution_count": 10,
   "id": "f2b23463",
   "metadata": {
    "ExecuteTime": {
     "end_time": "2023-06-26T20:20:14.464830Z",
     "start_time": "2023-06-26T20:20:14.340899Z"
    }
   },
   "outputs": [
    {
     "name": "stdout",
     "output_type": "stream",
     "text": [
      "2023/06/26 | 21:20:14 | DEBUG Function signature: (first, second=2)\r\n",
      "2023/06/26 | 21:20:14 | DEBUG Size of argument 1: 3.2e-05 MBs\r\n",
      "2023/06/26 | 21:20:14 | DEBUG Size of argument 1: 3.2e-05 MBs\r\n",
      "2023/06/26 | 21:20:14 | DEBUG Size of output: 28 MBs\r\n"
     ]
    }
   ],
   "source": [
    "cat LOG.log"
   ]
  },
  {
   "cell_type": "code",
   "execution_count": 11,
   "id": "537751f5",
   "metadata": {
    "ExecuteTime": {
     "end_time": "2023-06-26T20:20:14.597155Z",
     "start_time": "2023-06-26T20:20:14.467357Z"
    }
   },
   "outputs": [],
   "source": [
    "rm -rf LOG.log"
   ]
  },
  {
   "cell_type": "code",
   "execution_count": 12,
   "id": "1f564179",
   "metadata": {
    "ExecuteTime": {
     "end_time": "2023-06-26T20:20:14.604044Z",
     "start_time": "2023-06-26T20:20:14.600458Z"
    }
   },
   "outputs": [],
   "source": [
    "@mem(unit=\"gb\")\n",
    "def sum_(first, second=2):\n",
    "    \"\"\"Sum two numbers.\"\"\"\n",
    "    \n",
    "    result = first + second\n",
    "    return result"
   ]
  },
  {
   "cell_type": "code",
   "execution_count": 13,
   "id": "a9dd1237",
   "metadata": {
    "ExecuteTime": {
     "end_time": "2023-06-26T20:20:14.609948Z",
     "start_time": "2023-06-26T20:20:14.606084Z"
    }
   },
   "outputs": [],
   "source": [
    "dummy = sum_(1,1)"
   ]
  },
  {
   "cell_type": "code",
   "execution_count": 14,
   "id": "695ac160",
   "metadata": {
    "ExecuteTime": {
     "end_time": "2023-06-26T20:20:14.736534Z",
     "start_time": "2023-06-26T20:20:14.611843Z"
    }
   },
   "outputs": [
    {
     "name": "stdout",
     "output_type": "stream",
     "text": [
      "2023/06/26 | 21:20:14 | DEBUG Function signature: (first, second=2)\r\n",
      "2023/06/26 | 21:20:14 | DEBUG Size of argument 1: 3.2e-08 GBs\r\n",
      "2023/06/26 | 21:20:14 | DEBUG Size of argument 1: 3.2e-08 GBs\r\n",
      "2023/06/26 | 21:20:14 | DEBUG Size of output: 28 GBs\r\n"
     ]
    }
   ],
   "source": [
    "cat LOG.log"
   ]
  },
  {
   "cell_type": "code",
   "execution_count": 15,
   "id": "d332d048",
   "metadata": {
    "ExecuteTime": {
     "end_time": "2023-06-26T20:20:14.866099Z",
     "start_time": "2023-06-26T20:20:14.739425Z"
    }
   },
   "outputs": [],
   "source": [
    "rm -rf LOG.log"
   ]
  },
  {
   "cell_type": "code",
   "execution_count": 16,
   "id": "abbc3fa6",
   "metadata": {
    "ExecuteTime": {
     "end_time": "2023-06-26T20:20:14.872662Z",
     "start_time": "2023-06-26T20:20:14.869295Z"
    }
   },
   "outputs": [],
   "source": [
    "@mem(level=\"info\")\n",
    "def sum_(first, second=2):\n",
    "    \"\"\"Sum two numbers.\"\"\"\n",
    "    \n",
    "    result = first + second\n",
    "    return result"
   ]
  },
  {
   "cell_type": "code",
   "execution_count": 17,
   "id": "b25650eb",
   "metadata": {
    "ExecuteTime": {
     "end_time": "2023-06-26T20:20:14.878182Z",
     "start_time": "2023-06-26T20:20:14.874330Z"
    }
   },
   "outputs": [],
   "source": [
    "dummy = sum_(1,1)"
   ]
  },
  {
   "cell_type": "code",
   "execution_count": 18,
   "id": "ea6be893",
   "metadata": {
    "ExecuteTime": {
     "end_time": "2023-06-26T20:20:15.007870Z",
     "start_time": "2023-06-26T20:20:14.880175Z"
    }
   },
   "outputs": [
    {
     "name": "stdout",
     "output_type": "stream",
     "text": [
      "2023/06/26 | 21:20:14 | INFO Function signature: (first, second=2)\r\n",
      "2023/06/26 | 21:20:14 | INFO Size of argument 1: 32 bytes\r\n",
      "2023/06/26 | 21:20:14 | INFO Size of argument 1: 32 bytes\r\n",
      "2023/06/26 | 21:20:14 | INFO Size of output: 28 bytes\r\n"
     ]
    }
   ],
   "source": [
    "cat LOG.log"
   ]
  },
  {
   "cell_type": "code",
   "execution_count": 19,
   "id": "7c4d7cda",
   "metadata": {
    "ExecuteTime": {
     "end_time": "2023-06-26T20:20:15.135109Z",
     "start_time": "2023-06-26T20:20:15.010884Z"
    }
   },
   "outputs": [],
   "source": [
    "rm -rf LOG.log"
   ]
  },
  {
   "cell_type": "code",
   "execution_count": 20,
   "id": "35a8bcba",
   "metadata": {
    "ExecuteTime": {
     "end_time": "2023-06-26T20:20:15.141252Z",
     "start_time": "2023-06-26T20:20:15.137884Z"
    }
   },
   "outputs": [],
   "source": [
    "@mem(level=\"info\", console_log_level=\"info\")\n",
    "def sum_(first, second=2):\n",
    "    \"\"\"Sum two numbers.\"\"\"\n",
    "    \n",
    "    result = first + second\n",
    "    return result"
   ]
  },
  {
   "cell_type": "code",
   "execution_count": 21,
   "id": "1fe2cd15",
   "metadata": {
    "ExecuteTime": {
     "end_time": "2023-06-26T20:20:15.149469Z",
     "start_time": "2023-06-26T20:20:15.143309Z"
    }
   },
   "outputs": [
    {
     "name": "stderr",
     "output_type": "stream",
     "text": [
      "Function signature: (first, second=2)\n",
      "Size of argument 1: 32 bytes\n",
      "Size of argument 1: 32 bytes\n",
      "Size of output: 28 bytes\n"
     ]
    }
   ],
   "source": [
    "dummy = sum_(1,1)"
   ]
  },
  {
   "cell_type": "code",
   "execution_count": 22,
   "id": "c1a74b32",
   "metadata": {
    "ExecuteTime": {
     "end_time": "2023-06-26T20:20:15.280201Z",
     "start_time": "2023-06-26T20:20:15.151652Z"
    }
   },
   "outputs": [
    {
     "name": "stdout",
     "output_type": "stream",
     "text": [
      "2023/06/26 | 21:20:15 | INFO Function signature: (first, second=2)\r\n",
      "2023/06/26 | 21:20:15 | INFO Size of argument 1: 32 bytes\r\n",
      "2023/06/26 | 21:20:15 | INFO Size of argument 1: 32 bytes\r\n",
      "2023/06/26 | 21:20:15 | INFO Size of output: 28 bytes\r\n"
     ]
    }
   ],
   "source": [
    "cat LOG.log"
   ]
  },
  {
   "cell_type": "code",
   "execution_count": 23,
   "id": "b717a1c2",
   "metadata": {
    "ExecuteTime": {
     "end_time": "2023-06-26T20:20:15.413543Z",
     "start_time": "2023-06-26T20:20:15.283694Z"
    }
   },
   "outputs": [],
   "source": [
    "rm LOG.log"
   ]
  },
  {
   "cell_type": "code",
   "execution_count": 24,
   "id": "2cf343cf",
   "metadata": {
    "ExecuteTime": {
     "end_time": "2023-06-26T20:20:15.420560Z",
     "start_time": "2023-06-26T20:20:15.416883Z"
    }
   },
   "outputs": [],
   "source": [
    "@mem(level=\"info\",\n",
    "     console_log_level=\"info\",\n",
    "     log_file_name=\"test\",\n",
    "     log_file_path=\"./log_folder\")\n",
    "def sum_(first, second=2):\n",
    "    \"\"\"Sum two numbers.\"\"\"\n",
    "\n",
    "    result = first + second\n",
    "    return result"
   ]
  },
  {
   "cell_type": "code",
   "execution_count": 25,
   "id": "aa4ddd46",
   "metadata": {
    "ExecuteTime": {
     "end_time": "2023-06-26T20:20:15.428613Z",
     "start_time": "2023-06-26T20:20:15.422633Z"
    }
   },
   "outputs": [
    {
     "name": "stderr",
     "output_type": "stream",
     "text": [
      "Function signature: (first, second=2)\n",
      "Size of argument 1: 32 bytes\n",
      "Size of argument 1: 32 bytes\n",
      "Size of output: 28 bytes\n"
     ]
    }
   ],
   "source": [
    "dummy = sum_(1,1)"
   ]
  },
  {
   "cell_type": "code",
   "execution_count": 26,
   "id": "71504fb8",
   "metadata": {
    "ExecuteTime": {
     "end_time": "2023-06-26T20:20:15.561996Z",
     "start_time": "2023-06-26T20:20:15.430816Z"
    }
   },
   "outputs": [
    {
     "name": "stdout",
     "output_type": "stream",
     "text": [
      "2023/06/26 | 21:20:15 | INFO Function signature: (first, second=2)\r\n",
      "2023/06/26 | 21:20:15 | INFO Size of argument 1: 32 bytes\r\n",
      "2023/06/26 | 21:20:15 | INFO Size of argument 1: 32 bytes\r\n",
      "2023/06/26 | 21:20:15 | INFO Size of output: 28 bytes\r\n"
     ]
    }
   ],
   "source": [
    "cat log_folder/test.log"
   ]
  },
  {
   "cell_type": "code",
   "execution_count": null,
   "id": "f3a2c41e",
   "metadata": {},
   "outputs": [],
   "source": []
  }
 ],
 "metadata": {
  "kernelspec": {
   "display_name": "Python 3 (ipykernel)",
   "language": "python",
   "name": "python3"
  },
  "language_info": {
   "codemirror_mode": {
    "name": "ipython",
    "version": 3
   },
   "file_extension": ".py",
   "mimetype": "text/x-python",
   "name": "python",
   "nbconvert_exporter": "python",
   "pygments_lexer": "ipython3",
   "version": "3.9.7"
  },
  "toc": {
   "base_numbering": 1,
   "nav_menu": {},
   "number_sections": true,
   "sideBar": true,
   "skip_h1_title": false,
   "title_cell": "Table of Contents",
   "title_sidebar": "Contents",
   "toc_cell": false,
   "toc_position": {},
   "toc_section_display": true,
   "toc_window_display": false
  },
  "varInspector": {
   "cols": {
    "lenName": 16,
    "lenType": 16,
    "lenVar": 40
   },
   "kernels_config": {
    "python": {
     "delete_cmd_postfix": "",
     "delete_cmd_prefix": "del ",
     "library": "var_list.py",
     "varRefreshCmd": "print(var_dic_list())"
    },
    "r": {
     "delete_cmd_postfix": ") ",
     "delete_cmd_prefix": "rm(",
     "library": "var_list.r",
     "varRefreshCmd": "cat(var_dic_list()) "
    }
   },
   "types_to_exclude": [
    "module",
    "function",
    "builtin_function_or_method",
    "instance",
    "_Feature"
   ],
   "window_display": false
  }
 },
 "nbformat": 4,
 "nbformat_minor": 5
}
