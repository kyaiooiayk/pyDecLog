{
 "cells": [
  {
   "cell_type": "code",
   "execution_count": 1,
   "id": "dc4d14df",
   "metadata": {
    "ExecuteTime": {
     "end_time": "2023-06-25T10:01:26.327707Z",
     "start_time": "2023-06-25T10:01:26.318507Z"
    }
   },
   "outputs": [],
   "source": [
    "import sys\n",
    "sys.path.append(\"../../\")\n",
    "from PyDecLog import typing as typ"
   ]
  },
  {
   "cell_type": "code",
   "execution_count": 3,
   "id": "04d6842e",
   "metadata": {
    "ExecuteTime": {
     "end_time": "2023-06-25T10:01:36.104653Z",
     "start_time": "2023-06-25T10:01:36.101751Z"
    }
   },
   "outputs": [],
   "source": [
    "@typ\n",
    "def sum_(first, second=2):\n",
    "    \"\"\"Sum two numbers.\"\"\"\n",
    "    \n",
    "    result = first + second\n",
    "    return result"
   ]
  },
  {
   "cell_type": "code",
   "execution_count": 4,
   "id": "cf3c7069",
   "metadata": {
    "ExecuteTime": {
     "end_time": "2023-06-25T10:01:37.671108Z",
     "start_time": "2023-06-25T10:01:37.667291Z"
    }
   },
   "outputs": [],
   "source": [
    "dummy = sum_(1,1)"
   ]
  },
  {
   "cell_type": "code",
   "execution_count": 5,
   "id": "8365a190",
   "metadata": {
    "ExecuteTime": {
     "end_time": "2023-06-25T10:01:38.264094Z",
     "start_time": "2023-06-25T10:01:38.129878Z"
    }
   },
   "outputs": [
    {
     "name": "stdout",
     "output_type": "stream",
     "text": [
      "2023/06/25 | 11:01:37 | DEBUG Function signature: (first, second=2)\r\n",
      "2023/06/25 | 11:01:37 | DEBUG type of argument <class 'int'>\r\n",
      "2023/06/25 | 11:01:37 | DEBUG type of argument <class 'int'>\r\n",
      "2023/06/25 | 11:01:37 | DEBUG Type of output: <class 'int'>\r\n"
     ]
    }
   ],
   "source": [
    "cat LOG.log"
   ]
  },
  {
   "cell_type": "code",
   "execution_count": 6,
   "id": "d332d048",
   "metadata": {
    "ExecuteTime": {
     "end_time": "2023-06-25T10:01:41.580921Z",
     "start_time": "2023-06-25T10:01:41.450539Z"
    }
   },
   "outputs": [],
   "source": [
    "rm -rf LOG.log"
   ]
  },
  {
   "cell_type": "code",
   "execution_count": 8,
   "id": "abbc3fa6",
   "metadata": {
    "ExecuteTime": {
     "end_time": "2023-06-25T10:01:59.093161Z",
     "start_time": "2023-06-25T10:01:59.089747Z"
    }
   },
   "outputs": [],
   "source": [
    "@typ(level=\"info\")\n",
    "def sum_(first, second=2):\n",
    "    \"\"\"Sum two numbers.\"\"\"\n",
    "    \n",
    "    result = first + second\n",
    "    return result"
   ]
  },
  {
   "cell_type": "code",
   "execution_count": 9,
   "id": "b25650eb",
   "metadata": {
    "ExecuteTime": {
     "end_time": "2023-06-25T10:01:59.785231Z",
     "start_time": "2023-06-25T10:01:59.781052Z"
    }
   },
   "outputs": [],
   "source": [
    "dummy = sum_(1,1)"
   ]
  },
  {
   "cell_type": "code",
   "execution_count": 10,
   "id": "ea6be893",
   "metadata": {
    "ExecuteTime": {
     "end_time": "2023-06-25T10:02:02.421480Z",
     "start_time": "2023-06-25T10:02:02.288632Z"
    }
   },
   "outputs": [
    {
     "name": "stdout",
     "output_type": "stream",
     "text": [
      "2023/06/25 | 11:01:59 | INFO Function signature: (first, second=2)\r\n",
      "2023/06/25 | 11:01:59 | INFO type of argument <class 'int'>\r\n",
      "2023/06/25 | 11:01:59 | INFO type of argument <class 'int'>\r\n",
      "2023/06/25 | 11:01:59 | INFO Type of output: <class 'int'>\r\n"
     ]
    }
   ],
   "source": [
    "cat LOG.log"
   ]
  },
  {
   "cell_type": "code",
   "execution_count": 11,
   "id": "7c4d7cda",
   "metadata": {
    "ExecuteTime": {
     "end_time": "2023-06-25T10:02:04.561347Z",
     "start_time": "2023-06-25T10:02:04.428451Z"
    }
   },
   "outputs": [],
   "source": [
    "rm -rf LOG.log"
   ]
  },
  {
   "cell_type": "code",
   "execution_count": 12,
   "id": "35a8bcba",
   "metadata": {
    "ExecuteTime": {
     "end_time": "2023-06-25T10:02:08.570879Z",
     "start_time": "2023-06-25T10:02:08.567627Z"
    }
   },
   "outputs": [],
   "source": [
    "@typ(level=\"info\", console_log_level=\"info\")\n",
    "def sum_(first, second=2):\n",
    "    \"\"\"Sum two numbers.\"\"\"\n",
    "    \n",
    "    result = first + second\n",
    "    return result"
   ]
  },
  {
   "cell_type": "code",
   "execution_count": 13,
   "id": "1fe2cd15",
   "metadata": {
    "ExecuteTime": {
     "end_time": "2023-06-25T10:02:09.034143Z",
     "start_time": "2023-06-25T10:02:09.026934Z"
    }
   },
   "outputs": [
    {
     "name": "stderr",
     "output_type": "stream",
     "text": [
      "Function signature: (first, second=2)\n",
      "type of argument <class 'int'>\n",
      "type of argument <class 'int'>\n",
      "Type of output: <class 'int'>\n"
     ]
    }
   ],
   "source": [
    "dummy = sum_(1,1)"
   ]
  },
  {
   "cell_type": "code",
   "execution_count": 14,
   "id": "c1a74b32",
   "metadata": {
    "ExecuteTime": {
     "end_time": "2023-06-25T10:02:12.033237Z",
     "start_time": "2023-06-25T10:02:11.901086Z"
    }
   },
   "outputs": [
    {
     "name": "stdout",
     "output_type": "stream",
     "text": [
      "2023/06/25 | 11:02:09 | INFO Function signature: (first, second=2)\r\n",
      "2023/06/25 | 11:02:09 | INFO type of argument <class 'int'>\r\n",
      "2023/06/25 | 11:02:09 | INFO type of argument <class 'int'>\r\n",
      "2023/06/25 | 11:02:09 | INFO Type of output: <class 'int'>\r\n"
     ]
    }
   ],
   "source": [
    "cat LOG.log"
   ]
  },
  {
   "cell_type": "code",
   "execution_count": null,
   "id": "b717a1c2",
   "metadata": {},
   "outputs": [],
   "source": []
  }
 ],
 "metadata": {
  "kernelspec": {
   "display_name": "Python 3 (ipykernel)",
   "language": "python",
   "name": "python3"
  },
  "language_info": {
   "codemirror_mode": {
    "name": "ipython",
    "version": 3
   },
   "file_extension": ".py",
   "mimetype": "text/x-python",
   "name": "python",
   "nbconvert_exporter": "python",
   "pygments_lexer": "ipython3",
   "version": "3.9.7"
  },
  "toc": {
   "base_numbering": 1,
   "nav_menu": {},
   "number_sections": true,
   "sideBar": true,
   "skip_h1_title": false,
   "title_cell": "Table of Contents",
   "title_sidebar": "Contents",
   "toc_cell": false,
   "toc_position": {},
   "toc_section_display": true,
   "toc_window_display": false
  },
  "varInspector": {
   "cols": {
    "lenName": 16,
    "lenType": 16,
    "lenVar": 40
   },
   "kernels_config": {
    "python": {
     "delete_cmd_postfix": "",
     "delete_cmd_prefix": "del ",
     "library": "var_list.py",
     "varRefreshCmd": "print(var_dic_list())"
    },
    "r": {
     "delete_cmd_postfix": ") ",
     "delete_cmd_prefix": "rm(",
     "library": "var_list.r",
     "varRefreshCmd": "cat(var_dic_list()) "
    }
   },
   "types_to_exclude": [
    "module",
    "function",
    "builtin_function_or_method",
    "instance",
    "_Feature"
   ],
   "window_display": false
  }
 },
 "nbformat": 4,
 "nbformat_minor": 5
}
