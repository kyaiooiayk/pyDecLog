{
 "cells": [
  {
   "cell_type": "code",
   "execution_count": 1,
   "id": "dc4d14df",
   "metadata": {
    "ExecuteTime": {
     "end_time": "2023-06-26T09:39:20.636184Z",
     "start_time": "2023-06-26T09:39:20.541220Z"
    }
   },
   "outputs": [],
   "source": [
    "import sys\n",
    "sys.path.append(\"../../\")\n",
    "from PyDecLog import typing as typ"
   ]
  },
  {
   "cell_type": "code",
   "execution_count": 2,
   "id": "e70a02fe",
   "metadata": {
    "ExecuteTime": {
     "end_time": "2023-06-26T09:39:20.759725Z",
     "start_time": "2023-06-26T09:39:20.637912Z"
    }
   },
   "outputs": [],
   "source": [
    "rm -rf log_folder"
   ]
  },
  {
   "cell_type": "code",
   "execution_count": 3,
   "id": "04d6842e",
   "metadata": {
    "ExecuteTime": {
     "end_time": "2023-06-26T09:39:20.767927Z",
     "start_time": "2023-06-26T09:39:20.764235Z"
    }
   },
   "outputs": [],
   "source": [
    "@typ\n",
    "def sum_(first, second=2):\n",
    "    \"\"\"Sum two numbers.\"\"\"\n",
    "    \n",
    "    result = first + second\n",
    "    return result"
   ]
  },
  {
   "cell_type": "code",
   "execution_count": 4,
   "id": "cf3c7069",
   "metadata": {
    "ExecuteTime": {
     "end_time": "2023-06-26T09:39:20.774083Z",
     "start_time": "2023-06-26T09:39:20.770061Z"
    }
   },
   "outputs": [],
   "source": [
    "dummy = sum_(1,1)"
   ]
  },
  {
   "cell_type": "code",
   "execution_count": 5,
   "id": "8365a190",
   "metadata": {
    "ExecuteTime": {
     "end_time": "2023-06-26T09:39:20.907727Z",
     "start_time": "2023-06-26T09:39:20.775840Z"
    }
   },
   "outputs": [
    {
     "name": "stdout",
     "output_type": "stream",
     "text": [
      "2023/06/26 | 10:39:20 | DEBUG Function signature: (first, second=2)\r\n",
      "2023/06/26 | 10:39:20 | DEBUG type of argument <class 'int'>\r\n",
      "2023/06/26 | 10:39:20 | DEBUG type of argument <class 'int'>\r\n",
      "2023/06/26 | 10:39:20 | DEBUG Type of output: <class 'int'>\r\n"
     ]
    }
   ],
   "source": [
    "cat LOG.log"
   ]
  },
  {
   "cell_type": "code",
   "execution_count": 6,
   "id": "d332d048",
   "metadata": {
    "ExecuteTime": {
     "end_time": "2023-06-26T09:39:21.036289Z",
     "start_time": "2023-06-26T09:39:20.910711Z"
    }
   },
   "outputs": [],
   "source": [
    "rm -rf LOG.log"
   ]
  },
  {
   "cell_type": "code",
   "execution_count": 7,
   "id": "abbc3fa6",
   "metadata": {
    "ExecuteTime": {
     "end_time": "2023-06-26T09:39:21.042589Z",
     "start_time": "2023-06-26T09:39:21.039044Z"
    }
   },
   "outputs": [],
   "source": [
    "@typ(level=\"info\")\n",
    "def sum_(first, second=2):\n",
    "    \"\"\"Sum two numbers.\"\"\"\n",
    "    \n",
    "    result = first + second\n",
    "    return result"
   ]
  },
  {
   "cell_type": "code",
   "execution_count": 8,
   "id": "b25650eb",
   "metadata": {
    "ExecuteTime": {
     "end_time": "2023-06-26T09:39:21.048540Z",
     "start_time": "2023-06-26T09:39:21.044609Z"
    }
   },
   "outputs": [],
   "source": [
    "dummy = sum_(1,1)"
   ]
  },
  {
   "cell_type": "code",
   "execution_count": 9,
   "id": "ea6be893",
   "metadata": {
    "ExecuteTime": {
     "end_time": "2023-06-26T09:39:21.178601Z",
     "start_time": "2023-06-26T09:39:21.052773Z"
    }
   },
   "outputs": [
    {
     "name": "stdout",
     "output_type": "stream",
     "text": [
      "2023/06/26 | 10:39:21 | INFO Function signature: (first, second=2)\r\n",
      "2023/06/26 | 10:39:21 | INFO type of argument <class 'int'>\r\n",
      "2023/06/26 | 10:39:21 | INFO type of argument <class 'int'>\r\n",
      "2023/06/26 | 10:39:21 | INFO Type of output: <class 'int'>\r\n"
     ]
    }
   ],
   "source": [
    "cat LOG.log"
   ]
  },
  {
   "cell_type": "code",
   "execution_count": 10,
   "id": "7c4d7cda",
   "metadata": {
    "ExecuteTime": {
     "end_time": "2023-06-26T09:39:21.308324Z",
     "start_time": "2023-06-26T09:39:21.181209Z"
    }
   },
   "outputs": [],
   "source": [
    "rm -rf LOG.log"
   ]
  },
  {
   "cell_type": "code",
   "execution_count": 11,
   "id": "35a8bcba",
   "metadata": {
    "ExecuteTime": {
     "end_time": "2023-06-26T09:39:21.315513Z",
     "start_time": "2023-06-26T09:39:21.311984Z"
    }
   },
   "outputs": [],
   "source": [
    "@typ(level=\"info\", console_log_level=\"info\")\n",
    "def sum_(first, second=2):\n",
    "    \"\"\"Sum two numbers.\"\"\"\n",
    "    \n",
    "    result = first + second\n",
    "    return result"
   ]
  },
  {
   "cell_type": "code",
   "execution_count": 12,
   "id": "1fe2cd15",
   "metadata": {
    "ExecuteTime": {
     "end_time": "2023-06-26T09:39:21.323675Z",
     "start_time": "2023-06-26T09:39:21.317405Z"
    }
   },
   "outputs": [
    {
     "name": "stderr",
     "output_type": "stream",
     "text": [
      "Function signature: (first, second=2)\n",
      "type of argument <class 'int'>\n",
      "type of argument <class 'int'>\n",
      "Type of output: <class 'int'>\n"
     ]
    }
   ],
   "source": [
    "dummy = sum_(1,1)"
   ]
  },
  {
   "cell_type": "code",
   "execution_count": 13,
   "id": "c1a74b32",
   "metadata": {
    "ExecuteTime": {
     "end_time": "2023-06-26T09:39:21.453875Z",
     "start_time": "2023-06-26T09:39:21.325486Z"
    }
   },
   "outputs": [
    {
     "name": "stdout",
     "output_type": "stream",
     "text": [
      "2023/06/26 | 10:39:21 | INFO Function signature: (first, second=2)\r\n",
      "2023/06/26 | 10:39:21 | INFO type of argument <class 'int'>\r\n",
      "2023/06/26 | 10:39:21 | INFO type of argument <class 'int'>\r\n",
      "2023/06/26 | 10:39:21 | INFO Type of output: <class 'int'>\r\n"
     ]
    }
   ],
   "source": [
    "cat LOG.log"
   ]
  },
  {
   "cell_type": "code",
   "execution_count": 14,
   "id": "b717a1c2",
   "metadata": {
    "ExecuteTime": {
     "end_time": "2023-06-26T09:39:21.582634Z",
     "start_time": "2023-06-26T09:39:21.456578Z"
    }
   },
   "outputs": [],
   "source": [
    "rm LOG.log"
   ]
  },
  {
   "cell_type": "code",
   "execution_count": 15,
   "id": "fba66bd7",
   "metadata": {
    "ExecuteTime": {
     "end_time": "2023-06-26T09:39:21.600374Z",
     "start_time": "2023-06-26T09:39:21.585761Z"
    }
   },
   "outputs": [
    {
     "name": "stderr",
     "output_type": "stream",
     "text": [
      "Function signature: (first, second=2)\n",
      "type of argument <class 'int'>\n",
      "type of argument <class 'int'>\n",
      "Type of output: <class 'int'>\n"
     ]
    },
    {
     "data": {
      "text/plain": [
       "3"
      ]
     },
     "execution_count": 15,
     "metadata": {},
     "output_type": "execute_result"
    }
   ],
   "source": [
    "@typ(level=\"info\",\n",
    "     console_log_level=\"debug\",\n",
    "     log_file_name=\"test\",\n",
    "     log_file_path=\"./log_folder\")\n",
    "def sum_(first, second=2):\n",
    "    \"\"\"Sum two numbers.\"\"\"\n",
    "    \n",
    "    result = first + second\n",
    "    return result\n",
    "sum_(1, 2)"
   ]
  },
  {
   "cell_type": "code",
   "execution_count": 16,
   "id": "a82526e1",
   "metadata": {
    "ExecuteTime": {
     "end_time": "2023-06-26T09:39:21.731925Z",
     "start_time": "2023-06-26T09:39:21.602388Z"
    }
   },
   "outputs": [
    {
     "name": "stdout",
     "output_type": "stream",
     "text": [
      "2023/06/26 | 10:39:21 | INFO Function signature: (first, second=2)\r\n",
      "2023/06/26 | 10:39:21 | INFO type of argument <class 'int'>\r\n",
      "2023/06/26 | 10:39:21 | INFO type of argument <class 'int'>\r\n",
      "2023/06/26 | 10:39:21 | INFO Type of output: <class 'int'>\r\n"
     ]
    }
   ],
   "source": [
    "cat log_folder/test.log"
   ]
  },
  {
   "cell_type": "code",
   "execution_count": null,
   "id": "b0321ea0",
   "metadata": {},
   "outputs": [],
   "source": []
  }
 ],
 "metadata": {
  "kernelspec": {
   "display_name": "Python 3 (ipykernel)",
   "language": "python",
   "name": "python3"
  },
  "language_info": {
   "codemirror_mode": {
    "name": "ipython",
    "version": 3
   },
   "file_extension": ".py",
   "mimetype": "text/x-python",
   "name": "python",
   "nbconvert_exporter": "python",
   "pygments_lexer": "ipython3",
   "version": "3.9.7"
  },
  "toc": {
   "base_numbering": 1,
   "nav_menu": {},
   "number_sections": true,
   "sideBar": true,
   "skip_h1_title": false,
   "title_cell": "Table of Contents",
   "title_sidebar": "Contents",
   "toc_cell": false,
   "toc_position": {},
   "toc_section_display": true,
   "toc_window_display": false
  },
  "varInspector": {
   "cols": {
    "lenName": 16,
    "lenType": 16,
    "lenVar": 40
   },
   "kernels_config": {
    "python": {
     "delete_cmd_postfix": "",
     "delete_cmd_prefix": "del ",
     "library": "var_list.py",
     "varRefreshCmd": "print(var_dic_list())"
    },
    "r": {
     "delete_cmd_postfix": ") ",
     "delete_cmd_prefix": "rm(",
     "library": "var_list.r",
     "varRefreshCmd": "cat(var_dic_list()) "
    }
   },
   "types_to_exclude": [
    "module",
    "function",
    "builtin_function_or_method",
    "instance",
    "_Feature"
   ],
   "window_display": false
  }
 },
 "nbformat": 4,
 "nbformat_minor": 5
}
