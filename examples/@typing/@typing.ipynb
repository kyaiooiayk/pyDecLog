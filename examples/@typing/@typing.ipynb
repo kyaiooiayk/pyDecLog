{
 "cells": [
  {
   "cell_type": "code",
   "execution_count": 1,
   "id": "dc4d14df",
   "metadata": {
    "ExecuteTime": {
     "end_time": "2023-06-26T15:30:02.355580Z",
     "start_time": "2023-06-26T15:30:02.224566Z"
    }
   },
   "outputs": [],
   "source": [
    "import sys\n",
    "sys.path.append(\"../../\")\n",
    "from PyDecLog import typing as typ"
   ]
  },
  {
   "cell_type": "code",
   "execution_count": 2,
   "id": "e70a02fe",
   "metadata": {
    "ExecuteTime": {
     "end_time": "2023-06-26T15:30:02.493809Z",
     "start_time": "2023-06-26T15:30:02.357798Z"
    }
   },
   "outputs": [],
   "source": [
    "rm -rf log_folder"
   ]
  },
  {
   "cell_type": "code",
   "execution_count": 3,
   "id": "04d6842e",
   "metadata": {
    "ExecuteTime": {
     "end_time": "2023-06-26T15:30:02.501703Z",
     "start_time": "2023-06-26T15:30:02.497770Z"
    }
   },
   "outputs": [],
   "source": [
    "@typ\n",
    "def sum_(first, second=2):\n",
    "    \"\"\"Sum two numbers.\"\"\"\n",
    "    \n",
    "    result = first + second\n",
    "    return result"
   ]
  },
  {
   "cell_type": "code",
   "execution_count": 4,
   "id": "cf3c7069",
   "metadata": {
    "ExecuteTime": {
     "end_time": "2023-06-26T15:30:02.508297Z",
     "start_time": "2023-06-26T15:30:02.503955Z"
    }
   },
   "outputs": [],
   "source": [
    "dummy = sum_(1,1)"
   ]
  },
  {
   "cell_type": "code",
   "execution_count": 5,
   "id": "8365a190",
   "metadata": {
    "ExecuteTime": {
     "end_time": "2023-06-26T15:30:02.637702Z",
     "start_time": "2023-06-26T15:30:02.510101Z"
    }
   },
   "outputs": [
    {
     "name": "stdout",
     "output_type": "stream",
     "text": [
      "2023/06/26 | 16:30:02 | DEBUG Function signature: (first, second=2)\r\n",
      "2023/06/26 | 16:30:02 | DEBUG Argument's type: <class 'int'>\r\n",
      "2023/06/26 | 16:30:02 | DEBUG Argument's type: <class 'int'>\r\n",
      "2023/06/26 | 16:30:02 | DEBUG Type of output: <class 'int'>\r\n"
     ]
    }
   ],
   "source": [
    "cat LOG.log"
   ]
  },
  {
   "cell_type": "code",
   "execution_count": 6,
   "id": "d332d048",
   "metadata": {
    "ExecuteTime": {
     "end_time": "2023-06-26T15:30:02.764871Z",
     "start_time": "2023-06-26T15:30:02.640118Z"
    }
   },
   "outputs": [],
   "source": [
    "rm -rf LOG.log"
   ]
  },
  {
   "cell_type": "code",
   "execution_count": 7,
   "id": "abbc3fa6",
   "metadata": {
    "ExecuteTime": {
     "end_time": "2023-06-26T15:30:02.772393Z",
     "start_time": "2023-06-26T15:30:02.768424Z"
    }
   },
   "outputs": [],
   "source": [
    "@typ(level=\"info\")\n",
    "def sum_(first, second=2):\n",
    "    \"\"\"Sum two numbers.\"\"\"\n",
    "    \n",
    "    result = first + second\n",
    "    return result"
   ]
  },
  {
   "cell_type": "code",
   "execution_count": 8,
   "id": "b25650eb",
   "metadata": {
    "ExecuteTime": {
     "end_time": "2023-06-26T15:30:02.778965Z",
     "start_time": "2023-06-26T15:30:02.774784Z"
    }
   },
   "outputs": [],
   "source": [
    "dummy = sum_(1,1)"
   ]
  },
  {
   "cell_type": "code",
   "execution_count": 9,
   "id": "ea6be893",
   "metadata": {
    "ExecuteTime": {
     "end_time": "2023-06-26T15:30:02.911296Z",
     "start_time": "2023-06-26T15:30:02.785005Z"
    }
   },
   "outputs": [
    {
     "name": "stdout",
     "output_type": "stream",
     "text": [
      "2023/06/26 | 16:30:02 | INFO Function signature: (first, second=2)\r\n",
      "2023/06/26 | 16:30:02 | INFO Argument's type: <class 'int'>\r\n",
      "2023/06/26 | 16:30:02 | INFO Argument's type: <class 'int'>\r\n",
      "2023/06/26 | 16:30:02 | INFO Type of output: <class 'int'>\r\n"
     ]
    }
   ],
   "source": [
    "cat LOG.log"
   ]
  },
  {
   "cell_type": "code",
   "execution_count": 10,
   "id": "7c4d7cda",
   "metadata": {
    "ExecuteTime": {
     "end_time": "2023-06-26T15:30:03.043052Z",
     "start_time": "2023-06-26T15:30:02.913908Z"
    }
   },
   "outputs": [],
   "source": [
    "rm -rf LOG.log"
   ]
  },
  {
   "cell_type": "code",
   "execution_count": 11,
   "id": "35a8bcba",
   "metadata": {
    "ExecuteTime": {
     "end_time": "2023-06-26T15:30:03.050067Z",
     "start_time": "2023-06-26T15:30:03.045806Z"
    }
   },
   "outputs": [],
   "source": [
    "@typ(level=\"info\", console_log_level=\"info\")\n",
    "def sum_(first, second=2):\n",
    "    \"\"\"Sum two numbers.\"\"\"\n",
    "    \n",
    "    result = first + second\n",
    "    return result"
   ]
  },
  {
   "cell_type": "code",
   "execution_count": 12,
   "id": "1fe2cd15",
   "metadata": {
    "ExecuteTime": {
     "end_time": "2023-06-26T15:30:03.060779Z",
     "start_time": "2023-06-26T15:30:03.053189Z"
    }
   },
   "outputs": [
    {
     "name": "stderr",
     "output_type": "stream",
     "text": [
      "Function signature: (first, second=2)\n",
      "Argument's type: <class 'int'>\n",
      "Argument's type: <class 'int'>\n",
      "Type of output: <class 'int'>\n"
     ]
    }
   ],
   "source": [
    "dummy = sum_(1,1)"
   ]
  },
  {
   "cell_type": "code",
   "execution_count": 13,
   "id": "c1a74b32",
   "metadata": {
    "ExecuteTime": {
     "end_time": "2023-06-26T15:30:03.193687Z",
     "start_time": "2023-06-26T15:30:03.063265Z"
    }
   },
   "outputs": [
    {
     "name": "stdout",
     "output_type": "stream",
     "text": [
      "2023/06/26 | 16:30:03 | INFO Function signature: (first, second=2)\r\n",
      "2023/06/26 | 16:30:03 | INFO Argument's type: <class 'int'>\r\n",
      "2023/06/26 | 16:30:03 | INFO Argument's type: <class 'int'>\r\n",
      "2023/06/26 | 16:30:03 | INFO Type of output: <class 'int'>\r\n"
     ]
    }
   ],
   "source": [
    "cat LOG.log"
   ]
  },
  {
   "cell_type": "code",
   "execution_count": 14,
   "id": "b717a1c2",
   "metadata": {
    "ExecuteTime": {
     "end_time": "2023-06-26T15:30:03.329520Z",
     "start_time": "2023-06-26T15:30:03.197376Z"
    }
   },
   "outputs": [],
   "source": [
    "rm LOG.log"
   ]
  },
  {
   "cell_type": "code",
   "execution_count": 15,
   "id": "fba66bd7",
   "metadata": {
    "ExecuteTime": {
     "end_time": "2023-06-26T15:30:03.351264Z",
     "start_time": "2023-06-26T15:30:03.334505Z"
    }
   },
   "outputs": [
    {
     "name": "stderr",
     "output_type": "stream",
     "text": [
      "Function signature: (first, second=2)\n",
      "Argument's type: <class 'int'>\n",
      "Argument's type: <class 'int'>\n",
      "Type of output: <class 'int'>\n"
     ]
    },
    {
     "data": {
      "text/plain": [
       "3"
      ]
     },
     "execution_count": 15,
     "metadata": {},
     "output_type": "execute_result"
    }
   ],
   "source": [
    "@typ(level=\"info\",\n",
    "     console_log_level=\"debug\",\n",
    "     log_file_name=\"test\",\n",
    "     log_file_path=\"./log_folder\")\n",
    "def sum_(first, second=2):\n",
    "    \"\"\"Sum two numbers.\"\"\"\n",
    "    \n",
    "    result = first + second\n",
    "    return result\n",
    "sum_(1, 2)"
   ]
  },
  {
   "cell_type": "code",
   "execution_count": 16,
   "id": "a82526e1",
   "metadata": {
    "ExecuteTime": {
     "end_time": "2023-06-26T15:30:03.484111Z",
     "start_time": "2023-06-26T15:30:03.353677Z"
    }
   },
   "outputs": [
    {
     "name": "stdout",
     "output_type": "stream",
     "text": [
      "2023/06/26 | 16:30:03 | INFO Function signature: (first, second=2)\r\n",
      "2023/06/26 | 16:30:03 | INFO Argument's type: <class 'int'>\r\n",
      "2023/06/26 | 16:30:03 | INFO Argument's type: <class 'int'>\r\n",
      "2023/06/26 | 16:30:03 | INFO Type of output: <class 'int'>\r\n"
     ]
    }
   ],
   "source": [
    "cat log_folder/test.log"
   ]
  },
  {
   "cell_type": "code",
   "execution_count": null,
   "id": "b0321ea0",
   "metadata": {},
   "outputs": [],
   "source": []
  }
 ],
 "metadata": {
  "kernelspec": {
   "display_name": "Python 3 (ipykernel)",
   "language": "python",
   "name": "python3"
  },
  "language_info": {
   "codemirror_mode": {
    "name": "ipython",
    "version": 3
   },
   "file_extension": ".py",
   "mimetype": "text/x-python",
   "name": "python",
   "nbconvert_exporter": "python",
   "pygments_lexer": "ipython3",
   "version": "3.9.7"
  },
  "toc": {
   "base_numbering": 1,
   "nav_menu": {},
   "number_sections": true,
   "sideBar": true,
   "skip_h1_title": false,
   "title_cell": "Table of Contents",
   "title_sidebar": "Contents",
   "toc_cell": false,
   "toc_position": {},
   "toc_section_display": true,
   "toc_window_display": false
  },
  "varInspector": {
   "cols": {
    "lenName": 16,
    "lenType": 16,
    "lenVar": 40
   },
   "kernels_config": {
    "python": {
     "delete_cmd_postfix": "",
     "delete_cmd_prefix": "del ",
     "library": "var_list.py",
     "varRefreshCmd": "print(var_dic_list())"
    },
    "r": {
     "delete_cmd_postfix": ") ",
     "delete_cmd_prefix": "rm(",
     "library": "var_list.r",
     "varRefreshCmd": "cat(var_dic_list()) "
    }
   },
   "types_to_exclude": [
    "module",
    "function",
    "builtin_function_or_method",
    "instance",
    "_Feature"
   ],
   "window_display": false
  }
 },
 "nbformat": 4,
 "nbformat_minor": 5
}
