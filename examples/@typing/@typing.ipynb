{
 "cells": [
  {
   "cell_type": "code",
   "execution_count": 1,
   "id": "dc4d14df",
   "metadata": {
    "ExecuteTime": {
     "end_time": "2023-06-26T20:22:57.418796Z",
     "start_time": "2023-06-26T20:22:57.329402Z"
    }
   },
   "outputs": [],
   "source": [
    "import sys\n",
    "sys.path.append(\"../../\")\n",
    "from PyDecLog import typing as typ"
   ]
  },
  {
   "cell_type": "code",
   "execution_count": 2,
   "id": "e70a02fe",
   "metadata": {
    "ExecuteTime": {
     "end_time": "2023-06-26T20:22:57.543495Z",
     "start_time": "2023-06-26T20:22:57.420666Z"
    }
   },
   "outputs": [],
   "source": [
    "rm -rf log_folder"
   ]
  },
  {
   "cell_type": "code",
   "execution_count": 3,
   "id": "04d6842e",
   "metadata": {
    "ExecuteTime": {
     "end_time": "2023-06-26T20:22:57.551190Z",
     "start_time": "2023-06-26T20:22:57.547877Z"
    }
   },
   "outputs": [],
   "source": [
    "@typ\n",
    "def sum_(first, second=2):\n",
    "    \"\"\"Sum two numbers.\"\"\"\n",
    "    \n",
    "    result = first + second\n",
    "    return result"
   ]
  },
  {
   "cell_type": "code",
   "execution_count": 4,
   "id": "cf3c7069",
   "metadata": {
    "ExecuteTime": {
     "end_time": "2023-06-26T20:22:57.557064Z",
     "start_time": "2023-06-26T20:22:57.553285Z"
    }
   },
   "outputs": [],
   "source": [
    "dummy = sum_(1,1)"
   ]
  },
  {
   "cell_type": "code",
   "execution_count": 5,
   "id": "8365a190",
   "metadata": {
    "ExecuteTime": {
     "end_time": "2023-06-26T20:22:57.683674Z",
     "start_time": "2023-06-26T20:22:57.558841Z"
    }
   },
   "outputs": [
    {
     "name": "stdout",
     "output_type": "stream",
     "text": [
      "2023/06/26 | 21:22:57 | DEBUG Function signature: (first, second=2)\r\n",
      "2023/06/26 | 21:22:57 | DEBUG Argument's type: <class 'int'>\r\n",
      "2023/06/26 | 21:22:57 | DEBUG Argument's type: <class 'int'>\r\n",
      "2023/06/26 | 21:22:57 | DEBUG Type of output: <class 'int'>\r\n"
     ]
    }
   ],
   "source": [
    "cat LOG.log"
   ]
  },
  {
   "cell_type": "code",
   "execution_count": 6,
   "id": "d332d048",
   "metadata": {
    "ExecuteTime": {
     "end_time": "2023-06-26T20:22:57.814094Z",
     "start_time": "2023-06-26T20:22:57.686446Z"
    }
   },
   "outputs": [],
   "source": [
    "rm -rf LOG.log"
   ]
  },
  {
   "cell_type": "code",
   "execution_count": 7,
   "id": "abbc3fa6",
   "metadata": {
    "ExecuteTime": {
     "end_time": "2023-06-26T20:22:57.820736Z",
     "start_time": "2023-06-26T20:22:57.817562Z"
    }
   },
   "outputs": [],
   "source": [
    "@typ(level=\"info\")\n",
    "def sum_(first, second=2):\n",
    "    \"\"\"Sum two numbers.\"\"\"\n",
    "    \n",
    "    result = first + second\n",
    "    return result"
   ]
  },
  {
   "cell_type": "code",
   "execution_count": 8,
   "id": "b25650eb",
   "metadata": {
    "ExecuteTime": {
     "end_time": "2023-06-26T20:22:57.826522Z",
     "start_time": "2023-06-26T20:22:57.822734Z"
    }
   },
   "outputs": [],
   "source": [
    "dummy = sum_(1,1)"
   ]
  },
  {
   "cell_type": "code",
   "execution_count": 9,
   "id": "ea6be893",
   "metadata": {
    "ExecuteTime": {
     "end_time": "2023-06-26T20:22:57.956634Z",
     "start_time": "2023-06-26T20:22:57.830576Z"
    }
   },
   "outputs": [
    {
     "name": "stdout",
     "output_type": "stream",
     "text": [
      "2023/06/26 | 21:22:57 | INFO Function signature: (first, second=2)\r\n",
      "2023/06/26 | 21:22:57 | INFO Argument's type: <class 'int'>\r\n",
      "2023/06/26 | 21:22:57 | INFO Argument's type: <class 'int'>\r\n",
      "2023/06/26 | 21:22:57 | INFO Type of output: <class 'int'>\r\n"
     ]
    }
   ],
   "source": [
    "cat LOG.log"
   ]
  },
  {
   "cell_type": "code",
   "execution_count": 10,
   "id": "7c4d7cda",
   "metadata": {
    "ExecuteTime": {
     "end_time": "2023-06-26T20:22:58.084276Z",
     "start_time": "2023-06-26T20:22:57.959197Z"
    }
   },
   "outputs": [],
   "source": [
    "rm -rf LOG.log"
   ]
  },
  {
   "cell_type": "code",
   "execution_count": 11,
   "id": "35a8bcba",
   "metadata": {
    "ExecuteTime": {
     "end_time": "2023-06-26T20:22:58.090919Z",
     "start_time": "2023-06-26T20:22:58.087455Z"
    }
   },
   "outputs": [],
   "source": [
    "@typ(level=\"info\", console_log_level=\"info\")\n",
    "def sum_(first, second=2):\n",
    "    \"\"\"Sum two numbers.\"\"\"\n",
    "    \n",
    "    result = first + second\n",
    "    return result"
   ]
  },
  {
   "cell_type": "code",
   "execution_count": 12,
   "id": "1fe2cd15",
   "metadata": {
    "ExecuteTime": {
     "end_time": "2023-06-26T20:22:58.098995Z",
     "start_time": "2023-06-26T20:22:58.092950Z"
    }
   },
   "outputs": [
    {
     "name": "stderr",
     "output_type": "stream",
     "text": [
      "Function signature: (first, second=2)\n",
      "Argument's type: <class 'int'>\n",
      "Argument's type: <class 'int'>\n",
      "Type of output: <class 'int'>\n"
     ]
    }
   ],
   "source": [
    "dummy = sum_(1,1)"
   ]
  },
  {
   "cell_type": "code",
   "execution_count": 13,
   "id": "c1a74b32",
   "metadata": {
    "ExecuteTime": {
     "end_time": "2023-06-26T20:22:58.225673Z",
     "start_time": "2023-06-26T20:22:58.101197Z"
    }
   },
   "outputs": [
    {
     "name": "stdout",
     "output_type": "stream",
     "text": [
      "2023/06/26 | 21:22:58 | INFO Function signature: (first, second=2)\r\n",
      "2023/06/26 | 21:22:58 | INFO Argument's type: <class 'int'>\r\n",
      "2023/06/26 | 21:22:58 | INFO Argument's type: <class 'int'>\r\n",
      "2023/06/26 | 21:22:58 | INFO Type of output: <class 'int'>\r\n"
     ]
    }
   ],
   "source": [
    "cat LOG.log"
   ]
  },
  {
   "cell_type": "code",
   "execution_count": 14,
   "id": "b717a1c2",
   "metadata": {
    "ExecuteTime": {
     "end_time": "2023-06-26T20:22:58.354715Z",
     "start_time": "2023-06-26T20:22:58.228133Z"
    }
   },
   "outputs": [],
   "source": [
    "rm LOG.log"
   ]
  },
  {
   "cell_type": "code",
   "execution_count": 15,
   "id": "fba66bd7",
   "metadata": {
    "ExecuteTime": {
     "end_time": "2023-06-26T20:22:58.372525Z",
     "start_time": "2023-06-26T20:22:58.357460Z"
    }
   },
   "outputs": [
    {
     "name": "stderr",
     "output_type": "stream",
     "text": [
      "Function signature: (first, second=2)\n",
      "Argument's type: <class 'int'>\n",
      "Argument's type: <class 'int'>\n",
      "Type of output: <class 'int'>\n"
     ]
    },
    {
     "data": {
      "text/plain": [
       "3"
      ]
     },
     "execution_count": 15,
     "metadata": {},
     "output_type": "execute_result"
    }
   ],
   "source": [
    "@typ(level=\"info\",\n",
    "     console_log_level=\"debug\",\n",
    "     log_file_name=\"test\",\n",
    "     log_file_path=\"./log_folder\")\n",
    "def sum_(first, second=2):\n",
    "    \"\"\"Sum two numbers.\"\"\"\n",
    "    \n",
    "    result = first + second\n",
    "    return result\n",
    "sum_(1, 2)"
   ]
  },
  {
   "cell_type": "code",
   "execution_count": 16,
   "id": "a82526e1",
   "metadata": {
    "ExecuteTime": {
     "end_time": "2023-06-26T20:22:58.500480Z",
     "start_time": "2023-06-26T20:22:58.374623Z"
    }
   },
   "outputs": [
    {
     "name": "stdout",
     "output_type": "stream",
     "text": [
      "2023/06/26 | 21:22:58 | INFO Function signature: (first, second=2)\r\n",
      "2023/06/26 | 21:22:58 | INFO Argument's type: <class 'int'>\r\n",
      "2023/06/26 | 21:22:58 | INFO Argument's type: <class 'int'>\r\n",
      "2023/06/26 | 21:22:58 | INFO Type of output: <class 'int'>\r\n"
     ]
    }
   ],
   "source": [
    "cat log_folder/test.log"
   ]
  },
  {
   "cell_type": "code",
   "execution_count": null,
   "id": "b0321ea0",
   "metadata": {},
   "outputs": [],
   "source": []
  }
 ],
 "metadata": {
  "kernelspec": {
   "display_name": "Python 3 (ipykernel)",
   "language": "python",
   "name": "python3"
  },
  "language_info": {
   "codemirror_mode": {
    "name": "ipython",
    "version": 3
   },
   "file_extension": ".py",
   "mimetype": "text/x-python",
   "name": "python",
   "nbconvert_exporter": "python",
   "pygments_lexer": "ipython3",
   "version": "3.9.7"
  },
  "toc": {
   "base_numbering": 1,
   "nav_menu": {},
   "number_sections": true,
   "sideBar": true,
   "skip_h1_title": false,
   "title_cell": "Table of Contents",
   "title_sidebar": "Contents",
   "toc_cell": false,
   "toc_position": {},
   "toc_section_display": true,
   "toc_window_display": false
  },
  "varInspector": {
   "cols": {
    "lenName": 16,
    "lenType": 16,
    "lenVar": 40
   },
   "kernels_config": {
    "python": {
     "delete_cmd_postfix": "",
     "delete_cmd_prefix": "del ",
     "library": "var_list.py",
     "varRefreshCmd": "print(var_dic_list())"
    },
    "r": {
     "delete_cmd_postfix": ") ",
     "delete_cmd_prefix": "rm(",
     "library": "var_list.r",
     "varRefreshCmd": "cat(var_dic_list()) "
    }
   },
   "types_to_exclude": [
    "module",
    "function",
    "builtin_function_or_method",
    "instance",
    "_Feature"
   ],
   "window_display": false
  }
 },
 "nbformat": 4,
 "nbformat_minor": 5
}
