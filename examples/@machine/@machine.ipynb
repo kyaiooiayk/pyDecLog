{
 "cells": [
  {
   "cell_type": "code",
   "execution_count": 1,
   "id": "8fedeb7a",
   "metadata": {
    "ExecuteTime": {
     "end_time": "2023-06-29T09:16:37.430540Z",
     "start_time": "2023-06-29T09:16:37.332237Z"
    }
   },
   "outputs": [],
   "source": [
    "from pyDecLog import machine as mac"
   ]
  },
  {
   "cell_type": "code",
   "execution_count": 2,
   "id": "806612dd",
   "metadata": {
    "ExecuteTime": {
     "end_time": "2023-06-29T09:16:37.558049Z",
     "start_time": "2023-06-29T09:16:37.432146Z"
    }
   },
   "outputs": [],
   "source": [
    "rm LOG.log"
   ]
  },
  {
   "cell_type": "code",
   "execution_count": 3,
   "id": "abee7750",
   "metadata": {
    "ExecuteTime": {
     "end_time": "2023-06-29T09:16:37.563528Z",
     "start_time": "2023-06-29T09:16:37.560977Z"
    }
   },
   "outputs": [],
   "source": [
    "@mac\n",
    "def sum_(first, second=2):\n",
    "    \"\"\"Sum two numbers.\"\"\"\n",
    "    \n",
    "    result = first + second\n",
    "    return result"
   ]
  },
  {
   "cell_type": "code",
   "execution_count": 4,
   "id": "7b565587",
   "metadata": {
    "ExecuteTime": {
     "end_time": "2023-06-29T09:16:37.568378Z",
     "start_time": "2023-06-29T09:16:37.564782Z"
    }
   },
   "outputs": [],
   "source": [
    "dummy = sum_(1,1)"
   ]
  },
  {
   "cell_type": "code",
   "execution_count": 5,
   "id": "ffdb0a30",
   "metadata": {
    "ExecuteTime": {
     "end_time": "2023-06-29T09:16:37.690418Z",
     "start_time": "2023-06-29T09:16:37.569730Z"
    }
   },
   "outputs": [
    {
     "name": "stdout",
     "output_type": "stream",
     "text": [
      "2023/06/29 | 10:16:37 | DEBUG Platform: macOS-10.16-x86_64-i386-64bit\r\n",
      "2023/06/29 | 10:16:37 | DEBUG System: Darwin\r\n",
      "2023/06/29 | 10:16:37 | DEBUG Release: 22.5.0\r\n",
      "2023/06/29 | 10:16:37 | DEBUG Version: Darwin Kernel Version 22.5.0: Mon Apr 24 20:51:50 PDT 2023; root:xnu-8796.121.2~5/RELEASE_X86_64\r\n",
      "2023/06/29 | 10:16:37 | DEBUG No LOGICAL CPUs? 12\r\n",
      "2023/06/29 | 10:16:37 | DEBUG No PHYSICAL CPUs? 6\r\n",
      "2023/06/29 | 10:16:37 | DEBUG RAM 17.179869184 [Gb]\r\n"
     ]
    }
   ],
   "source": [
    "cat LOG.log"
   ]
  }
 ],
 "metadata": {
  "kernelspec": {
   "display_name": "trainingAI",
   "language": "python",
   "name": "trainingai"
  },
  "language_info": {
   "codemirror_mode": {
    "name": "ipython",
    "version": 3
   },
   "file_extension": ".py",
   "mimetype": "text/x-python",
   "name": "python",
   "nbconvert_exporter": "python",
   "pygments_lexer": "ipython3",
   "version": "3.9.7"
  },
  "toc": {
   "base_numbering": 1,
   "nav_menu": {},
   "number_sections": true,
   "sideBar": true,
   "skip_h1_title": false,
   "title_cell": "Table of Contents",
   "title_sidebar": "Contents",
   "toc_cell": false,
   "toc_position": {},
   "toc_section_display": true,
   "toc_window_display": false
  },
  "varInspector": {
   "cols": {
    "lenName": 16,
    "lenType": 16,
    "lenVar": 40
   },
   "kernels_config": {
    "python": {
     "delete_cmd_postfix": "",
     "delete_cmd_prefix": "del ",
     "library": "var_list.py",
     "varRefreshCmd": "print(var_dic_list())"
    },
    "r": {
     "delete_cmd_postfix": ") ",
     "delete_cmd_prefix": "rm(",
     "library": "var_list.r",
     "varRefreshCmd": "cat(var_dic_list()) "
    }
   },
   "types_to_exclude": [
    "module",
    "function",
    "builtin_function_or_method",
    "instance",
    "_Feature"
   ],
   "window_display": false
  }
 },
 "nbformat": 4,
 "nbformat_minor": 5
}
