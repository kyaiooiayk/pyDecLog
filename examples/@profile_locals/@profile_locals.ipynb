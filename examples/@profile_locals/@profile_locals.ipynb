{
 "cells": [
  {
   "cell_type": "code",
   "execution_count": 8,
   "id": "dc4d14df",
   "metadata": {
    "ExecuteTime": {
     "end_time": "2023-06-25T10:00:07.109311Z",
     "start_time": "2023-06-25T10:00:07.106157Z"
    }
   },
   "outputs": [],
   "source": [
    "import sys\n",
    "sys.path.append(\"../../\")\n",
    "from PyDecLog import profile_locals as profile\n",
    "from PyDecLog import lprint\n",
    "from pympler.asizeof import asizeof"
   ]
  },
  {
   "cell_type": "code",
   "execution_count": 1,
   "id": "6decb965",
   "metadata": {
    "ExecuteTime": {
     "end_time": "2023-06-26T09:01:32.673089Z",
     "start_time": "2023-06-26T09:01:32.546239Z"
    }
   },
   "outputs": [],
   "source": [
    "rm LOG.log"
   ]
  },
  {
   "cell_type": "code",
   "execution_count": 4,
   "id": "04d6842e",
   "metadata": {
    "ExecuteTime": {
     "end_time": "2023-06-25T09:59:29.684951Z",
     "start_time": "2023-06-25T09:59:29.681909Z"
    }
   },
   "outputs": [],
   "source": [
    "@profile\n",
    "def func(test=False):\n",
    "    local1 = 1\n",
    "    local2 = 2\n",
    "    return 1"
   ]
  },
  {
   "cell_type": "code",
   "execution_count": 5,
   "id": "7e4782d1",
   "metadata": {
    "ExecuteTime": {
     "end_time": "2023-06-25T09:59:31.491767Z",
     "start_time": "2023-06-25T09:59:31.489216Z"
    }
   },
   "outputs": [],
   "source": [
    "output = func()"
   ]
  },
  {
   "cell_type": "code",
   "execution_count": 6,
   "id": "16f4c167",
   "metadata": {
    "ExecuteTime": {
     "end_time": "2023-06-25T09:59:37.670094Z",
     "start_time": "2023-06-25T09:59:37.659397Z"
    }
   },
   "outputs": [
    {
     "data": {
      "text/plain": [
       "{'test': False, 'local1': 1, 'local2': 2}"
      ]
     },
     "execution_count": 6,
     "metadata": {},
     "output_type": "execute_result"
    }
   ],
   "source": [
    "func.locals"
   ]
  },
  {
   "cell_type": "code",
   "execution_count": 9,
   "id": "94b954b8",
   "metadata": {
    "ExecuteTime": {
     "end_time": "2023-06-25T10:00:09.235392Z",
     "start_time": "2023-06-25T10:00:09.227443Z"
    }
   },
   "outputs": [
    {
     "name": "stderr",
     "output_type": "stream",
     "text": [
      "Variable: test | value: False | type: <class 'bool'> | size: 24\n",
      "Variable: local1 | value: 1 | type: <class 'int'> | size: 32\n",
      "Variable: local2 | value: 2 | type: <class 'int'> | size: 32\n"
     ]
    }
   ],
   "source": [
    "for key, value in func.locals.items():\n",
    "    msg = f\"Variable: {key} | value: {value} | type: {type(value)} | size: {asizeof(value)}\"\n",
    "\n",
    "    lprint(console_log_level=\"debug\").debug(msg)"
   ]
  },
  {
   "cell_type": "code",
   "execution_count": 10,
   "id": "c1a74b32",
   "metadata": {
    "ExecuteTime": {
     "end_time": "2023-06-25T10:00:11.485134Z",
     "start_time": "2023-06-25T10:00:11.352607Z"
    }
   },
   "outputs": [
    {
     "name": "stdout",
     "output_type": "stream",
     "text": [
      "2023/06/25 | 11:00:09 | DEBUG Variable: test | value: False | type: <class 'bool'> | size: 24\r\n",
      "2023/06/25 | 11:00:09 | DEBUG Variable: local1 | value: 1 | type: <class 'int'> | size: 32\r\n",
      "2023/06/25 | 11:00:09 | DEBUG Variable: local2 | value: 2 | type: <class 'int'> | size: 32\r\n"
     ]
    }
   ],
   "source": [
    "cat LOG.log"
   ]
  },
  {
   "cell_type": "code",
   "execution_count": null,
   "id": "a70d1584",
   "metadata": {},
   "outputs": [],
   "source": []
  }
 ],
 "metadata": {
  "kernelspec": {
   "display_name": "Python 3 (ipykernel)",
   "language": "python",
   "name": "python3"
  },
  "language_info": {
   "codemirror_mode": {
    "name": "ipython",
    "version": 3
   },
   "file_extension": ".py",
   "mimetype": "text/x-python",
   "name": "python",
   "nbconvert_exporter": "python",
   "pygments_lexer": "ipython3",
   "version": "3.9.7"
  },
  "toc": {
   "base_numbering": 1,
   "nav_menu": {},
   "number_sections": true,
   "sideBar": true,
   "skip_h1_title": false,
   "title_cell": "Table of Contents",
   "title_sidebar": "Contents",
   "toc_cell": false,
   "toc_position": {},
   "toc_section_display": true,
   "toc_window_display": false
  },
  "varInspector": {
   "cols": {
    "lenName": 16,
    "lenType": 16,
    "lenVar": 40
   },
   "kernels_config": {
    "python": {
     "delete_cmd_postfix": "",
     "delete_cmd_prefix": "del ",
     "library": "var_list.py",
     "varRefreshCmd": "print(var_dic_list())"
    },
    "r": {
     "delete_cmd_postfix": ") ",
     "delete_cmd_prefix": "rm(",
     "library": "var_list.r",
     "varRefreshCmd": "cat(var_dic_list()) "
    }
   },
   "types_to_exclude": [
    "module",
    "function",
    "builtin_function_or_method",
    "instance",
    "_Feature"
   ],
   "window_display": false
  }
 },
 "nbformat": 4,
 "nbformat_minor": 5
}
