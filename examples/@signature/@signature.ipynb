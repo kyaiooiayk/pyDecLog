{
 "cells": [
  {
   "cell_type": "code",
   "execution_count": 7,
   "id": "e3c787b6",
   "metadata": {
    "ExecuteTime": {
     "end_time": "2023-06-26T06:26:59.006297Z",
     "start_time": "2023-06-26T06:26:59.003529Z"
    }
   },
   "outputs": [],
   "source": [
    "import sys\n",
    "sys.path.append(\"../../\")\n",
    "from PyDecLog import signature as sign"
   ]
  },
  {
   "cell_type": "code",
   "execution_count": 8,
   "id": "db919c87",
   "metadata": {
    "ExecuteTime": {
     "end_time": "2023-06-26T06:26:59.477272Z",
     "start_time": "2023-06-26T06:26:59.474424Z"
    }
   },
   "outputs": [],
   "source": [
    "@sign\n",
    "def sum_(first, second=2):\n",
    "    \"\"\"Sum two numbers.\"\"\"\n",
    "\n",
    "    print(\"Some message on console\")\n",
    "    result = first + second    \n",
    "    print(\"Result is: \" + str(result))\n",
    "    return result"
   ]
  },
  {
   "cell_type": "code",
   "execution_count": 9,
   "id": "7c6ee4eb",
   "metadata": {
    "ExecuteTime": {
     "end_time": "2023-06-26T06:27:00.018638Z",
     "start_time": "2023-06-26T06:27:00.013901Z"
    }
   },
   "outputs": [
    {
     "name": "stdout",
     "output_type": "stream",
     "text": [
      "Some message on console\n",
      "Result is: 2\n"
     ]
    }
   ],
   "source": [
    "dummy = sum_(1,1)"
   ]
  },
  {
   "cell_type": "code",
   "execution_count": 10,
   "id": "ca5aa749",
   "metadata": {
    "ExecuteTime": {
     "end_time": "2023-06-26T06:27:00.595567Z",
     "start_time": "2023-06-26T06:27:00.465438Z"
    }
   },
   "outputs": [
    {
     "name": "stdout",
     "output_type": "stream",
     "text": [
      "2023/06/26 | 07:27:00 | DEBUG Method's name: sum_\r\n",
      "2023/06/26 | 07:27:00 | DEBUG Method's signature:(first, second=2)\r\n"
     ]
    }
   ],
   "source": [
    "cat LOG.log"
   ]
  },
  {
   "cell_type": "code",
   "execution_count": null,
   "id": "e2539146",
   "metadata": {},
   "outputs": [],
   "source": []
  }
 ],
 "metadata": {
  "kernelspec": {
   "display_name": "trainingAI",
   "language": "python",
   "name": "trainingai"
  },
  "language_info": {
   "codemirror_mode": {
    "name": "ipython",
    "version": 3
   },
   "file_extension": ".py",
   "mimetype": "text/x-python",
   "name": "python",
   "nbconvert_exporter": "python",
   "pygments_lexer": "ipython3",
   "version": "3.9.7"
  },
  "toc": {
   "base_numbering": 1,
   "nav_menu": {},
   "number_sections": true,
   "sideBar": true,
   "skip_h1_title": false,
   "title_cell": "Table of Contents",
   "title_sidebar": "Contents",
   "toc_cell": false,
   "toc_position": {},
   "toc_section_display": true,
   "toc_window_display": false
  },
  "varInspector": {
   "cols": {
    "lenName": 16,
    "lenType": 16,
    "lenVar": 40
   },
   "kernels_config": {
    "python": {
     "delete_cmd_postfix": "",
     "delete_cmd_prefix": "del ",
     "library": "var_list.py",
     "varRefreshCmd": "print(var_dic_list())"
    },
    "r": {
     "delete_cmd_postfix": ") ",
     "delete_cmd_prefix": "rm(",
     "library": "var_list.r",
     "varRefreshCmd": "cat(var_dic_list()) "
    }
   },
   "types_to_exclude": [
    "module",
    "function",
    "builtin_function_or_method",
    "instance",
    "_Feature"
   ],
   "window_display": false
  }
 },
 "nbformat": 4,
 "nbformat_minor": 5
}
