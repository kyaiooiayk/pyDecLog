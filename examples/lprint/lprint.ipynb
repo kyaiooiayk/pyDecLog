{
 "cells": [
  {
   "cell_type": "code",
   "execution_count": 1,
   "id": "9cb27718",
   "metadata": {
    "ExecuteTime": {
     "end_time": "2023-06-26T20:23:18.370650Z",
     "start_time": "2023-06-26T20:23:18.275458Z"
    }
   },
   "outputs": [],
   "source": [
    "from pyDecLog import lprint"
   ]
  },
  {
   "cell_type": "code",
   "execution_count": 2,
   "id": "45c5909a",
   "metadata": {
    "ExecuteTime": {
     "end_time": "2023-06-26T20:23:18.495096Z",
     "start_time": "2023-06-26T20:23:18.372218Z"
    }
   },
   "outputs": [
    {
     "name": "stdout",
     "output_type": "stream",
     "text": [
      "rm: LOG.log: No such file or directory\r\n"
     ]
    }
   ],
   "source": [
    "rm LOG.log"
   ]
  },
  {
   "cell_type": "code",
   "execution_count": 3,
   "id": "8384c3a8",
   "metadata": {
    "ExecuteTime": {
     "end_time": "2023-06-26T20:23:18.503331Z",
     "start_time": "2023-06-26T20:23:18.498920Z"
    }
   },
   "outputs": [],
   "source": [
    "lprint(console_log_level=\"critical\").info(\"simple message\") "
   ]
  },
  {
   "cell_type": "code",
   "execution_count": 4,
   "id": "4769e6bc",
   "metadata": {
    "ExecuteTime": {
     "end_time": "2023-06-26T20:23:18.508389Z",
     "start_time": "2023-06-26T20:23:18.505218Z"
    }
   },
   "outputs": [],
   "source": [
    "lprint(console_log_level=\"critical\").debug(\"simple message\") "
   ]
  },
  {
   "cell_type": "code",
   "execution_count": 5,
   "id": "dc49abfd",
   "metadata": {
    "ExecuteTime": {
     "end_time": "2023-06-26T20:23:18.513512Z",
     "start_time": "2023-06-26T20:23:18.510266Z"
    }
   },
   "outputs": [],
   "source": [
    "lprint(console_log_level=\"critical\").warning(\"simple message\") "
   ]
  },
  {
   "cell_type": "code",
   "execution_count": 6,
   "id": "574e4456",
   "metadata": {
    "ExecuteTime": {
     "end_time": "2023-06-26T20:23:18.518705Z",
     "start_time": "2023-06-26T20:23:18.515432Z"
    }
   },
   "outputs": [],
   "source": [
    "lprint(console_log_level=\"critical\").error(\"simple message\") "
   ]
  },
  {
   "cell_type": "code",
   "execution_count": 7,
   "id": "8fb665d2",
   "metadata": {
    "ExecuteTime": {
     "end_time": "2023-06-26T20:23:18.524295Z",
     "start_time": "2023-06-26T20:23:18.520635Z"
    }
   },
   "outputs": [
    {
     "name": "stderr",
     "output_type": "stream",
     "text": [
      "simple CRITICAL message\n"
     ]
    }
   ],
   "source": [
    "lprint(console_log_level=\"critical\").critical(\"simple CRITICAL message\") "
   ]
  },
  {
   "cell_type": "code",
   "execution_count": 8,
   "id": "406e0cf9",
   "metadata": {
    "ExecuteTime": {
     "end_time": "2023-06-26T20:23:18.651519Z",
     "start_time": "2023-06-26T20:23:18.526144Z"
    }
   },
   "outputs": [
    {
     "name": "stdout",
     "output_type": "stream",
     "text": [
      "2023/06/26 | 21:23:18 | INFO simple message\r\n",
      "2023/06/26 | 21:23:18 | DEBUG simple message\r\n",
      "2023/06/26 | 21:23:18 | WARNING simple message\r\n",
      "2023/06/26 | 21:23:18 | ERROR simple message\r\n",
      "2023/06/26 | 21:23:18 | CRITICAL simple CRITICAL message\r\n"
     ]
    }
   ],
   "source": [
    "cat LOG.log"
   ]
  },
  {
   "cell_type": "code",
   "execution_count": 9,
   "id": "8f069c4c",
   "metadata": {
    "ExecuteTime": {
     "end_time": "2023-06-26T20:23:18.783230Z",
     "start_time": "2023-06-26T20:23:18.656762Z"
    }
   },
   "outputs": [],
   "source": [
    "rm LOG.log"
   ]
  },
  {
   "cell_type": "code",
   "execution_count": 10,
   "id": "56a6761b",
   "metadata": {
    "ExecuteTime": {
     "end_time": "2023-06-26T20:23:18.792233Z",
     "start_time": "2023-06-26T20:23:18.785994Z"
    }
   },
   "outputs": [
    {
     "name": "stderr",
     "output_type": "stream",
     "text": [
      "Results 5 is: 3\n"
     ]
    }
   ],
   "source": [
    "lprint = lprint(console_log_level=\"critical\")\n",
    "def sum_(first=0, second=0):\n",
    "    \"\"\"Sum two numbers.\n",
    "    \"\"\"\n",
    "\n",
    "    result = first + second    \n",
    "    lprint.info(\"Results 1 is: \" + str(result))    \n",
    "    lprint.debug(\"Results 2 is: \" + str(result))\n",
    "    lprint.warning(\"Results 3 is: \" + str(result))\n",
    "    lprint.error(\"Results 4 is: \" + str(result))\n",
    "    lprint.critical(\"Results 5 is: \" + str(result))\n",
    "    \n",
    "    return result\n",
    "dummy = sum_(1,2)"
   ]
  },
  {
   "cell_type": "code",
   "execution_count": 11,
   "id": "b85bfd41",
   "metadata": {
    "ExecuteTime": {
     "end_time": "2023-06-26T20:23:18.919396Z",
     "start_time": "2023-06-26T20:23:18.794006Z"
    }
   },
   "outputs": [
    {
     "name": "stdout",
     "output_type": "stream",
     "text": [
      "2023/06/26 | 21:23:18 | INFO Results 1 is: 3\r\n",
      "2023/06/26 | 21:23:18 | DEBUG Results 2 is: 3\r\n",
      "2023/06/26 | 21:23:18 | WARNING Results 3 is: 3\r\n",
      "2023/06/26 | 21:23:18 | ERROR Results 4 is: 3\r\n",
      "2023/06/26 | 21:23:18 | CRITICAL Results 5 is: 3\r\n"
     ]
    }
   ],
   "source": [
    "cat LOG.log"
   ]
  },
  {
   "cell_type": "code",
   "execution_count": 12,
   "id": "e6849545",
   "metadata": {
    "ExecuteTime": {
     "end_time": "2023-06-26T20:23:18.924494Z",
     "start_time": "2023-06-26T20:23:18.921759Z"
    }
   },
   "outputs": [],
   "source": [
    "from time import time"
   ]
  },
  {
   "cell_type": "code",
   "execution_count": 13,
   "id": "8a6da5cd",
   "metadata": {
    "ExecuteTime": {
     "end_time": "2023-06-26T20:23:18.936977Z",
     "start_time": "2023-06-26T20:23:18.926443Z"
    }
   },
   "outputs": [
    {
     "data": {
      "text/plain": [
       "3.409385681152344e-05"
      ]
     },
     "execution_count": 13,
     "metadata": {},
     "output_type": "execute_result"
    }
   ],
   "source": [
    "a = time()\n",
    "b = time()\n",
    "b-a"
   ]
  },
  {
   "cell_type": "code",
   "execution_count": null,
   "id": "bb2c6349",
   "metadata": {},
   "outputs": [],
   "source": []
  }
 ],
 "metadata": {
  "kernelspec": {
   "display_name": "trainingAI",
   "language": "python",
   "name": "trainingai"
  },
  "language_info": {
   "codemirror_mode": {
    "name": "ipython",
    "version": 3
   },
   "file_extension": ".py",
   "mimetype": "text/x-python",
   "name": "python",
   "nbconvert_exporter": "python",
   "pygments_lexer": "ipython3",
   "version": "3.9.7"
  },
  "toc": {
   "base_numbering": 1,
   "nav_menu": {},
   "number_sections": true,
   "sideBar": true,
   "skip_h1_title": false,
   "title_cell": "Table of Contents",
   "title_sidebar": "Contents",
   "toc_cell": false,
   "toc_position": {},
   "toc_section_display": true,
   "toc_window_display": false
  },
  "varInspector": {
   "cols": {
    "lenName": 16,
    "lenType": 16,
    "lenVar": 40
   },
   "kernels_config": {
    "python": {
     "delete_cmd_postfix": "",
     "delete_cmd_prefix": "del ",
     "library": "var_list.py",
     "varRefreshCmd": "print(var_dic_list())"
    },
    "r": {
     "delete_cmd_postfix": ") ",
     "delete_cmd_prefix": "rm(",
     "library": "var_list.r",
     "varRefreshCmd": "cat(var_dic_list()) "
    }
   },
   "types_to_exclude": [
    "module",
    "function",
    "builtin_function_or_method",
    "instance",
    "_Feature"
   ],
   "window_display": false
  }
 },
 "nbformat": 4,
 "nbformat_minor": 5
}
