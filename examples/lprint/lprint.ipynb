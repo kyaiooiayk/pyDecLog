{
 "cells": [
  {
   "cell_type": "code",
   "execution_count": null,
   "id": "9cb27718",
   "metadata": {
    "ExecuteTime": {
     "end_time": "2023-06-29T09:06:19.334464Z",
     "start_time": "2023-06-29T09:06:19.209779Z"
    }
   },
   "outputs": [],
   "source": [
    "from pyDecLog import lprint"
   ]
  },
  {
   "cell_type": "code",
   "execution_count": null,
   "id": "45c5909a",
   "metadata": {
    "ExecuteTime": {
     "end_time": "2023-06-27T08:20:07.863992Z",
     "start_time": "2023-06-27T08:20:07.741557Z"
    }
   },
   "outputs": [],
   "source": [
    "rm LOG.log"
   ]
  },
  {
   "cell_type": "code",
   "execution_count": null,
   "id": "8384c3a8",
   "metadata": {
    "ExecuteTime": {
     "end_time": "2023-06-27T08:20:07.872199Z",
     "start_time": "2023-06-27T08:20:07.868291Z"
    }
   },
   "outputs": [],
   "source": [
    "lprint(console_log_level=\"critical\").info(\"simple message\") "
   ]
  },
  {
   "cell_type": "code",
   "execution_count": null,
   "id": "4769e6bc",
   "metadata": {
    "ExecuteTime": {
     "end_time": "2023-06-27T08:20:07.877535Z",
     "start_time": "2023-06-27T08:20:07.874011Z"
    }
   },
   "outputs": [],
   "source": [
    "lprint(console_log_level=\"critical\").debug(\"simple message\") "
   ]
  },
  {
   "cell_type": "code",
   "execution_count": null,
   "id": "dc49abfd",
   "metadata": {
    "ExecuteTime": {
     "end_time": "2023-06-27T08:20:07.882597Z",
     "start_time": "2023-06-27T08:20:07.879448Z"
    }
   },
   "outputs": [],
   "source": [
    "lprint(console_log_level=\"critical\").warning(\"simple message\") "
   ]
  },
  {
   "cell_type": "code",
   "execution_count": null,
   "id": "574e4456",
   "metadata": {
    "ExecuteTime": {
     "end_time": "2023-06-27T08:20:07.887116Z",
     "start_time": "2023-06-27T08:20:07.884154Z"
    }
   },
   "outputs": [],
   "source": [
    "lprint(console_log_level=\"critical\").error(\"simple message\") "
   ]
  },
  {
   "cell_type": "code",
   "execution_count": null,
   "id": "8fb665d2",
   "metadata": {
    "ExecuteTime": {
     "end_time": "2023-06-27T08:20:07.892617Z",
     "start_time": "2023-06-27T08:20:07.888842Z"
    }
   },
   "outputs": [],
   "source": [
    "lprint(console_log_level=\"critical\").critical(\"simple CRITICAL message\") "
   ]
  },
  {
   "cell_type": "code",
   "execution_count": null,
   "id": "406e0cf9",
   "metadata": {
    "ExecuteTime": {
     "end_time": "2023-06-27T08:20:08.018051Z",
     "start_time": "2023-06-27T08:20:07.894519Z"
    }
   },
   "outputs": [],
   "source": [
    "cat LOG.log"
   ]
  },
  {
   "cell_type": "code",
   "execution_count": null,
   "id": "8f069c4c",
   "metadata": {
    "ExecuteTime": {
     "end_time": "2023-06-27T08:20:08.151067Z",
     "start_time": "2023-06-27T08:20:08.023489Z"
    }
   },
   "outputs": [],
   "source": [
    "rm LOG.log"
   ]
  },
  {
   "cell_type": "code",
   "execution_count": null,
   "id": "56a6761b",
   "metadata": {
    "ExecuteTime": {
     "end_time": "2023-06-27T08:20:08.161165Z",
     "start_time": "2023-06-27T08:20:08.153609Z"
    }
   },
   "outputs": [],
   "source": [
    "lprint = lprint(console_log_level=\"critical\")\n",
    "def sum_(first=0, second=0):\n",
    "    \"\"\"Sum two numbers.\n",
    "    \"\"\"\n",
    "\n",
    "    result = first + second    \n",
    "    lprint.info(\"Results 1 is: \" + str(result))    \n",
    "    lprint.debug(\"Results 2 is: \" + str(result))\n",
    "    lprint.warning(\"Results 3 is: \" + str(result))\n",
    "    lprint.error(\"Results 4 is: \" + str(result))\n",
    "    lprint.critical(\"Results 5 is: \" + str(result))\n",
    "    \n",
    "    return result\n",
    "dummy = sum_(1,2)"
   ]
  },
  {
   "cell_type": "code",
   "execution_count": null,
   "id": "b85bfd41",
   "metadata": {
    "ExecuteTime": {
     "end_time": "2023-06-27T08:20:08.292458Z",
     "start_time": "2023-06-27T08:20:08.163599Z"
    }
   },
   "outputs": [],
   "source": [
    "cat LOG.log"
   ]
  },
  {
   "cell_type": "markdown",
   "id": "45223a88",
   "metadata": {},
   "source": [
    "# `try` and `except` behaviour\n",
    "<hr style=\"border:2px solid black\"> </hr>"
   ]
  },
  {
   "cell_type": "markdown",
   "id": "ece4a456",
   "metadata": {},
   "source": [
    "- Logging an exception in python with an error can be done in the `logging.exception()` method.\n",
    "- This function logs a message with level `ERROR` on this logger. "
   ]
  },
  {
   "cell_type": "code",
   "execution_count": null,
   "id": "bb2c6349",
   "metadata": {
    "ExecuteTime": {
     "end_time": "2023-06-27T08:20:08.425251Z",
     "start_time": "2023-06-27T08:20:08.295718Z"
    }
   },
   "outputs": [],
   "source": [
    "rm LOG.log"
   ]
  },
  {
   "cell_type": "code",
   "execution_count": null,
   "id": "4c06ea42",
   "metadata": {
    "ExecuteTime": {
     "end_time": "2023-06-27T08:20:08.433921Z",
     "start_time": "2023-06-27T08:20:08.428526Z"
    }
   },
   "outputs": [],
   "source": [
    "from pyDecLog import lprint\n",
    "\n",
    "try:\n",
    "    printf(\"GeeksforGeeks\")\n",
    "except Exception as Argument:\n",
    "    # Equivalent to logging.exception(\"Error occurred while printing pyDecLog\")    \n",
    "    lprint(console_log_level=\"error\").error(\"Error occurred while printing pyDecLog\")"
   ]
  },
  {
   "cell_type": "code",
   "execution_count": null,
   "id": "01442a6c",
   "metadata": {
    "ExecuteTime": {
     "end_time": "2023-06-27T08:20:08.562108Z",
     "start_time": "2023-06-27T08:20:08.435722Z"
    }
   },
   "outputs": [],
   "source": [
    "cat LOG.log"
   ]
  }
 ],
 "metadata": {
  "kernelspec": {
   "display_name": "trainingAI",
   "language": "python",
   "name": "trainingai"
  },
  "language_info": {
   "codemirror_mode": {
    "name": "ipython",
    "version": 3
   },
   "file_extension": ".py",
   "mimetype": "text/x-python",
   "name": "python",
   "nbconvert_exporter": "python",
   "pygments_lexer": "ipython3",
   "version": "3.9.7"
  },
  "toc": {
   "base_numbering": 1,
   "nav_menu": {},
   "number_sections": true,
   "sideBar": true,
   "skip_h1_title": false,
   "title_cell": "Table of Contents",
   "title_sidebar": "Contents",
   "toc_cell": false,
   "toc_position": {},
   "toc_section_display": true,
   "toc_window_display": false
  },
  "varInspector": {
   "cols": {
    "lenName": 16,
    "lenType": 16,
    "lenVar": 40
   },
   "kernels_config": {
    "python": {
     "delete_cmd_postfix": "",
     "delete_cmd_prefix": "del ",
     "library": "var_list.py",
     "varRefreshCmd": "print(var_dic_list())"
    },
    "r": {
     "delete_cmd_postfix": ") ",
     "delete_cmd_prefix": "rm(",
     "library": "var_list.r",
     "varRefreshCmd": "cat(var_dic_list()) "
    }
   },
   "types_to_exclude": [
    "module",
    "function",
    "builtin_function_or_method",
    "instance",
    "_Feature"
   ],
   "window_display": false
  }
 },
 "nbformat": 4,
 "nbformat_minor": 5
}
