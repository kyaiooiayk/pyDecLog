{
 "cells": [
  {
   "cell_type": "code",
   "execution_count": 2,
   "id": "9cb27718",
   "metadata": {
    "ExecuteTime": {
     "end_time": "2023-06-25T10:12:51.698634Z",
     "start_time": "2023-06-25T10:12:51.678303Z"
    }
   },
   "outputs": [],
   "source": [
    "import sys\n",
    "sys.path.append(\"../../\")\n",
    "from PyDecLog import lprint"
   ]
  },
  {
   "cell_type": "code",
   "execution_count": 3,
   "id": "8384c3a8",
   "metadata": {
    "ExecuteTime": {
     "end_time": "2023-06-25T10:11:18.683275Z",
     "start_time": "2023-06-25T10:11:18.679690Z"
    }
   },
   "outputs": [],
   "source": [
    "lprint(console_log_level=\"critical\").info(\"simple message\") "
   ]
  },
  {
   "cell_type": "code",
   "execution_count": 4,
   "id": "4769e6bc",
   "metadata": {
    "ExecuteTime": {
     "end_time": "2023-06-25T10:11:25.793316Z",
     "start_time": "2023-06-25T10:11:25.789720Z"
    }
   },
   "outputs": [],
   "source": [
    "lprint(console_log_level=\"critical\").debug(\"simple message\") "
   ]
  },
  {
   "cell_type": "code",
   "execution_count": 5,
   "id": "dc49abfd",
   "metadata": {
    "ExecuteTime": {
     "end_time": "2023-06-25T10:11:32.429225Z",
     "start_time": "2023-06-25T10:11:32.425874Z"
    }
   },
   "outputs": [],
   "source": [
    "lprint(console_log_level=\"critical\").warning(\"simple message\") "
   ]
  },
  {
   "cell_type": "code",
   "execution_count": 6,
   "id": "574e4456",
   "metadata": {
    "ExecuteTime": {
     "end_time": "2023-06-25T10:11:39.074737Z",
     "start_time": "2023-06-25T10:11:39.071330Z"
    }
   },
   "outputs": [],
   "source": [
    "lprint(console_log_level=\"critical\").error(\"simple message\") "
   ]
  },
  {
   "cell_type": "code",
   "execution_count": 7,
   "id": "8fb665d2",
   "metadata": {
    "ExecuteTime": {
     "end_time": "2023-06-25T10:11:44.482837Z",
     "start_time": "2023-06-25T10:11:44.478425Z"
    }
   },
   "outputs": [
    {
     "name": "stderr",
     "output_type": "stream",
     "text": [
      "simple CRITICAL message\n"
     ]
    }
   ],
   "source": [
    "lprint(console_log_level=\"critical\").critical(\"simple CRITICAL message\") "
   ]
  },
  {
   "cell_type": "code",
   "execution_count": 8,
   "id": "406e0cf9",
   "metadata": {
    "ExecuteTime": {
     "end_time": "2023-06-25T10:11:49.964785Z",
     "start_time": "2023-06-25T10:11:49.828577Z"
    }
   },
   "outputs": [
    {
     "name": "stdout",
     "output_type": "stream",
     "text": [
      "2023/06/25 | 11:11:18 | INFO simple message\r\n",
      "2023/06/25 | 11:11:25 | DEBUG simple message\r\n",
      "2023/06/25 | 11:11:32 | WARNING simple message\r\n",
      "2023/06/25 | 11:11:39 | ERROR simple message\r\n",
      "2023/06/25 | 11:11:44 | CRITICAL simple CRITICAL message\r\n"
     ]
    }
   ],
   "source": [
    "cat LOG.log"
   ]
  },
  {
   "cell_type": "code",
   "execution_count": 1,
   "id": "8f069c4c",
   "metadata": {
    "ExecuteTime": {
     "end_time": "2023-06-25T10:12:47.621256Z",
     "start_time": "2023-06-25T10:12:47.491872Z"
    }
   },
   "outputs": [],
   "source": [
    "rm LOG.log"
   ]
  },
  {
   "cell_type": "code",
   "execution_count": 4,
   "id": "56a6761b",
   "metadata": {
    "ExecuteTime": {
     "end_time": "2023-06-25T10:13:34.474327Z",
     "start_time": "2023-06-25T10:13:34.467340Z"
    }
   },
   "outputs": [
    {
     "name": "stderr",
     "output_type": "stream",
     "text": [
      "Results 5 is: 3\n"
     ]
    }
   ],
   "source": [
    "lprint = lprint(console_log_level=\"critical\")\n",
    "def sum_(first=0, second=0):\n",
    "    \"\"\"Sum two numbers.\n",
    "    \"\"\"\n",
    "\n",
    "    result = first + second    \n",
    "    lprint.info(\"Results 1 is: \" + str(result))    \n",
    "    lprint.debug(\"Results 2 is: \" + str(result))\n",
    "    lprint.warning(\"Results 3 is: \" + str(result))\n",
    "    lprint.error(\"Results 4 is: \" + str(result))\n",
    "    lprint.critical(\"Results 5 is: \" + str(result))\n",
    "    \n",
    "    return result\n",
    "dummy = sum_(1,2)"
   ]
  },
  {
   "cell_type": "code",
   "execution_count": 5,
   "id": "b85bfd41",
   "metadata": {
    "ExecuteTime": {
     "end_time": "2023-06-25T10:13:43.804232Z",
     "start_time": "2023-06-25T10:13:43.675552Z"
    }
   },
   "outputs": [
    {
     "name": "stdout",
     "output_type": "stream",
     "text": [
      "2023/06/25 | 11:13:34 | INFO Results 1 is: 3\r\n",
      "2023/06/25 | 11:13:34 | DEBUG Results 2 is: 3\r\n",
      "2023/06/25 | 11:13:34 | WARNING Results 3 is: 3\r\n",
      "2023/06/25 | 11:13:34 | ERROR Results 4 is: 3\r\n",
      "2023/06/25 | 11:13:34 | CRITICAL Results 5 is: 3\r\n"
     ]
    }
   ],
   "source": [
    "cat LOG.log"
   ]
  },
  {
   "cell_type": "code",
   "execution_count": null,
   "id": "e6849545",
   "metadata": {},
   "outputs": [],
   "source": []
  }
 ],
 "metadata": {
  "kernelspec": {
   "display_name": "trainingAI",
   "language": "python",
   "name": "trainingai"
  },
  "language_info": {
   "codemirror_mode": {
    "name": "ipython",
    "version": 3
   },
   "file_extension": ".py",
   "mimetype": "text/x-python",
   "name": "python",
   "nbconvert_exporter": "python",
   "pygments_lexer": "ipython3",
   "version": "3.9.7"
  },
  "toc": {
   "base_numbering": 1,
   "nav_menu": {},
   "number_sections": true,
   "sideBar": true,
   "skip_h1_title": false,
   "title_cell": "Table of Contents",
   "title_sidebar": "Contents",
   "toc_cell": false,
   "toc_position": {},
   "toc_section_display": true,
   "toc_window_display": false
  },
  "varInspector": {
   "cols": {
    "lenName": 16,
    "lenType": 16,
    "lenVar": 40
   },
   "kernels_config": {
    "python": {
     "delete_cmd_postfix": "",
     "delete_cmd_prefix": "del ",
     "library": "var_list.py",
     "varRefreshCmd": "print(var_dic_list())"
    },
    "r": {
     "delete_cmd_postfix": ") ",
     "delete_cmd_prefix": "rm(",
     "library": "var_list.r",
     "varRefreshCmd": "cat(var_dic_list()) "
    }
   },
   "types_to_exclude": [
    "module",
    "function",
    "builtin_function_or_method",
    "instance",
    "_Feature"
   ],
   "window_display": false
  }
 },
 "nbformat": 4,
 "nbformat_minor": 5
}
