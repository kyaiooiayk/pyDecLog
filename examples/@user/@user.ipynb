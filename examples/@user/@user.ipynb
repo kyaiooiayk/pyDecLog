{
 "cells": [
  {
   "cell_type": "code",
   "execution_count": null,
   "id": "8fedeb7a",
   "metadata": {
    "ExecuteTime": {
     "end_time": "2023-06-29T09:16:53.399463Z",
     "start_time": "2023-06-29T09:16:53.303365Z"
    }
   },
   "outputs": [],
   "source": [
    "from pyDecLog import user"
   ]
  },
  {
   "cell_type": "code",
   "execution_count": null,
   "id": "806612dd",
   "metadata": {
    "ExecuteTime": {
     "end_time": "2023-06-29T09:16:53.529772Z",
     "start_time": "2023-06-29T09:16:53.400993Z"
    }
   },
   "outputs": [],
   "source": [
    "rm LOG.log"
   ]
  },
  {
   "cell_type": "code",
   "execution_count": null,
   "id": "abee7750",
   "metadata": {
    "ExecuteTime": {
     "end_time": "2023-06-29T09:16:53.535357Z",
     "start_time": "2023-06-29T09:16:53.532687Z"
    }
   },
   "outputs": [],
   "source": [
    "@user\n",
    "def sum_(first, second=2):\n",
    "    \"\"\"Sum two numbers.\"\"\"\n",
    "    \n",
    "    result = first + second\n",
    "    return result"
   ]
  },
  {
   "cell_type": "code",
   "execution_count": null,
   "id": "7b565587",
   "metadata": {
    "ExecuteTime": {
     "end_time": "2023-06-29T09:16:53.539703Z",
     "start_time": "2023-06-29T09:16:53.536956Z"
    }
   },
   "outputs": [],
   "source": [
    "dummy = sum_(1,1)"
   ]
  },
  {
   "cell_type": "code",
   "execution_count": null,
   "id": "ffdb0a30",
   "metadata": {
    "ExecuteTime": {
     "end_time": "2023-06-29T09:16:53.663471Z",
     "start_time": "2023-06-29T09:16:53.540908Z"
    }
   },
   "outputs": [],
   "source": [
    "cat LOG.log"
   ]
  },
  {
   "cell_type": "code",
   "execution_count": null,
   "id": "08a2c64b",
   "metadata": {},
   "outputs": [],
   "source": []
  }
 ],
 "metadata": {
  "kernelspec": {
   "display_name": "trainingAI",
   "language": "python",
   "name": "trainingai"
  },
  "language_info": {
   "codemirror_mode": {
    "name": "ipython",
    "version": 3
   },
   "file_extension": ".py",
   "mimetype": "text/x-python",
   "name": "python",
   "nbconvert_exporter": "python",
   "pygments_lexer": "ipython3",
   "version": "3.9.7"
  },
  "toc": {
   "base_numbering": 1,
   "nav_menu": {},
   "number_sections": true,
   "sideBar": true,
   "skip_h1_title": false,
   "title_cell": "Table of Contents",
   "title_sidebar": "Contents",
   "toc_cell": false,
   "toc_position": {},
   "toc_section_display": true,
   "toc_window_display": false
  },
  "varInspector": {
   "cols": {
    "lenName": 16,
    "lenType": 16,
    "lenVar": 40
   },
   "kernels_config": {
    "python": {
     "delete_cmd_postfix": "",
     "delete_cmd_prefix": "del ",
     "library": "var_list.py",
     "varRefreshCmd": "print(var_dic_list())"
    },
    "r": {
     "delete_cmd_postfix": ") ",
     "delete_cmd_prefix": "rm(",
     "library": "var_list.r",
     "varRefreshCmd": "cat(var_dic_list()) "
    }
   },
   "types_to_exclude": [
    "module",
    "function",
    "builtin_function_or_method",
    "instance",
    "_Feature"
   ],
   "window_display": false
  }
 },
 "nbformat": 4,
 "nbformat_minor": 5
}
