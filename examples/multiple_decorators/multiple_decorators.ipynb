{
 "cells": [
  {
   "cell_type": "code",
   "execution_count": 1,
   "id": "de24a110",
   "metadata": {
    "ExecuteTime": {
     "end_time": "2023-06-25T10:24:27.199550Z",
     "start_time": "2023-06-25T10:24:27.189698Z"
    }
   },
   "outputs": [],
   "source": [
    "import sys\n",
    "sys.path.append(\"../../\")\n",
    "from PyDecLog import arguments as arg\n",
    "from PyDecLog import signature as sign\n",
    "from PyDecLog import message as mes\n",
    "from PyDecLog import timing as tim\n",
    "from PyDecLog import lprint\n",
    "from PyDecLog import description as doc\n",
    "from PyDecLog import memory as mem\n",
    "import time"
   ]
  },
  {
   "cell_type": "code",
   "execution_count": 2,
   "id": "d1aaae69",
   "metadata": {
    "ExecuteTime": {
     "end_time": "2023-06-25T10:24:33.029358Z",
     "start_time": "2023-06-25T10:24:33.025486Z"
    }
   },
   "outputs": [],
   "source": [
    "@doc\n",
    "@sign\n",
    "@arg\n",
    "@tim\n",
    "@mes\n",
    "def sum_(first, second=2):\n",
    "    \"\"\"Sum two numbers.\"\"\"\n",
    "\n",
    "    print(\"Some message on console\")\n",
    "    result = first + second\n",
    "    time.sleep(2)\n",
    "    print(\"Result is: \" + str(result))\n",
    "    return result"
   ]
  },
  {
   "cell_type": "code",
   "execution_count": 3,
   "id": "2ec36230",
   "metadata": {
    "ExecuteTime": {
     "end_time": "2023-06-25T10:24:41.048277Z",
     "start_time": "2023-06-25T10:24:39.040041Z"
    }
   },
   "outputs": [],
   "source": [
    "%timeit\n",
    "dummy = sum_(1,1)"
   ]
  },
  {
   "cell_type": "code",
   "execution_count": 4,
   "id": "f5c35439",
   "metadata": {
    "ExecuteTime": {
     "end_time": "2023-06-25T10:24:56.252379Z",
     "start_time": "2023-06-25T10:24:56.117317Z"
    }
   },
   "outputs": [
    {
     "name": "stdout",
     "output_type": "stream",
     "text": [
      "2023/06/25 | 11:24:39 | DEBUG Method's description: Sum two numbers.\r\n",
      "2023/06/25 | 11:24:39 | DEBUG Method's name: sum_\r\n",
      "2023/06/25 | 11:24:39 | DEBUG Method's signature:(first, second=2)\r\n",
      "2023/06/25 | 11:24:39 | DEBUG Method's name: sum_\r\n",
      "2023/06/25 | 11:24:39 | DEBUG Method's args: (1, 1)\r\n",
      "2023/06/25 | 11:24:39 | DEBUG Method's kwargs: {}\r\n",
      "2023/06/25 | 11:24:41 | INFO Some message on console\r\n",
      "2023/06/25 | 11:24:41 | INFO Result is: 2\r\n",
      "2023/06/25 | 11:24:41 | DEBUG sum_ was executed in: 2.003 sec\r\n"
     ]
    }
   ],
   "source": [
    "cat LOG.log"
   ]
  },
  {
   "cell_type": "code",
   "execution_count": null,
   "id": "16088581",
   "metadata": {},
   "outputs": [],
   "source": []
  }
 ],
 "metadata": {
  "kernelspec": {
   "display_name": "trainingAI",
   "language": "python",
   "name": "trainingai"
  },
  "language_info": {
   "codemirror_mode": {
    "name": "ipython",
    "version": 3
   },
   "file_extension": ".py",
   "mimetype": "text/x-python",
   "name": "python",
   "nbconvert_exporter": "python",
   "pygments_lexer": "ipython3",
   "version": "3.9.7"
  },
  "toc": {
   "base_numbering": 1,
   "nav_menu": {},
   "number_sections": true,
   "sideBar": true,
   "skip_h1_title": false,
   "title_cell": "Table of Contents",
   "title_sidebar": "Contents",
   "toc_cell": false,
   "toc_position": {},
   "toc_section_display": true,
   "toc_window_display": false
  },
  "varInspector": {
   "cols": {
    "lenName": 16,
    "lenType": 16,
    "lenVar": 40
   },
   "kernels_config": {
    "python": {
     "delete_cmd_postfix": "",
     "delete_cmd_prefix": "del ",
     "library": "var_list.py",
     "varRefreshCmd": "print(var_dic_list())"
    },
    "r": {
     "delete_cmd_postfix": ") ",
     "delete_cmd_prefix": "rm(",
     "library": "var_list.r",
     "varRefreshCmd": "cat(var_dic_list()) "
    }
   },
   "types_to_exclude": [
    "module",
    "function",
    "builtin_function_or_method",
    "instance",
    "_Feature"
   ],
   "window_display": false
  }
 },
 "nbformat": 4,
 "nbformat_minor": 5
}
