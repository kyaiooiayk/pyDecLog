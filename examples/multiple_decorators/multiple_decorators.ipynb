{
 "cells": [
  {
   "cell_type": "code",
   "execution_count": 1,
   "id": "de24a110",
   "metadata": {
    "ExecuteTime": {
     "end_time": "2023-06-26T20:23:43.113411Z",
     "start_time": "2023-06-26T20:23:43.027001Z"
    }
   },
   "outputs": [],
   "source": [
    "from pyDecLog import arguments as arg\n",
    "from pyDecLog import signature as sign\n",
    "from pyDecLog import message as mes\n",
    "from pyDecLog import timing as tim\n",
    "from pyDecLog import lprint\n",
    "from pyDecLog import description as doc\n",
    "from pyDecLog import memory as mem\n",
    "import time"
   ]
  },
  {
   "cell_type": "code",
   "execution_count": 2,
   "id": "d1aaae69",
   "metadata": {
    "ExecuteTime": {
     "end_time": "2023-06-26T20:23:43.118176Z",
     "start_time": "2023-06-26T20:23:43.115033Z"
    }
   },
   "outputs": [],
   "source": [
    "@doc\n",
    "@sign\n",
    "@arg\n",
    "@tim\n",
    "@mes\n",
    "def sum_(first, second=2):\n",
    "    \"\"\"Sum two numbers.\"\"\"\n",
    "\n",
    "    print(\"Some message on console\")\n",
    "    result = first + second\n",
    "    time.sleep(2)\n",
    "    print(\"Result is: \" + str(result))\n",
    "    return result"
   ]
  },
  {
   "cell_type": "code",
   "execution_count": 3,
   "id": "2ec36230",
   "metadata": {
    "ExecuteTime": {
     "end_time": "2023-06-26T20:23:45.130641Z",
     "start_time": "2023-06-26T20:23:43.120967Z"
    }
   },
   "outputs": [],
   "source": [
    "%timeit\n",
    "dummy = sum_(1,1)"
   ]
  },
  {
   "cell_type": "code",
   "execution_count": 4,
   "id": "f5c35439",
   "metadata": {
    "ExecuteTime": {
     "end_time": "2023-06-26T20:23:45.262547Z",
     "start_time": "2023-06-26T20:23:45.133318Z"
    }
   },
   "outputs": [
    {
     "name": "stdout",
     "output_type": "stream",
     "text": [
      "2023/06/26 | 21:23:43 | DEBUG Method's description: Sum two numbers.\r\n",
      "2023/06/26 | 21:23:43 | DEBUG Method's name: sum_\r\n",
      "2023/06/26 | 21:23:43 | DEBUG Method's signature: (first, second=2)\r\n",
      "2023/06/26 | 21:23:43 | DEBUG Method's name: sum_\r\n",
      "2023/06/26 | 21:23:43 | DEBUG Method's args: (1, 1)\r\n",
      "2023/06/26 | 21:23:43 | DEBUG Method's kwargs: {}\r\n",
      "2023/06/26 | 21:23:45 | INFO Some message on console\r\n",
      "2023/06/26 | 21:23:45 | INFO Result is: 2\r\n",
      "2023/06/26 | 21:23:45 | DEBUG sum_ was executed in: 2.005 sec\r\n"
     ]
    }
   ],
   "source": [
    "cat LOG.log"
   ]
  },
  {
   "cell_type": "code",
   "execution_count": null,
   "id": "16088581",
   "metadata": {},
   "outputs": [],
   "source": []
  }
 ],
 "metadata": {
  "kernelspec": {
   "display_name": "trainingAI",
   "language": "python",
   "name": "trainingai"
  },
  "language_info": {
   "codemirror_mode": {
    "name": "ipython",
    "version": 3
   },
   "file_extension": ".py",
   "mimetype": "text/x-python",
   "name": "python",
   "nbconvert_exporter": "python",
   "pygments_lexer": "ipython3",
   "version": "3.9.7"
  },
  "toc": {
   "base_numbering": 1,
   "nav_menu": {},
   "number_sections": true,
   "sideBar": true,
   "skip_h1_title": false,
   "title_cell": "Table of Contents",
   "title_sidebar": "Contents",
   "toc_cell": false,
   "toc_position": {},
   "toc_section_display": true,
   "toc_window_display": false
  },
  "varInspector": {
   "cols": {
    "lenName": 16,
    "lenType": 16,
    "lenVar": 40
   },
   "kernels_config": {
    "python": {
     "delete_cmd_postfix": "",
     "delete_cmd_prefix": "del ",
     "library": "var_list.py",
     "varRefreshCmd": "print(var_dic_list())"
    },
    "r": {
     "delete_cmd_postfix": ") ",
     "delete_cmd_prefix": "rm(",
     "library": "var_list.r",
     "varRefreshCmd": "cat(var_dic_list()) "
    }
   },
   "types_to_exclude": [
    "module",
    "function",
    "builtin_function_or_method",
    "instance",
    "_Feature"
   ],
   "window_display": false
  }
 },
 "nbformat": 4,
 "nbformat_minor": 5
}
