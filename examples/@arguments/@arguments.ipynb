{
 "cells": [
  {
   "cell_type": "code",
   "execution_count": 1,
   "id": "dc4d14df",
   "metadata": {
    "ExecuteTime": {
     "end_time": "2023-06-26T10:11:03.163172Z",
     "start_time": "2023-06-26T10:11:03.047136Z"
    }
   },
   "outputs": [],
   "source": [
    "import sys\n",
    "sys.path.append(\"../../\")\n",
    "from PyDecLog import arguments as arg"
   ]
  },
  {
   "cell_type": "code",
   "execution_count": 2,
   "id": "1f92a6ab",
   "metadata": {
    "ExecuteTime": {
     "end_time": "2023-06-26T10:11:03.292746Z",
     "start_time": "2023-06-26T10:11:03.164987Z"
    }
   },
   "outputs": [],
   "source": [
    "rm -rf log_folder/"
   ]
  },
  {
   "cell_type": "code",
   "execution_count": 3,
   "id": "04d6842e",
   "metadata": {
    "ExecuteTime": {
     "end_time": "2023-06-26T10:11:03.300474Z",
     "start_time": "2023-06-26T10:11:03.297116Z"
    }
   },
   "outputs": [],
   "source": [
    "@arg\n",
    "def sum_(first, second=2):\n",
    "    \"\"\"Sum two numbers.\"\"\"\n",
    "    \n",
    "    result = first + second\n",
    "    return result"
   ]
  },
  {
   "cell_type": "code",
   "execution_count": 4,
   "id": "cf3c7069",
   "metadata": {
    "ExecuteTime": {
     "end_time": "2023-06-26T10:11:03.306165Z",
     "start_time": "2023-06-26T10:11:03.302447Z"
    }
   },
   "outputs": [],
   "source": [
    "dummy = sum_(1,1)"
   ]
  },
  {
   "cell_type": "code",
   "execution_count": 5,
   "id": "8365a190",
   "metadata": {
    "ExecuteTime": {
     "end_time": "2023-06-26T10:11:03.435202Z",
     "start_time": "2023-06-26T10:11:03.308304Z"
    }
   },
   "outputs": [
    {
     "name": "stdout",
     "output_type": "stream",
     "text": [
      "2023/06/26 | 11:11:03 | DEBUG Method's name: sum_\r\n",
      "2023/06/26 | 11:11:03 | DEBUG Method's args: (1, 1)\r\n",
      "2023/06/26 | 11:11:03 | DEBUG Method's kwargs: {}\r\n"
     ]
    }
   ],
   "source": [
    "cat LOG.log"
   ]
  },
  {
   "cell_type": "code",
   "execution_count": 6,
   "id": "d332d048",
   "metadata": {
    "ExecuteTime": {
     "end_time": "2023-06-26T10:11:03.566484Z",
     "start_time": "2023-06-26T10:11:03.438724Z"
    }
   },
   "outputs": [],
   "source": [
    "rm -rf LOG.log"
   ]
  },
  {
   "cell_type": "code",
   "execution_count": 7,
   "id": "a2782745",
   "metadata": {
    "ExecuteTime": {
     "end_time": "2023-06-26T10:11:03.573598Z",
     "start_time": "2023-06-26T10:11:03.569434Z"
    }
   },
   "outputs": [],
   "source": [
    "dummy = sum_(1,second=3)"
   ]
  },
  {
   "cell_type": "code",
   "execution_count": 8,
   "id": "5791ba50",
   "metadata": {
    "ExecuteTime": {
     "end_time": "2023-06-26T10:11:03.700766Z",
     "start_time": "2023-06-26T10:11:03.575832Z"
    }
   },
   "outputs": [
    {
     "name": "stdout",
     "output_type": "stream",
     "text": [
      "2023/06/26 | 11:11:03 | DEBUG Method's name: sum_\r\n",
      "2023/06/26 | 11:11:03 | DEBUG Method's args: (1,)\r\n",
      "2023/06/26 | 11:11:03 | DEBUG Method's kwargs: {'second': 3}\r\n"
     ]
    }
   ],
   "source": [
    "cat LOG.log"
   ]
  },
  {
   "cell_type": "code",
   "execution_count": 9,
   "id": "84508ecc",
   "metadata": {
    "ExecuteTime": {
     "end_time": "2023-06-26T10:11:03.830804Z",
     "start_time": "2023-06-26T10:11:03.705439Z"
    }
   },
   "outputs": [],
   "source": [
    "rm -rf LOG.log"
   ]
  },
  {
   "cell_type": "code",
   "execution_count": 10,
   "id": "abbc3fa6",
   "metadata": {
    "ExecuteTime": {
     "end_time": "2023-06-26T10:11:03.836704Z",
     "start_time": "2023-06-26T10:11:03.833397Z"
    }
   },
   "outputs": [],
   "source": [
    "@arg(level=\"info\")\n",
    "def sum_(first, second=2):\n",
    "    \"\"\"Sum two numbers.\"\"\"\n",
    "    \n",
    "    result = first + second\n",
    "    return result"
   ]
  },
  {
   "cell_type": "code",
   "execution_count": 11,
   "id": "b25650eb",
   "metadata": {
    "ExecuteTime": {
     "end_time": "2023-06-26T10:11:03.842513Z",
     "start_time": "2023-06-26T10:11:03.838749Z"
    }
   },
   "outputs": [],
   "source": [
    "dummy = sum_(1,1)"
   ]
  },
  {
   "cell_type": "code",
   "execution_count": 12,
   "id": "ea6be893",
   "metadata": {
    "ExecuteTime": {
     "end_time": "2023-06-26T10:11:03.973029Z",
     "start_time": "2023-06-26T10:11:03.844368Z"
    }
   },
   "outputs": [
    {
     "name": "stdout",
     "output_type": "stream",
     "text": [
      "2023/06/26 | 11:11:03 | INFO Method's name: sum_\r\n",
      "2023/06/26 | 11:11:03 | INFO Method's args: (1, 1)\r\n",
      "2023/06/26 | 11:11:03 | INFO Method's kwargs: {}\r\n"
     ]
    }
   ],
   "source": [
    "cat LOG.log"
   ]
  },
  {
   "cell_type": "code",
   "execution_count": 13,
   "id": "7c4d7cda",
   "metadata": {
    "ExecuteTime": {
     "end_time": "2023-06-26T10:11:04.102385Z",
     "start_time": "2023-06-26T10:11:03.976330Z"
    }
   },
   "outputs": [],
   "source": [
    "rm -rf LOG.log"
   ]
  },
  {
   "cell_type": "code",
   "execution_count": 14,
   "id": "35a8bcba",
   "metadata": {
    "ExecuteTime": {
     "end_time": "2023-06-26T10:11:04.109768Z",
     "start_time": "2023-06-26T10:11:04.106023Z"
    }
   },
   "outputs": [],
   "source": [
    "@arg(level=\"info\", console_log_level=\"info\")\n",
    "def sum_(first, second=2):\n",
    "    \"\"\"Sum two numbers.\"\"\"\n",
    "    \n",
    "    result = first + second\n",
    "    return result"
   ]
  },
  {
   "cell_type": "code",
   "execution_count": 15,
   "id": "1fe2cd15",
   "metadata": {
    "ExecuteTime": {
     "end_time": "2023-06-26T10:11:04.117495Z",
     "start_time": "2023-06-26T10:11:04.111940Z"
    }
   },
   "outputs": [
    {
     "name": "stderr",
     "output_type": "stream",
     "text": [
      "Method's name: sum_\n",
      "Method's args: (1, 1)\n",
      "Method's kwargs: {}\n"
     ]
    }
   ],
   "source": [
    "dummy = sum_(1,1)"
   ]
  },
  {
   "cell_type": "code",
   "execution_count": 16,
   "id": "c1a74b32",
   "metadata": {
    "ExecuteTime": {
     "end_time": "2023-06-26T10:11:04.245180Z",
     "start_time": "2023-06-26T10:11:04.119564Z"
    }
   },
   "outputs": [
    {
     "name": "stdout",
     "output_type": "stream",
     "text": [
      "2023/06/26 | 11:11:04 | INFO Method's name: sum_\r\n",
      "2023/06/26 | 11:11:04 | INFO Method's args: (1, 1)\r\n",
      "2023/06/26 | 11:11:04 | INFO Method's kwargs: {}\r\n"
     ]
    }
   ],
   "source": [
    "cat LOG.log"
   ]
  },
  {
   "cell_type": "code",
   "execution_count": 17,
   "id": "11cd1f31",
   "metadata": {
    "ExecuteTime": {
     "end_time": "2023-06-26T10:11:04.373424Z",
     "start_time": "2023-06-26T10:11:04.247798Z"
    }
   },
   "outputs": [],
   "source": [
    "rm -rf LOG.log"
   ]
  },
  {
   "cell_type": "code",
   "execution_count": 18,
   "id": "bd405e8f",
   "metadata": {
    "ExecuteTime": {
     "end_time": "2023-06-26T10:11:04.380340Z",
     "start_time": "2023-06-26T10:11:04.376839Z"
    }
   },
   "outputs": [],
   "source": [
    "@arg(level=\"info\",\n",
    "     console_log_level=\"info\",\n",
    "     log_file_name=\"test\",\n",
    "     log_file_path=\"./log_folder\")\n",
    "def sum_(first, second=2):\n",
    "    \"\"\"Sum two numbers.\"\"\"\n",
    "\n",
    "    result = first + second\n",
    "    return result"
   ]
  },
  {
   "cell_type": "code",
   "execution_count": 19,
   "id": "a778e803",
   "metadata": {
    "ExecuteTime": {
     "end_time": "2023-06-26T10:11:04.387957Z",
     "start_time": "2023-06-26T10:11:04.382614Z"
    }
   },
   "outputs": [
    {
     "name": "stderr",
     "output_type": "stream",
     "text": [
      "Method's name: sum_\n",
      "Method's args: (1, 1)\n",
      "Method's kwargs: {}\n"
     ]
    }
   ],
   "source": [
    "dummy = sum_(1,1)"
   ]
  },
  {
   "cell_type": "code",
   "execution_count": 20,
   "id": "3ef3a027",
   "metadata": {
    "ExecuteTime": {
     "end_time": "2023-06-26T10:11:04.519719Z",
     "start_time": "2023-06-26T10:11:04.390326Z"
    }
   },
   "outputs": [
    {
     "name": "stdout",
     "output_type": "stream",
     "text": [
      "2023/06/26 | 11:11:04 | INFO Method's name: sum_\r\n",
      "2023/06/26 | 11:11:04 | INFO Method's args: (1, 1)\r\n",
      "2023/06/26 | 11:11:04 | INFO Method's kwargs: {}\r\n"
     ]
    }
   ],
   "source": [
    "cat log_folder/test.log"
   ]
  },
  {
   "cell_type": "code",
   "execution_count": null,
   "id": "239b667e",
   "metadata": {},
   "outputs": [],
   "source": []
  }
 ],
 "metadata": {
  "kernelspec": {
   "display_name": "Python 3 (ipykernel)",
   "language": "python",
   "name": "python3"
  },
  "language_info": {
   "codemirror_mode": {
    "name": "ipython",
    "version": 3
   },
   "file_extension": ".py",
   "mimetype": "text/x-python",
   "name": "python",
   "nbconvert_exporter": "python",
   "pygments_lexer": "ipython3",
   "version": "3.9.7"
  },
  "toc": {
   "base_numbering": 1,
   "nav_menu": {},
   "number_sections": true,
   "sideBar": true,
   "skip_h1_title": false,
   "title_cell": "Table of Contents",
   "title_sidebar": "Contents",
   "toc_cell": false,
   "toc_position": {},
   "toc_section_display": true,
   "toc_window_display": false
  },
  "varInspector": {
   "cols": {
    "lenName": 16,
    "lenType": 16,
    "lenVar": 40
   },
   "kernels_config": {
    "python": {
     "delete_cmd_postfix": "",
     "delete_cmd_prefix": "del ",
     "library": "var_list.py",
     "varRefreshCmd": "print(var_dic_list())"
    },
    "r": {
     "delete_cmd_postfix": ") ",
     "delete_cmd_prefix": "rm(",
     "library": "var_list.r",
     "varRefreshCmd": "cat(var_dic_list()) "
    }
   },
   "types_to_exclude": [
    "module",
    "function",
    "builtin_function_or_method",
    "instance",
    "_Feature"
   ],
   "window_display": false
  }
 },
 "nbformat": 4,
 "nbformat_minor": 5
}
