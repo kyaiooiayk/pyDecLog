{
 "cells": [
  {
   "cell_type": "code",
   "execution_count": 1,
   "id": "dc4d14df",
   "metadata": {
    "ExecuteTime": {
     "end_time": "2023-06-26T20:18:58.165051Z",
     "start_time": "2023-06-26T20:18:58.073136Z"
    }
   },
   "outputs": [],
   "source": [
    "from pyDecLog import arguments as arg"
   ]
  },
  {
   "cell_type": "code",
   "execution_count": 2,
   "id": "1f92a6ab",
   "metadata": {
    "ExecuteTime": {
     "end_time": "2023-06-26T20:18:58.289140Z",
     "start_time": "2023-06-26T20:18:58.166795Z"
    }
   },
   "outputs": [],
   "source": [
    "rm -rf log_folder/"
   ]
  },
  {
   "cell_type": "code",
   "execution_count": 3,
   "id": "04d6842e",
   "metadata": {
    "ExecuteTime": {
     "end_time": "2023-06-26T20:18:58.296481Z",
     "start_time": "2023-06-26T20:18:58.292917Z"
    }
   },
   "outputs": [],
   "source": [
    "@arg\n",
    "def sum_(first, second=2):\n",
    "    \"\"\"Sum two numbers.\"\"\"\n",
    "    \n",
    "    result = first + second\n",
    "    return result"
   ]
  },
  {
   "cell_type": "code",
   "execution_count": 4,
   "id": "cf3c7069",
   "metadata": {
    "ExecuteTime": {
     "end_time": "2023-06-26T20:18:58.302064Z",
     "start_time": "2023-06-26T20:18:58.298331Z"
    }
   },
   "outputs": [],
   "source": [
    "dummy = sum_(1,1)"
   ]
  },
  {
   "cell_type": "code",
   "execution_count": 5,
   "id": "8365a190",
   "metadata": {
    "ExecuteTime": {
     "end_time": "2023-06-26T20:18:58.432026Z",
     "start_time": "2023-06-26T20:18:58.303958Z"
    }
   },
   "outputs": [
    {
     "name": "stdout",
     "output_type": "stream",
     "text": [
      "2023/06/26 | 21:16:12 | DEBUG Method's name: sum_\r\n",
      "2023/06/26 | 21:16:12 | DEBUG Method's args: (1, 1)\r\n",
      "2023/06/26 | 21:16:12 | DEBUG Method's kwargs: {}\r\n",
      "2023/06/26 | 21:18:58 | DEBUG Method's name: sum_\r\n",
      "2023/06/26 | 21:18:58 | DEBUG Method's args: (1, 1)\r\n",
      "2023/06/26 | 21:18:58 | DEBUG Method's kwargs: {}\r\n"
     ]
    }
   ],
   "source": [
    "cat LOG.log"
   ]
  },
  {
   "cell_type": "code",
   "execution_count": 6,
   "id": "d332d048",
   "metadata": {
    "ExecuteTime": {
     "end_time": "2023-06-26T20:18:58.563299Z",
     "start_time": "2023-06-26T20:18:58.434920Z"
    }
   },
   "outputs": [],
   "source": [
    "rm -rf LOG.log"
   ]
  },
  {
   "cell_type": "code",
   "execution_count": 7,
   "id": "a2782745",
   "metadata": {
    "ExecuteTime": {
     "end_time": "2023-06-26T20:18:58.570345Z",
     "start_time": "2023-06-26T20:18:58.566411Z"
    }
   },
   "outputs": [],
   "source": [
    "dummy = sum_(1,second=3)"
   ]
  },
  {
   "cell_type": "code",
   "execution_count": 8,
   "id": "5791ba50",
   "metadata": {
    "ExecuteTime": {
     "end_time": "2023-06-26T20:18:58.698485Z",
     "start_time": "2023-06-26T20:18:58.572030Z"
    }
   },
   "outputs": [
    {
     "name": "stdout",
     "output_type": "stream",
     "text": [
      "2023/06/26 | 21:18:58 | DEBUG Method's name: sum_\r\n",
      "2023/06/26 | 21:18:58 | DEBUG Method's args: (1,)\r\n",
      "2023/06/26 | 21:18:58 | DEBUG Method's kwargs: {'second': 3}\r\n"
     ]
    }
   ],
   "source": [
    "cat LOG.log"
   ]
  },
  {
   "cell_type": "code",
   "execution_count": 9,
   "id": "84508ecc",
   "metadata": {
    "ExecuteTime": {
     "end_time": "2023-06-26T20:18:58.832009Z",
     "start_time": "2023-06-26T20:18:58.703420Z"
    }
   },
   "outputs": [],
   "source": [
    "rm -rf LOG.log"
   ]
  },
  {
   "cell_type": "code",
   "execution_count": 10,
   "id": "abbc3fa6",
   "metadata": {
    "ExecuteTime": {
     "end_time": "2023-06-26T20:18:58.838109Z",
     "start_time": "2023-06-26T20:18:58.834763Z"
    }
   },
   "outputs": [],
   "source": [
    "@arg(level=\"info\")\n",
    "def sum_(first, second=2):\n",
    "    \"\"\"Sum two numbers.\"\"\"\n",
    "    \n",
    "    result = first + second\n",
    "    return result"
   ]
  },
  {
   "cell_type": "code",
   "execution_count": 11,
   "id": "b25650eb",
   "metadata": {
    "ExecuteTime": {
     "end_time": "2023-06-26T20:18:58.843677Z",
     "start_time": "2023-06-26T20:18:58.840012Z"
    }
   },
   "outputs": [],
   "source": [
    "dummy = sum_(1,1)"
   ]
  },
  {
   "cell_type": "code",
   "execution_count": 12,
   "id": "ea6be893",
   "metadata": {
    "ExecuteTime": {
     "end_time": "2023-06-26T20:18:58.972468Z",
     "start_time": "2023-06-26T20:18:58.845354Z"
    }
   },
   "outputs": [
    {
     "name": "stdout",
     "output_type": "stream",
     "text": [
      "2023/06/26 | 21:18:58 | INFO Method's name: sum_\r\n",
      "2023/06/26 | 21:18:58 | INFO Method's args: (1, 1)\r\n",
      "2023/06/26 | 21:18:58 | INFO Method's kwargs: {}\r\n"
     ]
    }
   ],
   "source": [
    "cat LOG.log"
   ]
  },
  {
   "cell_type": "code",
   "execution_count": 13,
   "id": "7c4d7cda",
   "metadata": {
    "ExecuteTime": {
     "end_time": "2023-06-26T20:18:59.100936Z",
     "start_time": "2023-06-26T20:18:58.975701Z"
    }
   },
   "outputs": [],
   "source": [
    "rm -rf LOG.log"
   ]
  },
  {
   "cell_type": "code",
   "execution_count": 14,
   "id": "35a8bcba",
   "metadata": {
    "ExecuteTime": {
     "end_time": "2023-06-26T20:18:59.107685Z",
     "start_time": "2023-06-26T20:18:59.104442Z"
    }
   },
   "outputs": [],
   "source": [
    "@arg(level=\"info\", console_log_level=\"info\")\n",
    "def sum_(first, second=2):\n",
    "    \"\"\"Sum two numbers.\"\"\"\n",
    "    \n",
    "    result = first + second\n",
    "    return result"
   ]
  },
  {
   "cell_type": "code",
   "execution_count": 15,
   "id": "1fe2cd15",
   "metadata": {
    "ExecuteTime": {
     "end_time": "2023-06-26T20:18:59.115079Z",
     "start_time": "2023-06-26T20:18:59.109561Z"
    }
   },
   "outputs": [
    {
     "name": "stderr",
     "output_type": "stream",
     "text": [
      "Method's name: sum_\n",
      "Method's args: (1, 1)\n",
      "Method's kwargs: {}\n"
     ]
    }
   ],
   "source": [
    "dummy = sum_(1,1)"
   ]
  },
  {
   "cell_type": "code",
   "execution_count": 16,
   "id": "c1a74b32",
   "metadata": {
    "ExecuteTime": {
     "end_time": "2023-06-26T20:18:59.243026Z",
     "start_time": "2023-06-26T20:18:59.116943Z"
    }
   },
   "outputs": [
    {
     "name": "stdout",
     "output_type": "stream",
     "text": [
      "2023/06/26 | 21:18:59 | INFO Method's name: sum_\r\n",
      "2023/06/26 | 21:18:59 | INFO Method's args: (1, 1)\r\n",
      "2023/06/26 | 21:18:59 | INFO Method's kwargs: {}\r\n"
     ]
    }
   ],
   "source": [
    "cat LOG.log"
   ]
  },
  {
   "cell_type": "code",
   "execution_count": 17,
   "id": "11cd1f31",
   "metadata": {
    "ExecuteTime": {
     "end_time": "2023-06-26T20:18:59.373775Z",
     "start_time": "2023-06-26T20:18:59.246070Z"
    }
   },
   "outputs": [],
   "source": [
    "rm -rf LOG.log"
   ]
  },
  {
   "cell_type": "code",
   "execution_count": 18,
   "id": "bd405e8f",
   "metadata": {
    "ExecuteTime": {
     "end_time": "2023-06-26T20:18:59.381000Z",
     "start_time": "2023-06-26T20:18:59.377085Z"
    }
   },
   "outputs": [],
   "source": [
    "@arg(level=\"info\",\n",
    "     console_log_level=\"info\",\n",
    "     log_file_name=\"test\",\n",
    "     log_file_path=\"./log_folder\")\n",
    "def sum_(first, second=2):\n",
    "    \"\"\"Sum two numbers.\"\"\"\n",
    "\n",
    "    result = first + second\n",
    "    return result"
   ]
  },
  {
   "cell_type": "code",
   "execution_count": 19,
   "id": "a778e803",
   "metadata": {
    "ExecuteTime": {
     "end_time": "2023-06-26T20:18:59.388506Z",
     "start_time": "2023-06-26T20:18:59.382965Z"
    }
   },
   "outputs": [
    {
     "name": "stderr",
     "output_type": "stream",
     "text": [
      "Method's name: sum_\n",
      "Method's args: (1, 1)\n",
      "Method's kwargs: {}\n"
     ]
    }
   ],
   "source": [
    "dummy = sum_(1,1)"
   ]
  },
  {
   "cell_type": "code",
   "execution_count": 20,
   "id": "3ef3a027",
   "metadata": {
    "ExecuteTime": {
     "end_time": "2023-06-26T20:18:59.516000Z",
     "start_time": "2023-06-26T20:18:59.390518Z"
    }
   },
   "outputs": [
    {
     "name": "stdout",
     "output_type": "stream",
     "text": [
      "2023/06/26 | 21:18:59 | INFO Method's name: sum_\r\n",
      "2023/06/26 | 21:18:59 | INFO Method's args: (1, 1)\r\n",
      "2023/06/26 | 21:18:59 | INFO Method's kwargs: {}\r\n"
     ]
    }
   ],
   "source": [
    "cat log_folder/test.log"
   ]
  },
  {
   "cell_type": "code",
   "execution_count": null,
   "id": "239b667e",
   "metadata": {},
   "outputs": [],
   "source": []
  }
 ],
 "metadata": {
  "kernelspec": {
   "display_name": "trainingAI",
   "language": "python",
   "name": "trainingai"
  },
  "language_info": {
   "codemirror_mode": {
    "name": "ipython",
    "version": 3
   },
   "file_extension": ".py",
   "mimetype": "text/x-python",
   "name": "python",
   "nbconvert_exporter": "python",
   "pygments_lexer": "ipython3",
   "version": "3.9.7"
  },
  "toc": {
   "base_numbering": 1,
   "nav_menu": {},
   "number_sections": true,
   "sideBar": true,
   "skip_h1_title": false,
   "title_cell": "Table of Contents",
   "title_sidebar": "Contents",
   "toc_cell": false,
   "toc_position": {},
   "toc_section_display": true,
   "toc_window_display": false
  },
  "varInspector": {
   "cols": {
    "lenName": 16,
    "lenType": 16,
    "lenVar": 40
   },
   "kernels_config": {
    "python": {
     "delete_cmd_postfix": "",
     "delete_cmd_prefix": "del ",
     "library": "var_list.py",
     "varRefreshCmd": "print(var_dic_list())"
    },
    "r": {
     "delete_cmd_postfix": ") ",
     "delete_cmd_prefix": "rm(",
     "library": "var_list.r",
     "varRefreshCmd": "cat(var_dic_list()) "
    }
   },
   "types_to_exclude": [
    "module",
    "function",
    "builtin_function_or_method",
    "instance",
    "_Feature"
   ],
   "window_display": false
  }
 },
 "nbformat": 4,
 "nbformat_minor": 5
}
