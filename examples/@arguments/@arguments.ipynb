{
 "cells": [
  {
   "cell_type": "code",
   "execution_count": 1,
   "id": "dc4d14df",
   "metadata": {
    "ExecuteTime": {
     "end_time": "2023-06-29T09:16:22.242595Z",
     "start_time": "2023-06-29T09:16:22.141292Z"
    }
   },
   "outputs": [],
   "source": [
    "from pyDecLog import arguments as arg"
   ]
  },
  {
   "cell_type": "code",
   "execution_count": 2,
   "id": "1f92a6ab",
   "metadata": {
    "ExecuteTime": {
     "end_time": "2023-06-29T09:16:22.374689Z",
     "start_time": "2023-06-29T09:16:22.244463Z"
    }
   },
   "outputs": [],
   "source": [
    "rm -rf log_folder/"
   ]
  },
  {
   "cell_type": "code",
   "execution_count": 3,
   "id": "04d6842e",
   "metadata": {
    "ExecuteTime": {
     "end_time": "2023-06-29T09:16:22.380587Z",
     "start_time": "2023-06-29T09:16:22.377703Z"
    }
   },
   "outputs": [],
   "source": [
    "@arg\n",
    "def sum_(first, second=2):\n",
    "    \"\"\"Sum two numbers.\"\"\"\n",
    "    \n",
    "    result = first + second\n",
    "    return result"
   ]
  },
  {
   "cell_type": "code",
   "execution_count": 4,
   "id": "cf3c7069",
   "metadata": {
    "ExecuteTime": {
     "end_time": "2023-06-29T09:16:22.385467Z",
     "start_time": "2023-06-29T09:16:22.382330Z"
    }
   },
   "outputs": [],
   "source": [
    "dummy = sum_(1,1)"
   ]
  },
  {
   "cell_type": "code",
   "execution_count": 5,
   "id": "8365a190",
   "metadata": {
    "ExecuteTime": {
     "end_time": "2023-06-29T09:16:22.512898Z",
     "start_time": "2023-06-29T09:16:22.386789Z"
    }
   },
   "outputs": [
    {
     "name": "stdout",
     "output_type": "stream",
     "text": [
      "2023/06/29 | 10:16:22 | DEBUG Method's name: sum_\r\n",
      "2023/06/29 | 10:16:22 | DEBUG Method's args: (1, 1)\r\n",
      "2023/06/29 | 10:16:22 | DEBUG Method's kwargs: {}\r\n"
     ]
    }
   ],
   "source": [
    "cat LOG.log"
   ]
  },
  {
   "cell_type": "code",
   "execution_count": 6,
   "id": "d332d048",
   "metadata": {
    "ExecuteTime": {
     "end_time": "2023-06-29T09:16:22.643303Z",
     "start_time": "2023-06-29T09:16:22.516724Z"
    }
   },
   "outputs": [],
   "source": [
    "rm -rf LOG.log"
   ]
  },
  {
   "cell_type": "code",
   "execution_count": 7,
   "id": "a2782745",
   "metadata": {
    "ExecuteTime": {
     "end_time": "2023-06-29T09:16:22.651371Z",
     "start_time": "2023-06-29T09:16:22.646713Z"
    }
   },
   "outputs": [],
   "source": [
    "dummy = sum_(1,second=3)"
   ]
  },
  {
   "cell_type": "code",
   "execution_count": 8,
   "id": "5791ba50",
   "metadata": {
    "ExecuteTime": {
     "end_time": "2023-06-29T09:16:22.781889Z",
     "start_time": "2023-06-29T09:16:22.653202Z"
    }
   },
   "outputs": [
    {
     "name": "stdout",
     "output_type": "stream",
     "text": [
      "2023/06/29 | 10:16:22 | DEBUG Method's name: sum_\r\n",
      "2023/06/29 | 10:16:22 | DEBUG Method's args: (1,)\r\n",
      "2023/06/29 | 10:16:22 | DEBUG Method's kwargs: {'second': 3}\r\n"
     ]
    }
   ],
   "source": [
    "cat LOG.log"
   ]
  },
  {
   "cell_type": "code",
   "execution_count": 9,
   "id": "84508ecc",
   "metadata": {
    "ExecuteTime": {
     "end_time": "2023-06-29T09:16:22.915636Z",
     "start_time": "2023-06-29T09:16:22.787489Z"
    }
   },
   "outputs": [],
   "source": [
    "rm -rf LOG.log"
   ]
  },
  {
   "cell_type": "code",
   "execution_count": 10,
   "id": "abbc3fa6",
   "metadata": {
    "ExecuteTime": {
     "end_time": "2023-06-29T09:16:22.921997Z",
     "start_time": "2023-06-29T09:16:22.918687Z"
    }
   },
   "outputs": [],
   "source": [
    "@arg(level=\"info\")\n",
    "def sum_(first, second=2):\n",
    "    \"\"\"Sum two numbers.\"\"\"\n",
    "    \n",
    "    result = first + second\n",
    "    return result"
   ]
  },
  {
   "cell_type": "code",
   "execution_count": 11,
   "id": "b25650eb",
   "metadata": {
    "ExecuteTime": {
     "end_time": "2023-06-29T09:16:22.927670Z",
     "start_time": "2023-06-29T09:16:22.924003Z"
    }
   },
   "outputs": [],
   "source": [
    "dummy = sum_(1,1)"
   ]
  },
  {
   "cell_type": "code",
   "execution_count": 12,
   "id": "ea6be893",
   "metadata": {
    "ExecuteTime": {
     "end_time": "2023-06-29T09:16:23.058514Z",
     "start_time": "2023-06-29T09:16:22.929498Z"
    }
   },
   "outputs": [
    {
     "name": "stdout",
     "output_type": "stream",
     "text": [
      "2023/06/29 | 10:16:22 | INFO Method's name: sum_\r\n",
      "2023/06/29 | 10:16:22 | INFO Method's args: (1, 1)\r\n",
      "2023/06/29 | 10:16:22 | INFO Method's kwargs: {}\r\n"
     ]
    }
   ],
   "source": [
    "cat LOG.log"
   ]
  },
  {
   "cell_type": "code",
   "execution_count": 13,
   "id": "7c4d7cda",
   "metadata": {
    "ExecuteTime": {
     "end_time": "2023-06-29T09:16:23.192399Z",
     "start_time": "2023-06-29T09:16:23.061825Z"
    }
   },
   "outputs": [],
   "source": [
    "rm -rf LOG.log"
   ]
  },
  {
   "cell_type": "code",
   "execution_count": 14,
   "id": "35a8bcba",
   "metadata": {
    "ExecuteTime": {
     "end_time": "2023-06-29T09:16:23.199722Z",
     "start_time": "2023-06-29T09:16:23.195834Z"
    }
   },
   "outputs": [],
   "source": [
    "@arg(level=\"info\", console_log_level=\"info\")\n",
    "def sum_(first, second=2):\n",
    "    \"\"\"Sum two numbers.\"\"\"\n",
    "    \n",
    "    result = first + second\n",
    "    return result"
   ]
  },
  {
   "cell_type": "code",
   "execution_count": 15,
   "id": "1fe2cd15",
   "metadata": {
    "ExecuteTime": {
     "end_time": "2023-06-29T09:16:23.206831Z",
     "start_time": "2023-06-29T09:16:23.201747Z"
    }
   },
   "outputs": [
    {
     "name": "stderr",
     "output_type": "stream",
     "text": [
      "Method's name: sum_\n",
      "Method's args: (1, 1)\n",
      "Method's kwargs: {}\n"
     ]
    }
   ],
   "source": [
    "dummy = sum_(1,1)"
   ]
  },
  {
   "cell_type": "code",
   "execution_count": 16,
   "id": "c1a74b32",
   "metadata": {
    "ExecuteTime": {
     "end_time": "2023-06-29T09:16:23.333956Z",
     "start_time": "2023-06-29T09:16:23.208565Z"
    }
   },
   "outputs": [
    {
     "name": "stdout",
     "output_type": "stream",
     "text": [
      "2023/06/29 | 10:16:23 | INFO Method's name: sum_\r\n",
      "2023/06/29 | 10:16:23 | INFO Method's args: (1, 1)\r\n",
      "2023/06/29 | 10:16:23 | INFO Method's kwargs: {}\r\n"
     ]
    }
   ],
   "source": [
    "cat LOG.log"
   ]
  },
  {
   "cell_type": "code",
   "execution_count": 17,
   "id": "11cd1f31",
   "metadata": {
    "ExecuteTime": {
     "end_time": "2023-06-29T09:16:23.465824Z",
     "start_time": "2023-06-29T09:16:23.336321Z"
    }
   },
   "outputs": [],
   "source": [
    "rm -rf LOG.log"
   ]
  },
  {
   "cell_type": "code",
   "execution_count": 18,
   "id": "bd405e8f",
   "metadata": {
    "ExecuteTime": {
     "end_time": "2023-06-29T09:16:23.471718Z",
     "start_time": "2023-06-29T09:16:23.468224Z"
    }
   },
   "outputs": [],
   "source": [
    "@arg(level=\"info\",\n",
    "     console_log_level=\"info\",\n",
    "     log_file_name=\"test\",\n",
    "     log_file_path=\"./log_folder\")\n",
    "def sum_(first, second=2):\n",
    "    \"\"\"Sum two numbers.\"\"\"\n",
    "\n",
    "    result = first + second\n",
    "    return result"
   ]
  },
  {
   "cell_type": "code",
   "execution_count": 19,
   "id": "a778e803",
   "metadata": {
    "ExecuteTime": {
     "end_time": "2023-06-29T09:16:23.479314Z",
     "start_time": "2023-06-29T09:16:23.473759Z"
    }
   },
   "outputs": [
    {
     "name": "stderr",
     "output_type": "stream",
     "text": [
      "Method's name: sum_\n",
      "Method's args: (1, 1)\n",
      "Method's kwargs: {}\n"
     ]
    }
   ],
   "source": [
    "dummy = sum_(1,1)"
   ]
  },
  {
   "cell_type": "code",
   "execution_count": 20,
   "id": "3ef3a027",
   "metadata": {
    "ExecuteTime": {
     "end_time": "2023-06-29T09:16:23.613973Z",
     "start_time": "2023-06-29T09:16:23.482067Z"
    }
   },
   "outputs": [
    {
     "name": "stdout",
     "output_type": "stream",
     "text": [
      "2023/06/29 | 10:16:23 | INFO Method's name: sum_\r\n",
      "2023/06/29 | 10:16:23 | INFO Method's args: (1, 1)\r\n",
      "2023/06/29 | 10:16:23 | INFO Method's kwargs: {}\r\n"
     ]
    }
   ],
   "source": [
    "cat log_folder/test.log"
   ]
  },
  {
   "cell_type": "code",
   "execution_count": null,
   "id": "239b667e",
   "metadata": {},
   "outputs": [],
   "source": []
  }
 ],
 "metadata": {
  "kernelspec": {
   "display_name": "trainingAI",
   "language": "python",
   "name": "trainingai"
  },
  "language_info": {
   "codemirror_mode": {
    "name": "ipython",
    "version": 3
   },
   "file_extension": ".py",
   "mimetype": "text/x-python",
   "name": "python",
   "nbconvert_exporter": "python",
   "pygments_lexer": "ipython3",
   "version": "3.9.7"
  },
  "toc": {
   "base_numbering": 1,
   "nav_menu": {},
   "number_sections": true,
   "sideBar": true,
   "skip_h1_title": false,
   "title_cell": "Table of Contents",
   "title_sidebar": "Contents",
   "toc_cell": false,
   "toc_position": {},
   "toc_section_display": true,
   "toc_window_display": false
  },
  "varInspector": {
   "cols": {
    "lenName": 16,
    "lenType": 16,
    "lenVar": 40
   },
   "kernels_config": {
    "python": {
     "delete_cmd_postfix": "",
     "delete_cmd_prefix": "del ",
     "library": "var_list.py",
     "varRefreshCmd": "print(var_dic_list())"
    },
    "r": {
     "delete_cmd_postfix": ") ",
     "delete_cmd_prefix": "rm(",
     "library": "var_list.r",
     "varRefreshCmd": "cat(var_dic_list()) "
    }
   },
   "types_to_exclude": [
    "module",
    "function",
    "builtin_function_or_method",
    "instance",
    "_Feature"
   ],
   "window_display": false
  }
 },
 "nbformat": 4,
 "nbformat_minor": 5
}
