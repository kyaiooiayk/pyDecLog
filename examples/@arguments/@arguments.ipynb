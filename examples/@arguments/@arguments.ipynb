{
 "cells": [
  {
   "cell_type": "code",
   "execution_count": 1,
   "id": "dc4d14df",
   "metadata": {
    "ExecuteTime": {
     "end_time": "2023-06-26T06:05:42.828227Z",
     "start_time": "2023-06-26T06:05:42.720734Z"
    }
   },
   "outputs": [],
   "source": [
    "import sys\n",
    "sys.path.append(\"../../\")\n",
    "from PyDecLog import arguments as arg"
   ]
  },
  {
   "cell_type": "code",
   "execution_count": 2,
   "id": "04d6842e",
   "metadata": {
    "ExecuteTime": {
     "end_time": "2023-06-26T06:05:42.833435Z",
     "start_time": "2023-06-26T06:05:42.830274Z"
    }
   },
   "outputs": [],
   "source": [
    "@arg\n",
    "def sum_(first, second=2):\n",
    "    \"\"\"Sum two numbers.\"\"\"\n",
    "    \n",
    "    result = first + second\n",
    "    return result"
   ]
  },
  {
   "cell_type": "code",
   "execution_count": 3,
   "id": "cf3c7069",
   "metadata": {
    "ExecuteTime": {
     "end_time": "2023-06-26T06:05:42.840051Z",
     "start_time": "2023-06-26T06:05:42.837078Z"
    }
   },
   "outputs": [],
   "source": [
    "dummy = sum_(1,1)"
   ]
  },
  {
   "cell_type": "code",
   "execution_count": 4,
   "id": "8365a190",
   "metadata": {
    "ExecuteTime": {
     "end_time": "2023-06-26T06:05:42.964535Z",
     "start_time": "2023-06-26T06:05:42.841924Z"
    }
   },
   "outputs": [
    {
     "name": "stdout",
     "output_type": "stream",
     "text": [
      "2023/06/26 | 07:05:42 | DEBUG Method's name: sum_\r\n",
      "2023/06/26 | 07:05:42 | DEBUG Method's args: (1, 1)\r\n",
      "2023/06/26 | 07:05:42 | DEBUG Method's kwargs: {}\r\n"
     ]
    }
   ],
   "source": [
    "cat LOG.log"
   ]
  },
  {
   "cell_type": "code",
   "execution_count": 5,
   "id": "d332d048",
   "metadata": {
    "ExecuteTime": {
     "end_time": "2023-06-26T06:05:43.097750Z",
     "start_time": "2023-06-26T06:05:42.967827Z"
    }
   },
   "outputs": [],
   "source": [
    "rm -rf LOG.log"
   ]
  },
  {
   "cell_type": "code",
   "execution_count": 6,
   "id": "a2782745",
   "metadata": {
    "ExecuteTime": {
     "end_time": "2023-06-26T06:05:43.105798Z",
     "start_time": "2023-06-26T06:05:43.101236Z"
    }
   },
   "outputs": [],
   "source": [
    "dummy = sum_(1,second=3)"
   ]
  },
  {
   "cell_type": "code",
   "execution_count": 7,
   "id": "5791ba50",
   "metadata": {
    "ExecuteTime": {
     "end_time": "2023-06-26T06:05:43.235781Z",
     "start_time": "2023-06-26T06:05:43.107522Z"
    }
   },
   "outputs": [
    {
     "name": "stdout",
     "output_type": "stream",
     "text": [
      "2023/06/26 | 07:05:43 | DEBUG Method's name: sum_\r\n",
      "2023/06/26 | 07:05:43 | DEBUG Method's args: (1,)\r\n",
      "2023/06/26 | 07:05:43 | DEBUG Method's kwargs: {'second': 3}\r\n"
     ]
    }
   ],
   "source": [
    "cat LOG.log"
   ]
  },
  {
   "cell_type": "code",
   "execution_count": 8,
   "id": "84508ecc",
   "metadata": {
    "ExecuteTime": {
     "end_time": "2023-06-26T06:05:43.368158Z",
     "start_time": "2023-06-26T06:05:43.238535Z"
    }
   },
   "outputs": [],
   "source": [
    "rm -rf LOG.log"
   ]
  },
  {
   "cell_type": "code",
   "execution_count": 9,
   "id": "abbc3fa6",
   "metadata": {
    "ExecuteTime": {
     "end_time": "2023-06-26T06:05:43.377268Z",
     "start_time": "2023-06-26T06:05:43.374258Z"
    }
   },
   "outputs": [],
   "source": [
    "@arg(level=\"info\")\n",
    "def sum_(first, second=2):\n",
    "    \"\"\"Sum two numbers.\"\"\"\n",
    "    \n",
    "    result = first + second\n",
    "    return result"
   ]
  },
  {
   "cell_type": "code",
   "execution_count": 10,
   "id": "b25650eb",
   "metadata": {
    "ExecuteTime": {
     "end_time": "2023-06-26T06:05:43.382190Z",
     "start_time": "2023-06-26T06:05:43.378888Z"
    }
   },
   "outputs": [],
   "source": [
    "dummy = sum_(1,1)"
   ]
  },
  {
   "cell_type": "code",
   "execution_count": 11,
   "id": "ea6be893",
   "metadata": {
    "ExecuteTime": {
     "end_time": "2023-06-26T06:05:43.511529Z",
     "start_time": "2023-06-26T06:05:43.384377Z"
    }
   },
   "outputs": [
    {
     "name": "stdout",
     "output_type": "stream",
     "text": [
      "2023/06/26 | 07:05:43 | INFO Method's name: sum_\r\n",
      "2023/06/26 | 07:05:43 | INFO Method's args: (1, 1)\r\n",
      "2023/06/26 | 07:05:43 | INFO Method's kwargs: {}\r\n"
     ]
    }
   ],
   "source": [
    "cat LOG.log"
   ]
  },
  {
   "cell_type": "code",
   "execution_count": 12,
   "id": "7c4d7cda",
   "metadata": {
    "ExecuteTime": {
     "end_time": "2023-06-26T06:05:43.640044Z",
     "start_time": "2023-06-26T06:05:43.514833Z"
    }
   },
   "outputs": [],
   "source": [
    "rm -rf LOG.log"
   ]
  },
  {
   "cell_type": "code",
   "execution_count": 13,
   "id": "35a8bcba",
   "metadata": {
    "ExecuteTime": {
     "end_time": "2023-06-26T06:05:43.645954Z",
     "start_time": "2023-06-26T06:05:43.642914Z"
    }
   },
   "outputs": [],
   "source": [
    "@arg(level=\"info\", console_log_level=\"info\")\n",
    "def sum_(first, second=2):\n",
    "    \"\"\"Sum two numbers.\"\"\"\n",
    "    \n",
    "    result = first + second\n",
    "    return result"
   ]
  },
  {
   "cell_type": "code",
   "execution_count": 14,
   "id": "1fe2cd15",
   "metadata": {
    "ExecuteTime": {
     "end_time": "2023-06-26T06:05:43.653981Z",
     "start_time": "2023-06-26T06:05:43.647939Z"
    }
   },
   "outputs": [
    {
     "name": "stderr",
     "output_type": "stream",
     "text": [
      "Method's name: sum_\n",
      "Method's args: (1, 1)\n",
      "Method's kwargs: {}\n"
     ]
    }
   ],
   "source": [
    "dummy = sum_(1,1)"
   ]
  },
  {
   "cell_type": "code",
   "execution_count": 15,
   "id": "c1a74b32",
   "metadata": {
    "ExecuteTime": {
     "end_time": "2023-06-26T06:05:43.781733Z",
     "start_time": "2023-06-26T06:05:43.656178Z"
    }
   },
   "outputs": [
    {
     "name": "stdout",
     "output_type": "stream",
     "text": [
      "2023/06/26 | 07:05:43 | INFO Method's name: sum_\r\n",
      "2023/06/26 | 07:05:43 | INFO Method's args: (1, 1)\r\n",
      "2023/06/26 | 07:05:43 | INFO Method's kwargs: {}\r\n"
     ]
    }
   ],
   "source": [
    "cat LOG.log"
   ]
  },
  {
   "cell_type": "code",
   "execution_count": 16,
   "id": "11cd1f31",
   "metadata": {
    "ExecuteTime": {
     "end_time": "2023-06-26T06:05:43.913769Z",
     "start_time": "2023-06-26T06:05:43.785162Z"
    }
   },
   "outputs": [],
   "source": [
    "rm -rf LOG.log"
   ]
  },
  {
   "cell_type": "code",
   "execution_count": 17,
   "id": "bd405e8f",
   "metadata": {
    "ExecuteTime": {
     "end_time": "2023-06-26T06:05:43.921297Z",
     "start_time": "2023-06-26T06:05:43.917377Z"
    }
   },
   "outputs": [],
   "source": [
    "@arg(level=\"info\",\n",
    "     console_log_level=\"info\",\n",
    "     log_file_name=\"test\",\n",
    "     log_file_path=\"./log_folder\")\n",
    "def sum_(first, second=2):\n",
    "    \"\"\"Sum two numbers.\"\"\"\n",
    "\n",
    "    result = first + second\n",
    "    return result"
   ]
  },
  {
   "cell_type": "code",
   "execution_count": 18,
   "id": "a778e803",
   "metadata": {
    "ExecuteTime": {
     "end_time": "2023-06-26T06:05:43.928294Z",
     "start_time": "2023-06-26T06:05:43.923210Z"
    }
   },
   "outputs": [
    {
     "name": "stderr",
     "output_type": "stream",
     "text": [
      "Method's name: sum_\n",
      "Method's args: (1, 1)\n",
      "Method's kwargs: {}\n"
     ]
    }
   ],
   "source": [
    "dummy = sum_(1,1)"
   ]
  },
  {
   "cell_type": "code",
   "execution_count": null,
   "id": "3ef3a027",
   "metadata": {},
   "outputs": [],
   "source": []
  }
 ],
 "metadata": {
  "kernelspec": {
   "display_name": "Python 3 (ipykernel)",
   "language": "python",
   "name": "python3"
  },
  "language_info": {
   "codemirror_mode": {
    "name": "ipython",
    "version": 3
   },
   "file_extension": ".py",
   "mimetype": "text/x-python",
   "name": "python",
   "nbconvert_exporter": "python",
   "pygments_lexer": "ipython3",
   "version": "3.9.7"
  },
  "toc": {
   "base_numbering": 1,
   "nav_menu": {},
   "number_sections": true,
   "sideBar": true,
   "skip_h1_title": false,
   "title_cell": "Table of Contents",
   "title_sidebar": "Contents",
   "toc_cell": false,
   "toc_position": {},
   "toc_section_display": true,
   "toc_window_display": false
  },
  "varInspector": {
   "cols": {
    "lenName": 16,
    "lenType": 16,
    "lenVar": 40
   },
   "kernels_config": {
    "python": {
     "delete_cmd_postfix": "",
     "delete_cmd_prefix": "del ",
     "library": "var_list.py",
     "varRefreshCmd": "print(var_dic_list())"
    },
    "r": {
     "delete_cmd_postfix": ") ",
     "delete_cmd_prefix": "rm(",
     "library": "var_list.r",
     "varRefreshCmd": "cat(var_dic_list()) "
    }
   },
   "types_to_exclude": [
    "module",
    "function",
    "builtin_function_or_method",
    "instance",
    "_Feature"
   ],
   "window_display": false
  }
 },
 "nbformat": 4,
 "nbformat_minor": 5
}
