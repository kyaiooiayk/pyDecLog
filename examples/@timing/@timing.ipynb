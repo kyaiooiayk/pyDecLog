{
 "cells": [
  {
   "cell_type": "code",
   "execution_count": 1,
   "id": "dc4d14df",
   "metadata": {
    "ExecuteTime": {
     "end_time": "2023-06-26T09:18:41.720129Z",
     "start_time": "2023-06-26T09:18:41.622939Z"
    }
   },
   "outputs": [],
   "source": [
    "import sys\n",
    "import time\n",
    "sys.path.append(\"../../\")\n",
    "from PyDecLog import timing as tim"
   ]
  },
  {
   "cell_type": "code",
   "execution_count": 2,
   "id": "e916ca95",
   "metadata": {
    "ExecuteTime": {
     "end_time": "2023-06-26T09:18:41.842758Z",
     "start_time": "2023-06-26T09:18:41.721796Z"
    }
   },
   "outputs": [
    {
     "name": "stdout",
     "output_type": "stream",
     "text": [
      "rm: LOG.log: No such file or directory\r\n"
     ]
    }
   ],
   "source": [
    "rm LOG.log"
   ]
  },
  {
   "cell_type": "code",
   "execution_count": 3,
   "id": "16762f4a",
   "metadata": {
    "ExecuteTime": {
     "end_time": "2023-06-26T09:18:41.974542Z",
     "start_time": "2023-06-26T09:18:41.845942Z"
    }
   },
   "outputs": [
    {
     "name": "stdout",
     "output_type": "stream",
     "text": [
      "rm: log_folder/: is a directory\r\n"
     ]
    }
   ],
   "source": [
    "rm log_folder/"
   ]
  },
  {
   "cell_type": "code",
   "execution_count": 4,
   "id": "04d6842e",
   "metadata": {
    "ExecuteTime": {
     "end_time": "2023-06-26T09:18:41.981786Z",
     "start_time": "2023-06-26T09:18:41.978417Z"
    }
   },
   "outputs": [],
   "source": [
    "@tim\n",
    "def sum_(first, second=2):\n",
    "    \"\"\"Sum two numbers.\"\"\"\n",
    "    \n",
    "    result = first + second\n",
    "    return result"
   ]
  },
  {
   "cell_type": "code",
   "execution_count": 5,
   "id": "cf3c7069",
   "metadata": {
    "ExecuteTime": {
     "end_time": "2023-06-26T09:18:41.987908Z",
     "start_time": "2023-06-26T09:18:41.984034Z"
    }
   },
   "outputs": [],
   "source": [
    "dummy = sum_(1,1)"
   ]
  },
  {
   "cell_type": "code",
   "execution_count": 6,
   "id": "8365a190",
   "metadata": {
    "ExecuteTime": {
     "end_time": "2023-06-26T09:18:42.113162Z",
     "start_time": "2023-06-26T09:18:41.989681Z"
    }
   },
   "outputs": [
    {
     "name": "stdout",
     "output_type": "stream",
     "text": [
      "2023/06/26 | 10:18:41 | DEBUG sum_ was executed in: 0.0 sec\r\n"
     ]
    }
   ],
   "source": [
    "cat LOG.log"
   ]
  },
  {
   "cell_type": "code",
   "execution_count": 7,
   "id": "d332d048",
   "metadata": {
    "ExecuteTime": {
     "end_time": "2023-06-26T09:18:42.242187Z",
     "start_time": "2023-06-26T09:18:42.115980Z"
    }
   },
   "outputs": [],
   "source": [
    "rm -rf LOG.log"
   ]
  },
  {
   "cell_type": "code",
   "execution_count": 8,
   "id": "abbc3fa6",
   "metadata": {
    "ExecuteTime": {
     "end_time": "2023-06-26T09:18:42.249611Z",
     "start_time": "2023-06-26T09:18:42.246012Z"
    }
   },
   "outputs": [],
   "source": [
    "@tim(level=\"info\")\n",
    "def sum_(first, second=2):\n",
    "    \"\"\"Sum two numbers.\"\"\"\n",
    "    \n",
    "    result = first + second\n",
    "    return result"
   ]
  },
  {
   "cell_type": "code",
   "execution_count": 9,
   "id": "b25650eb",
   "metadata": {
    "ExecuteTime": {
     "end_time": "2023-06-26T09:18:42.257263Z",
     "start_time": "2023-06-26T09:18:42.254068Z"
    }
   },
   "outputs": [],
   "source": [
    "dummy = sum_(1,1)"
   ]
  },
  {
   "cell_type": "code",
   "execution_count": 10,
   "id": "ea6be893",
   "metadata": {
    "ExecuteTime": {
     "end_time": "2023-06-26T09:18:42.386410Z",
     "start_time": "2023-06-26T09:18:42.258918Z"
    }
   },
   "outputs": [
    {
     "name": "stdout",
     "output_type": "stream",
     "text": [
      "2023/06/26 | 10:18:42 | INFO sum_ was executed in: 0.0 sec\r\n"
     ]
    }
   ],
   "source": [
    "cat LOG.log"
   ]
  },
  {
   "cell_type": "code",
   "execution_count": 11,
   "id": "7c4d7cda",
   "metadata": {
    "ExecuteTime": {
     "end_time": "2023-06-26T09:18:42.514539Z",
     "start_time": "2023-06-26T09:18:42.389654Z"
    }
   },
   "outputs": [],
   "source": [
    "rm -rf LOG.log"
   ]
  },
  {
   "cell_type": "code",
   "execution_count": 12,
   "id": "35a8bcba",
   "metadata": {
    "ExecuteTime": {
     "end_time": "2023-06-26T09:18:42.521281Z",
     "start_time": "2023-06-26T09:18:42.517686Z"
    }
   },
   "outputs": [],
   "source": [
    "@tim(level=\"info\", console_log_level=\"info\")\n",
    "def sum_(first, second=2):\n",
    "    \"\"\"Sum two numbers.\"\"\"\n",
    "    \n",
    "    result = first + second\n",
    "    time.sleep(2)\n",
    "    return result"
   ]
  },
  {
   "cell_type": "code",
   "execution_count": 13,
   "id": "1fe2cd15",
   "metadata": {
    "ExecuteTime": {
     "end_time": "2023-06-26T09:18:44.530615Z",
     "start_time": "2023-06-26T09:18:42.523188Z"
    }
   },
   "outputs": [
    {
     "name": "stderr",
     "output_type": "stream",
     "text": [
      "sum_ was executed in: 2.002 sec\n"
     ]
    }
   ],
   "source": [
    "dummy = sum_(1,1)"
   ]
  },
  {
   "cell_type": "code",
   "execution_count": 14,
   "id": "c1a74b32",
   "metadata": {
    "ExecuteTime": {
     "end_time": "2023-06-26T09:18:44.658184Z",
     "start_time": "2023-06-26T09:18:44.532647Z"
    }
   },
   "outputs": [
    {
     "name": "stdout",
     "output_type": "stream",
     "text": [
      "2023/06/26 | 10:18:44 | INFO sum_ was executed in: 2.002 sec\r\n"
     ]
    }
   ],
   "source": [
    "cat LOG.log"
   ]
  },
  {
   "cell_type": "code",
   "execution_count": 15,
   "id": "f2d830d1",
   "metadata": {
    "ExecuteTime": {
     "end_time": "2023-06-26T09:18:44.791312Z",
     "start_time": "2023-06-26T09:18:44.661502Z"
    }
   },
   "outputs": [],
   "source": [
    "rm -rf LOG.log"
   ]
  },
  {
   "cell_type": "code",
   "execution_count": 16,
   "id": "a7a0da8c",
   "metadata": {
    "ExecuteTime": {
     "end_time": "2023-06-26T09:18:47.808700Z",
     "start_time": "2023-06-26T09:18:44.794811Z"
    }
   },
   "outputs": [
    {
     "name": "stdout",
     "output_type": "stream",
     "text": [
      "Some message on console\n"
     ]
    },
    {
     "name": "stderr",
     "output_type": "stream",
     "text": [
      "sum_ was executed in: 0.05 min\n"
     ]
    },
    {
     "name": "stdout",
     "output_type": "stream",
     "text": [
      "Result is: 3\n"
     ]
    },
    {
     "data": {
      "text/plain": [
       "3"
      ]
     },
     "execution_count": 16,
     "metadata": {},
     "output_type": "execute_result"
    }
   ],
   "source": [
    "@tim(unit=\"min\", console_log_level=\"debug\")\n",
    "def sum_(first, second=2):\n",
    "    \"\"\"Sum two numbers.\"\"\"\n",
    "\n",
    "    print(\"Some message on console\")\n",
    "    result = first + second\n",
    "    time.sleep(3)\n",
    "    print(\"Result is: \" + str(result))\n",
    "    return result\n",
    "sum_(1,2)"
   ]
  },
  {
   "cell_type": "code",
   "execution_count": 17,
   "id": "d7b7d6bf",
   "metadata": {
    "ExecuteTime": {
     "end_time": "2023-06-26T09:18:47.936904Z",
     "start_time": "2023-06-26T09:18:47.811853Z"
    }
   },
   "outputs": [
    {
     "name": "stdout",
     "output_type": "stream",
     "text": [
      "2023/06/26 | 10:18:47 | DEBUG sum_ was executed in: 0.05 min\r\n"
     ]
    }
   ],
   "source": [
    "cat LOG.log"
   ]
  },
  {
   "cell_type": "code",
   "execution_count": 18,
   "id": "06e48786",
   "metadata": {
    "ExecuteTime": {
     "end_time": "2023-06-26T09:18:48.064310Z",
     "start_time": "2023-06-26T09:18:47.939108Z"
    }
   },
   "outputs": [],
   "source": [
    "rm LOG.log"
   ]
  },
  {
   "cell_type": "code",
   "execution_count": 19,
   "id": "97aa78ce",
   "metadata": {
    "ExecuteTime": {
     "end_time": "2023-06-26T09:18:50.082044Z",
     "start_time": "2023-06-26T09:18:48.067278Z"
    }
   },
   "outputs": [
    {
     "name": "stdout",
     "output_type": "stream",
     "text": [
      "Some message on console\n"
     ]
    },
    {
     "name": "stderr",
     "output_type": "stream",
     "text": [
      "sum_ was executed in: 0.033 min\n"
     ]
    },
    {
     "name": "stdout",
     "output_type": "stream",
     "text": [
      "Result is: 3\n"
     ]
    },
    {
     "data": {
      "text/plain": [
       "3"
      ]
     },
     "execution_count": 19,
     "metadata": {},
     "output_type": "execute_result"
    }
   ],
   "source": [
    "@tim(unit=\"min\",\n",
    "     console_log_level=\"debug\",\n",
    "     log_file_name=\"test\",\n",
    "     log_file_path=\"./log_folder\")\n",
    "def sum_(first, second=2):\n",
    "    \"\"\"Sum two numbers.\"\"\"\n",
    "\n",
    "    print(\"Some message on console\")\n",
    "    result = first + second\n",
    "    time.sleep(2)\n",
    "    print(\"Result is: \" + str(result))\n",
    "    return result\n",
    "sum_(1, 2)"
   ]
  },
  {
   "cell_type": "code",
   "execution_count": 20,
   "id": "4e6e7cc9",
   "metadata": {
    "ExecuteTime": {
     "end_time": "2023-06-26T09:18:50.212244Z",
     "start_time": "2023-06-26T09:18:50.084281Z"
    }
   },
   "outputs": [
    {
     "name": "stdout",
     "output_type": "stream",
     "text": [
      "2023/06/26 | 07:18:13 | DEBUG sum_ was executed in: 0.033 min\r\n",
      "2023/06/26 | 09:18:56 | DEBUG sum_ was executed in: 0.033 min\r\n",
      "2023/06/26 | 09:21:14 | DEBUG sum_ was executed in: 0.034 min\r\n",
      "2023/06/26 | 09:51:14 | DEBUG sum_ was executed in: 0.033 min\r\n",
      "2023/06/26 | 09:51:49 | DEBUG sum_ was executed in: 0.033 min\r\n",
      "2023/06/26 | 10:18:50 | DEBUG sum_ was executed in: 0.033 min\r\n"
     ]
    }
   ],
   "source": [
    "cat log_folder/test.log"
   ]
  },
  {
   "cell_type": "code",
   "execution_count": null,
   "id": "0c526d47",
   "metadata": {},
   "outputs": [],
   "source": []
  }
 ],
 "metadata": {
  "kernelspec": {
   "display_name": "Python 3 (ipykernel)",
   "language": "python",
   "name": "python3"
  },
  "language_info": {
   "codemirror_mode": {
    "name": "ipython",
    "version": 3
   },
   "file_extension": ".py",
   "mimetype": "text/x-python",
   "name": "python",
   "nbconvert_exporter": "python",
   "pygments_lexer": "ipython3",
   "version": "3.9.7"
  },
  "toc": {
   "base_numbering": 1,
   "nav_menu": {},
   "number_sections": true,
   "sideBar": true,
   "skip_h1_title": false,
   "title_cell": "Table of Contents",
   "title_sidebar": "Contents",
   "toc_cell": false,
   "toc_position": {},
   "toc_section_display": true,
   "toc_window_display": false
  },
  "varInspector": {
   "cols": {
    "lenName": 16,
    "lenType": 16,
    "lenVar": 40
   },
   "kernels_config": {
    "python": {
     "delete_cmd_postfix": "",
     "delete_cmd_prefix": "del ",
     "library": "var_list.py",
     "varRefreshCmd": "print(var_dic_list())"
    },
    "r": {
     "delete_cmd_postfix": ") ",
     "delete_cmd_prefix": "rm(",
     "library": "var_list.r",
     "varRefreshCmd": "cat(var_dic_list()) "
    }
   },
   "types_to_exclude": [
    "module",
    "function",
    "builtin_function_or_method",
    "instance",
    "_Feature"
   ],
   "window_display": false
  }
 },
 "nbformat": 4,
 "nbformat_minor": 5
}
