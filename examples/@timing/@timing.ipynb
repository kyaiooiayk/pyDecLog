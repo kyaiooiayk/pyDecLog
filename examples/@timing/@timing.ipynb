{
 "cells": [
  {
   "cell_type": "code",
   "execution_count": 1,
   "id": "dc4d14df",
   "metadata": {
    "ExecuteTime": {
     "end_time": "2023-06-26T20:22:29.496959Z",
     "start_time": "2023-06-26T20:22:29.400067Z"
    }
   },
   "outputs": [],
   "source": [
    "import time\n",
    "from pyDecLog import timing as tim"
   ]
  },
  {
   "cell_type": "code",
   "execution_count": 2,
   "id": "e916ca95",
   "metadata": {
    "ExecuteTime": {
     "end_time": "2023-06-26T20:22:29.622068Z",
     "start_time": "2023-06-26T20:22:29.498599Z"
    }
   },
   "outputs": [
    {
     "name": "stdout",
     "output_type": "stream",
     "text": [
      "rm: LOG.log: No such file or directory\r\n"
     ]
    }
   ],
   "source": [
    "rm LOG.log"
   ]
  },
  {
   "cell_type": "code",
   "execution_count": 3,
   "id": "16762f4a",
   "metadata": {
    "ExecuteTime": {
     "end_time": "2023-06-26T20:22:29.753599Z",
     "start_time": "2023-06-26T20:22:29.626600Z"
    }
   },
   "outputs": [
    {
     "name": "stdout",
     "output_type": "stream",
     "text": [
      "rm: log_folder/: No such file or directory\r\n"
     ]
    }
   ],
   "source": [
    "rm log_folder/"
   ]
  },
  {
   "cell_type": "code",
   "execution_count": 4,
   "id": "04d6842e",
   "metadata": {
    "ExecuteTime": {
     "end_time": "2023-06-26T20:22:29.760683Z",
     "start_time": "2023-06-26T20:22:29.757102Z"
    }
   },
   "outputs": [],
   "source": [
    "@tim\n",
    "def sum_(first, second=2):\n",
    "    \"\"\"Sum two numbers.\"\"\"\n",
    "    \n",
    "    result = first + second\n",
    "    return result"
   ]
  },
  {
   "cell_type": "code",
   "execution_count": 5,
   "id": "cf3c7069",
   "metadata": {
    "ExecuteTime": {
     "end_time": "2023-06-26T20:22:29.766975Z",
     "start_time": "2023-06-26T20:22:29.762883Z"
    }
   },
   "outputs": [],
   "source": [
    "dummy = sum_(1,1)"
   ]
  },
  {
   "cell_type": "code",
   "execution_count": 6,
   "id": "8365a190",
   "metadata": {
    "ExecuteTime": {
     "end_time": "2023-06-26T20:22:29.894519Z",
     "start_time": "2023-06-26T20:22:29.768774Z"
    }
   },
   "outputs": [
    {
     "name": "stdout",
     "output_type": "stream",
     "text": [
      "2023/06/26 | 21:22:29 | DEBUG sum_ was executed in: 0.0 sec\r\n"
     ]
    }
   ],
   "source": [
    "cat LOG.log"
   ]
  },
  {
   "cell_type": "code",
   "execution_count": 7,
   "id": "d332d048",
   "metadata": {
    "ExecuteTime": {
     "end_time": "2023-06-26T20:22:30.023387Z",
     "start_time": "2023-06-26T20:22:29.897174Z"
    }
   },
   "outputs": [],
   "source": [
    "rm -rf LOG.log"
   ]
  },
  {
   "cell_type": "code",
   "execution_count": 8,
   "id": "abbc3fa6",
   "metadata": {
    "ExecuteTime": {
     "end_time": "2023-06-26T20:22:30.030947Z",
     "start_time": "2023-06-26T20:22:30.027411Z"
    }
   },
   "outputs": [],
   "source": [
    "@tim(level=\"info\")\n",
    "def sum_(first, second=2):\n",
    "    \"\"\"Sum two numbers.\"\"\"\n",
    "    \n",
    "    result = first + second\n",
    "    return result"
   ]
  },
  {
   "cell_type": "code",
   "execution_count": 9,
   "id": "b25650eb",
   "metadata": {
    "ExecuteTime": {
     "end_time": "2023-06-26T20:22:30.038563Z",
     "start_time": "2023-06-26T20:22:30.035139Z"
    }
   },
   "outputs": [],
   "source": [
    "dummy = sum_(1,1)"
   ]
  },
  {
   "cell_type": "code",
   "execution_count": 10,
   "id": "ea6be893",
   "metadata": {
    "ExecuteTime": {
     "end_time": "2023-06-26T20:22:30.169246Z",
     "start_time": "2023-06-26T20:22:30.040565Z"
    }
   },
   "outputs": [
    {
     "name": "stdout",
     "output_type": "stream",
     "text": [
      "2023/06/26 | 21:22:30 | INFO sum_ was executed in: 0.0 sec\r\n"
     ]
    }
   ],
   "source": [
    "cat LOG.log"
   ]
  },
  {
   "cell_type": "code",
   "execution_count": 11,
   "id": "7c4d7cda",
   "metadata": {
    "ExecuteTime": {
     "end_time": "2023-06-26T20:22:30.296068Z",
     "start_time": "2023-06-26T20:22:30.171876Z"
    }
   },
   "outputs": [],
   "source": [
    "rm -rf LOG.log"
   ]
  },
  {
   "cell_type": "code",
   "execution_count": 12,
   "id": "35a8bcba",
   "metadata": {
    "ExecuteTime": {
     "end_time": "2023-06-26T20:22:30.302607Z",
     "start_time": "2023-06-26T20:22:30.299166Z"
    }
   },
   "outputs": [],
   "source": [
    "@tim(level=\"info\", console_log_level=\"info\")\n",
    "def sum_(first, second=2):\n",
    "    \"\"\"Sum two numbers.\"\"\"\n",
    "    \n",
    "    result = first + second\n",
    "    time.sleep(2)\n",
    "    return result"
   ]
  },
  {
   "cell_type": "code",
   "execution_count": 13,
   "id": "1fe2cd15",
   "metadata": {
    "ExecuteTime": {
     "end_time": "2023-06-26T20:22:32.310797Z",
     "start_time": "2023-06-26T20:22:30.304727Z"
    }
   },
   "outputs": [
    {
     "name": "stderr",
     "output_type": "stream",
     "text": [
      "sum_ was executed in: 2.001 sec\n"
     ]
    }
   ],
   "source": [
    "dummy = sum_(1,1)"
   ]
  },
  {
   "cell_type": "code",
   "execution_count": 14,
   "id": "c1a74b32",
   "metadata": {
    "ExecuteTime": {
     "end_time": "2023-06-26T20:22:32.439024Z",
     "start_time": "2023-06-26T20:22:32.313119Z"
    }
   },
   "outputs": [
    {
     "name": "stdout",
     "output_type": "stream",
     "text": [
      "2023/06/26 | 21:22:32 | INFO sum_ was executed in: 2.001 sec\r\n"
     ]
    }
   ],
   "source": [
    "cat LOG.log"
   ]
  },
  {
   "cell_type": "code",
   "execution_count": 15,
   "id": "f2d830d1",
   "metadata": {
    "ExecuteTime": {
     "end_time": "2023-06-26T20:22:32.569131Z",
     "start_time": "2023-06-26T20:22:32.442210Z"
    }
   },
   "outputs": [],
   "source": [
    "rm -rf LOG.log"
   ]
  },
  {
   "cell_type": "code",
   "execution_count": 16,
   "id": "a7a0da8c",
   "metadata": {
    "ExecuteTime": {
     "end_time": "2023-06-26T20:22:35.588212Z",
     "start_time": "2023-06-26T20:22:32.572464Z"
    }
   },
   "outputs": [
    {
     "name": "stdout",
     "output_type": "stream",
     "text": [
      "Some message on console\n"
     ]
    },
    {
     "name": "stderr",
     "output_type": "stream",
     "text": [
      "sum_ was executed in: 0.05 min\n"
     ]
    },
    {
     "name": "stdout",
     "output_type": "stream",
     "text": [
      "Result is: 3\n"
     ]
    },
    {
     "data": {
      "text/plain": [
       "3"
      ]
     },
     "execution_count": 16,
     "metadata": {},
     "output_type": "execute_result"
    }
   ],
   "source": [
    "@tim(unit=\"min\", console_log_level=\"debug\")\n",
    "def sum_(first, second=2):\n",
    "    \"\"\"Sum two numbers.\"\"\"\n",
    "\n",
    "    print(\"Some message on console\")\n",
    "    result = first + second\n",
    "    time.sleep(3)\n",
    "    print(\"Result is: \" + str(result))\n",
    "    return result\n",
    "sum_(1,2)"
   ]
  },
  {
   "cell_type": "code",
   "execution_count": 17,
   "id": "d7b7d6bf",
   "metadata": {
    "ExecuteTime": {
     "end_time": "2023-06-26T20:22:35.715495Z",
     "start_time": "2023-06-26T20:22:35.590218Z"
    }
   },
   "outputs": [
    {
     "name": "stdout",
     "output_type": "stream",
     "text": [
      "2023/06/26 | 21:22:35 | DEBUG sum_ was executed in: 0.05 min\r\n"
     ]
    }
   ],
   "source": [
    "cat LOG.log"
   ]
  },
  {
   "cell_type": "code",
   "execution_count": 18,
   "id": "06e48786",
   "metadata": {
    "ExecuteTime": {
     "end_time": "2023-06-26T20:22:35.845760Z",
     "start_time": "2023-06-26T20:22:35.717711Z"
    }
   },
   "outputs": [],
   "source": [
    "rm LOG.log"
   ]
  },
  {
   "cell_type": "code",
   "execution_count": 19,
   "id": "97aa78ce",
   "metadata": {
    "ExecuteTime": {
     "end_time": "2023-06-26T20:22:37.858113Z",
     "start_time": "2023-06-26T20:22:35.849135Z"
    }
   },
   "outputs": [
    {
     "name": "stdout",
     "output_type": "stream",
     "text": [
      "Some message on console\n"
     ]
    },
    {
     "name": "stderr",
     "output_type": "stream",
     "text": [
      "sum_ was executed in: 0.033 min\n"
     ]
    },
    {
     "name": "stdout",
     "output_type": "stream",
     "text": [
      "Result is: 3\n"
     ]
    },
    {
     "data": {
      "text/plain": [
       "3"
      ]
     },
     "execution_count": 19,
     "metadata": {},
     "output_type": "execute_result"
    }
   ],
   "source": [
    "@tim(unit=\"min\",\n",
    "     console_log_level=\"debug\",\n",
    "     log_file_name=\"test\",\n",
    "     log_file_path=\"./log_folder\")\n",
    "def sum_(first, second=2):\n",
    "    \"\"\"Sum two numbers.\"\"\"\n",
    "\n",
    "    print(\"Some message on console\")\n",
    "    result = first + second\n",
    "    time.sleep(2)\n",
    "    print(\"Result is: \" + str(result))\n",
    "    return result\n",
    "sum_(1, 2)"
   ]
  },
  {
   "cell_type": "code",
   "execution_count": 20,
   "id": "4e6e7cc9",
   "metadata": {
    "ExecuteTime": {
     "end_time": "2023-06-26T20:22:37.986481Z",
     "start_time": "2023-06-26T20:22:37.860135Z"
    }
   },
   "outputs": [
    {
     "name": "stdout",
     "output_type": "stream",
     "text": [
      "2023/06/26 | 21:22:37 | DEBUG sum_ was executed in: 0.033 min\r\n"
     ]
    }
   ],
   "source": [
    "cat log_folder/test.log"
   ]
  },
  {
   "cell_type": "code",
   "execution_count": 21,
   "id": "0c526d47",
   "metadata": {
    "ExecuteTime": {
     "end_time": "2023-06-26T20:22:37.993593Z",
     "start_time": "2023-06-26T20:22:37.988809Z"
    }
   },
   "outputs": [
    {
     "data": {
      "text/plain": [
       "35"
      ]
     },
     "execution_count": 21,
     "metadata": {},
     "output_type": "execute_result"
    }
   ],
   "source": [
    "open('log_folder/test.log', 'r').read().find('was executed in')"
   ]
  },
  {
   "cell_type": "code",
   "execution_count": null,
   "id": "8859c4fc",
   "metadata": {},
   "outputs": [],
   "source": []
  }
 ],
 "metadata": {
  "kernelspec": {
   "display_name": "Python 3 (ipykernel)",
   "language": "python",
   "name": "python3"
  },
  "language_info": {
   "codemirror_mode": {
    "name": "ipython",
    "version": 3
   },
   "file_extension": ".py",
   "mimetype": "text/x-python",
   "name": "python",
   "nbconvert_exporter": "python",
   "pygments_lexer": "ipython3",
   "version": "3.9.7"
  },
  "toc": {
   "base_numbering": 1,
   "nav_menu": {},
   "number_sections": true,
   "sideBar": true,
   "skip_h1_title": false,
   "title_cell": "Table of Contents",
   "title_sidebar": "Contents",
   "toc_cell": false,
   "toc_position": {},
   "toc_section_display": true,
   "toc_window_display": false
  },
  "varInspector": {
   "cols": {
    "lenName": 16,
    "lenType": 16,
    "lenVar": 40
   },
   "kernels_config": {
    "python": {
     "delete_cmd_postfix": "",
     "delete_cmd_prefix": "del ",
     "library": "var_list.py",
     "varRefreshCmd": "print(var_dic_list())"
    },
    "r": {
     "delete_cmd_postfix": ") ",
     "delete_cmd_prefix": "rm(",
     "library": "var_list.r",
     "varRefreshCmd": "cat(var_dic_list()) "
    }
   },
   "types_to_exclude": [
    "module",
    "function",
    "builtin_function_or_method",
    "instance",
    "_Feature"
   ],
   "window_display": false
  }
 },
 "nbformat": 4,
 "nbformat_minor": 5
}
