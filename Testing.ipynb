{
 "cells": [
  {
   "cell_type": "code",
   "execution_count": 1,
   "metadata": {
    "ExecuteTime": {
     "end_time": "2023-06-23T07:36:30.134899Z",
     "start_time": "2023-06-23T07:36:29.988912Z"
    }
   },
   "outputs": [],
   "source": [
    "from PyDecLog import arguments as arg\n",
    "from PyDecLog import signature as sign\n",
    "from PyDecLog import message as mes\n",
    "from PyDecLog import timing as tim\n",
    "from PyDecLog import lprint\n",
    "from PyDecLog import description as doc\n",
    "import time"
   ]
  },
  {
   "cell_type": "code",
   "execution_count": 2,
   "metadata": {
    "ExecuteTime": {
     "end_time": "2023-06-23T07:36:30.139957Z",
     "start_time": "2023-06-23T07:36:30.136838Z"
    }
   },
   "outputs": [],
   "source": [
    "lprint = lprint()"
   ]
  },
  {
   "cell_type": "markdown",
   "metadata": {},
   "source": [
    "# Use multiple decorators "
   ]
  },
  {
   "cell_type": "code",
   "execution_count": 3,
   "metadata": {
    "ExecuteTime": {
     "end_time": "2023-06-23T07:36:30.146844Z",
     "start_time": "2023-06-23T07:36:30.143423Z"
    }
   },
   "outputs": [],
   "source": [
    "@doc\n",
    "@sign\n",
    "@arg\n",
    "@tim\n",
    "@mes\n",
    "def sum_(first, second=2):\n",
    "    \"\"\"Sum two numbers.\"\"\"\n",
    "\n",
    "    print(\"Some message on console\")\n",
    "    result = first + second\n",
    "    time.sleep(2)\n",
    "    print(\"Result is: \" + str(result))\n",
    "    return result"
   ]
  },
  {
   "cell_type": "code",
   "execution_count": 4,
   "metadata": {
    "ExecuteTime": {
     "end_time": "2023-06-23T07:36:32.156038Z",
     "start_time": "2023-06-23T07:36:30.148875Z"
    }
   },
   "outputs": [],
   "source": [
    "%timeit\n",
    "dummy = sum_(1,1)"
   ]
  },
  {
   "cell_type": "code",
   "execution_count": 5,
   "metadata": {
    "ExecuteTime": {
     "end_time": "2023-06-23T07:36:34.167995Z",
     "start_time": "2023-06-23T07:36:32.157371Z"
    }
   },
   "outputs": [],
   "source": [
    "dummy = sum_(1, second=2)"
   ]
  },
  {
   "cell_type": "markdown",
   "metadata": {},
   "source": [
    "# Getting function args and kargs"
   ]
  },
  {
   "cell_type": "code",
   "execution_count": 6,
   "metadata": {
    "ExecuteTime": {
     "end_time": "2023-06-23T07:36:34.174447Z",
     "start_time": "2023-06-23T07:36:34.171135Z"
    }
   },
   "outputs": [],
   "source": [
    "@arg\n",
    "def sum_(first, second=2):\n",
    "    \"\"\"Sum two numbers.\"\"\"\n",
    "\n",
    "    print(\"Some message on console\")\n",
    "    result = first + second\n",
    "    time.sleep(2)\n",
    "    print(\"Result is: \" + str(result))\n",
    "    return result"
   ]
  },
  {
   "cell_type": "code",
   "execution_count": 7,
   "metadata": {
    "ExecuteTime": {
     "end_time": "2023-06-23T07:36:36.180590Z",
     "start_time": "2023-06-23T07:36:34.176379Z"
    }
   },
   "outputs": [
    {
     "name": "stdout",
     "output_type": "stream",
     "text": [
      "Some message on console\n",
      "Result is: 3\n"
     ]
    }
   ],
   "source": [
    "dummy = sum_(1,2)"
   ]
  },
  {
   "cell_type": "markdown",
   "metadata": {},
   "source": [
    "# Timing the function"
   ]
  },
  {
   "cell_type": "code",
   "execution_count": 8,
   "metadata": {
    "ExecuteTime": {
     "end_time": "2023-06-23T07:36:39.198847Z",
     "start_time": "2023-06-23T07:36:36.182553Z"
    }
   },
   "outputs": [
    {
     "name": "stdout",
     "output_type": "stream",
     "text": [
      "Some message on console\n",
      "Result is: 3\n"
     ]
    },
    {
     "data": {
      "text/plain": [
       "3"
      ]
     },
     "execution_count": 8,
     "metadata": {},
     "output_type": "execute_result"
    }
   ],
   "source": [
    "@tim\n",
    "def sum_(first, second=2):\n",
    "    \"\"\"Sum two numbers.\"\"\"\n",
    "\n",
    "    print(\"Some message on console\")\n",
    "    result = first + second\n",
    "    time.sleep(3)\n",
    "    print(\"Result is: \" + str(result))\n",
    "    return result\n",
    "sum_(1,2)"
   ]
  },
  {
   "cell_type": "markdown",
   "metadata": {},
   "source": [
    "# Changing time units"
   ]
  },
  {
   "cell_type": "code",
   "execution_count": 9,
   "metadata": {
    "ExecuteTime": {
     "end_time": "2023-06-23T07:36:42.212269Z",
     "start_time": "2023-06-23T07:36:39.203677Z"
    }
   },
   "outputs": [
    {
     "name": "stdout",
     "output_type": "stream",
     "text": [
      "Some message on console\n"
     ]
    },
    {
     "name": "stderr",
     "output_type": "stream",
     "text": [
      "sum_ was executed in: 0.05 min\n"
     ]
    },
    {
     "name": "stdout",
     "output_type": "stream",
     "text": [
      "Result is: 3\n"
     ]
    },
    {
     "data": {
      "text/plain": [
       "3"
      ]
     },
     "execution_count": 9,
     "metadata": {},
     "output_type": "execute_result"
    }
   ],
   "source": [
    "@tim(unit=\"min\", console_log_level=\"debug\")\n",
    "def sum_(first, second=2):\n",
    "    \"\"\"Sum two numbers.\"\"\"\n",
    "\n",
    "    print(\"Some message on console\")\n",
    "    result = first + second\n",
    "    time.sleep(3)\n",
    "    print(\"Result is: \" + str(result))\n",
    "    return result\n",
    "sum_(1,2)"
   ]
  },
  {
   "cell_type": "code",
   "execution_count": 10,
   "metadata": {
    "ExecuteTime": {
     "end_time": "2023-06-23T07:36:45.227925Z",
     "start_time": "2023-06-23T07:36:42.214597Z"
    }
   },
   "outputs": [
    {
     "name": "stdout",
     "output_type": "stream",
     "text": [
      "Some message on console\n"
     ]
    },
    {
     "name": "stderr",
     "output_type": "stream",
     "text": [
      "sum_ was executed in: 0.001 hr\n"
     ]
    },
    {
     "name": "stdout",
     "output_type": "stream",
     "text": [
      "Result is: 3\n"
     ]
    },
    {
     "data": {
      "text/plain": [
       "3"
      ]
     },
     "execution_count": 10,
     "metadata": {},
     "output_type": "execute_result"
    }
   ],
   "source": [
    "@tim(unit=\"hr\", console_log_level=\"debug\")\n",
    "def sum_(first, second=2):\n",
    "    \"\"\"Sum two numbers.\"\"\"\n",
    "\n",
    "    print(\"Some message on console\")\n",
    "    result = first + second\n",
    "    time.sleep(3)\n",
    "    print(\"Result is: \" + str(result))\n",
    "    return result\n",
    "sum_(1,2)"
   ]
  },
  {
   "cell_type": "markdown",
   "metadata": {},
   "source": [
    "# Decorating the `print` function"
   ]
  },
  {
   "cell_type": "code",
   "execution_count": 11,
   "metadata": {
    "ExecuteTime": {
     "end_time": "2023-06-23T07:36:45.233121Z",
     "start_time": "2023-06-23T07:36:45.230153Z"
    },
    "code_folding": [
     1
    ]
   },
   "outputs": [],
   "source": [
    "@mes\n",
    "def sum_(first, second=2):\n",
    "    \"\"\"Sum two numbers.\"\"\"\n",
    "\n",
    "    print(\"Some message on console\")\n",
    "    result = first + second\n",
    "    time.sleep(2)\n",
    "    print(\"Result is: \" + str(result))\n",
    "    return result"
   ]
  },
  {
   "cell_type": "code",
   "execution_count": 12,
   "metadata": {
    "ExecuteTime": {
     "end_time": "2023-06-23T07:36:47.242199Z",
     "start_time": "2023-06-23T07:36:45.234830Z"
    }
   },
   "outputs": [
    {
     "data": {
      "text/plain": [
       "3"
      ]
     },
     "execution_count": 12,
     "metadata": {},
     "output_type": "execute_result"
    }
   ],
   "source": [
    "sum_(1,2)"
   ]
  },
  {
   "cell_type": "markdown",
   "metadata": {},
   "source": [
    "## Controlling print message level"
   ]
  },
  {
   "cell_type": "markdown",
   "metadata": {},
   "source": [
    "## Default"
   ]
  },
  {
   "cell_type": "code",
   "execution_count": 13,
   "metadata": {
    "ExecuteTime": {
     "end_time": "2023-06-23T07:36:47.248759Z",
     "start_time": "2023-06-23T07:36:47.244939Z"
    }
   },
   "outputs": [],
   "source": [
    "@mes\n",
    "def sum_(first, second=2):\n",
    "    \"\"\"Sum two numbers.\"\"\"\n",
    "\n",
    "    print(\"Some message on console\")\n",
    "    result = first + second\n",
    "    time.sleep(2)\n",
    "    print(\"Result is: \" + str(result))\n",
    "    return result"
   ]
  },
  {
   "cell_type": "code",
   "execution_count": 14,
   "metadata": {
    "ExecuteTime": {
     "end_time": "2023-06-23T07:36:49.258187Z",
     "start_time": "2023-06-23T07:36:47.251656Z"
    }
   },
   "outputs": [],
   "source": [
    "dummy = sum_(1,2)"
   ]
  },
  {
   "cell_type": "markdown",
   "metadata": {},
   "source": [
    "## User-defined"
   ]
  },
  {
   "cell_type": "code",
   "execution_count": 15,
   "metadata": {
    "ExecuteTime": {
     "end_time": "2023-06-23T07:36:51.268419Z",
     "start_time": "2023-06-23T07:36:49.260069Z"
    }
   },
   "outputs": [],
   "source": [
    "@mes(level=\"debug\")\n",
    "def sum_(first, second=2):\n",
    "    \"\"\"Sum two numbers.\"\"\"\n",
    "\n",
    "    print(\"Some message on console\")\n",
    "    result = first + second\n",
    "    time.sleep(2)\n",
    "    print(\"Result is: \" + str(result))\n",
    "    return result\n",
    "dummy = sum_(1,2)"
   ]
  },
  {
   "cell_type": "code",
   "execution_count": 16,
   "metadata": {
    "ExecuteTime": {
     "end_time": "2023-06-23T07:36:53.279481Z",
     "start_time": "2023-06-23T07:36:51.270656Z"
    }
   },
   "outputs": [],
   "source": [
    "@mes(level=\"warning\")\n",
    "def sum_(first, second=2):\n",
    "    \"\"\"Sum two numbers.\"\"\"\n",
    "\n",
    "    print(\"Some message on console\")\n",
    "    result = first + second\n",
    "    time.sleep(2)\n",
    "    print(\"Result is: \" + str(result))\n",
    "    return result\n",
    "dummy = sum_(1,2)"
   ]
  },
  {
   "cell_type": "code",
   "execution_count": 17,
   "metadata": {
    "ExecuteTime": {
     "end_time": "2023-06-23T07:36:55.286604Z",
     "start_time": "2023-06-23T07:36:53.281524Z"
    }
   },
   "outputs": [],
   "source": [
    "@mes(level=\"error\")\n",
    "def sum_(first, second=2):\n",
    "    \"\"\"Sum two numbers.\"\"\"\n",
    "\n",
    "    print(\"Some message on console\")\n",
    "    result = first + second\n",
    "    time.sleep(2)\n",
    "    print(\"Result is: \" + str(result))\n",
    "    return result\n",
    "dummy = sum_(1,2)"
   ]
  },
  {
   "cell_type": "code",
   "execution_count": 18,
   "metadata": {
    "ExecuteTime": {
     "end_time": "2023-06-23T07:36:57.300361Z",
     "start_time": "2023-06-23T07:36:55.289414Z"
    }
   },
   "outputs": [
    {
     "name": "stderr",
     "output_type": "stream",
     "text": [
      "Some message on console\n",
      "Result is: 3\n"
     ]
    }
   ],
   "source": [
    "@mes(level=\"critical\")\n",
    "def sum_(first, second=2):\n",
    "    \"\"\"Sum two numbers.\"\"\"\n",
    "\n",
    "    print(\"Some message on console\")\n",
    "    result = first + second\n",
    "    time.sleep(2)\n",
    "    print(\"Result is: \" + str(result))\n",
    "    return result\n",
    "dummy = sum_(1,2)"
   ]
  },
  {
   "cell_type": "markdown",
   "metadata": {},
   "source": [
    "## Super-custom"
   ]
  },
  {
   "cell_type": "markdown",
   "metadata": {},
   "source": [
    "- No need to use decorator here."
   ]
  },
  {
   "cell_type": "code",
   "execution_count": 19,
   "metadata": {
    "ExecuteTime": {
     "end_time": "2023-06-23T07:36:57.310345Z",
     "start_time": "2023-06-23T07:36:57.302525Z"
    },
    "scrolled": true
   },
   "outputs": [
    {
     "name": "stderr",
     "output_type": "stream",
     "text": [
      "Results 1 is: 3\n",
      "Results 3 is: 3\n",
      "Results 4 is: 3\n",
      "Results 5 is: 3\n"
     ]
    }
   ],
   "source": [
    "def sum_(first=0, second=0):\n",
    "    \"\"\"Sum two numbers.\n",
    "    \"\"\"\n",
    "\n",
    "    result = first + second    \n",
    "    lprint.info(\"Results 1 is: \" + str(result))    \n",
    "    lprint.debug(\"Results 2 is: \" + str(result))\n",
    "    lprint.warning(\"Results 3 is: \" + str(result))\n",
    "    lprint.error(\"Results 4 is: \" + str(result))\n",
    "    lprint.critical(\"Results 5 is: \" + str(result))\n",
    "    \n",
    "    return result\n",
    "dummy = sum_(1,2)"
   ]
  },
  {
   "cell_type": "markdown",
   "metadata": {},
   "source": [
    "## Adding message to log outside of a function"
   ]
  },
  {
   "cell_type": "code",
   "execution_count": 20,
   "metadata": {
    "ExecuteTime": {
     "end_time": "2023-06-23T07:36:57.315144Z",
     "start_time": "2023-06-23T07:36:57.312385Z"
    }
   },
   "outputs": [],
   "source": [
    "from Decorators import lprint"
   ]
  },
  {
   "cell_type": "code",
   "execution_count": 21,
   "metadata": {
    "ExecuteTime": {
     "end_time": "2023-06-23T07:36:57.320786Z",
     "start_time": "2023-06-23T07:36:57.317551Z"
    }
   },
   "outputs": [],
   "source": [
    "lprint(console_log_level=\"critical\").info(\"simple message\") "
   ]
  },
  {
   "cell_type": "code",
   "execution_count": 22,
   "metadata": {
    "ExecuteTime": {
     "end_time": "2023-06-23T07:36:57.326405Z",
     "start_time": "2023-06-23T07:36:57.323136Z"
    }
   },
   "outputs": [],
   "source": [
    "lprint(console_log_level=\"critical\").debug(\"simple message\") "
   ]
  },
  {
   "cell_type": "code",
   "execution_count": 23,
   "metadata": {
    "ExecuteTime": {
     "end_time": "2023-06-23T07:36:57.331330Z",
     "start_time": "2023-06-23T07:36:57.328270Z"
    }
   },
   "outputs": [],
   "source": [
    "lprint(console_log_level=\"critical\").warning(\"simple message\") "
   ]
  },
  {
   "cell_type": "code",
   "execution_count": 24,
   "metadata": {
    "ExecuteTime": {
     "end_time": "2023-06-23T07:36:57.336600Z",
     "start_time": "2023-06-23T07:36:57.333262Z"
    }
   },
   "outputs": [],
   "source": [
    "lprint(console_log_level=\"critical\").error(\"simple message\") "
   ]
  },
  {
   "cell_type": "code",
   "execution_count": 25,
   "metadata": {
    "ExecuteTime": {
     "end_time": "2023-06-23T07:36:57.342634Z",
     "start_time": "2023-06-23T07:36:57.338684Z"
    }
   },
   "outputs": [
    {
     "name": "stderr",
     "output_type": "stream",
     "text": [
      "simple CRITICAL message\n"
     ]
    }
   ],
   "source": [
    "lprint(console_log_level=\"critical\").critical(\"simple CRITICAL message\") "
   ]
  },
  {
   "cell_type": "markdown",
   "metadata": {},
   "source": [
    "# Profiling variables memory"
   ]
  },
  {
   "cell_type": "code",
   "execution_count": 2,
   "metadata": {
    "ExecuteTime": {
     "end_time": "2023-06-23T10:19:18.987673Z",
     "start_time": "2023-06-23T10:19:18.982817Z"
    },
    "scrolled": true
   },
   "outputs": [
    {
     "name": "stdout",
     "output_type": "stream",
     "text": [
      "second 2\n",
      "Some message on console\n",
      "Result is: 3\n"
     ]
    }
   ],
   "source": [
    "from PyDecLog import memory as mem\n",
    "\n",
    "@mem\n",
    "def sum_(first, second=1):\n",
    "    \"\"\"Sum two numbers.\"\"\"\n",
    "\n",
    "    print(\"Some message on console\")\n",
    "    result = first + second    \n",
    "    print(\"Result is: \" + str(result))\n",
    "    \n",
    "    return result\n",
    "dummy = sum_(1, second=2)"
   ]
  },
  {
   "cell_type": "markdown",
   "metadata": {},
   "source": [
    "# Profiling variables types"
   ]
  },
  {
   "cell_type": "code",
   "execution_count": 2,
   "metadata": {
    "ExecuteTime": {
     "end_time": "2023-06-23T10:26:52.926066Z",
     "start_time": "2023-06-23T10:26:52.920800Z"
    }
   },
   "outputs": [
    {
     "name": "stdout",
     "output_type": "stream",
     "text": [
      "Some message on console\n",
      "Result is: 3\n"
     ]
    }
   ],
   "source": [
    "from PyDecLog import typing as typ\n",
    "\n",
    "@typ\n",
    "def sum_(first, second=1):\n",
    "    \"\"\"Sum two numbers.\"\"\"\n",
    "\n",
    "    print(\"Some message on console\")\n",
    "    result = first + second    \n",
    "    print(\"Result is: \" + str(result))\n",
    "    \n",
    "    return result\n",
    "dummy = sum_(1, 2)"
   ]
  },
  {
   "cell_type": "code",
   "execution_count": 33,
   "metadata": {
    "ExecuteTime": {
     "end_time": "2023-06-23T08:32:38.380972Z",
     "start_time": "2023-06-23T08:32:36.371227Z"
    }
   },
   "outputs": [
    {
     "name": "stdout",
     "output_type": "stream",
     "text": [
      "Some message on console\n",
      "Result is: 3\n",
      "['first', 'second', 'result']\n",
      "[54, 55, 55]\n",
      "[<class 'str'>, <class 'str'>, <class 'str'>]\n"
     ]
    }
   ],
   "source": []
  },
  {
   "cell_type": "code",
   "execution_count": null,
   "metadata": {},
   "outputs": [],
   "source": []
  }
 ],
 "metadata": {
  "hide_input": false,
  "kernelspec": {
   "display_name": "trainingAI",
   "language": "python",
   "name": "trainingai"
  },
  "language_info": {
   "codemirror_mode": {
    "name": "ipython",
    "version": 3
   },
   "file_extension": ".py",
   "mimetype": "text/x-python",
   "name": "python",
   "nbconvert_exporter": "python",
   "pygments_lexer": "ipython3",
   "version": "3.9.7"
  },
  "toc": {
   "base_numbering": 1,
   "nav_menu": {},
   "number_sections": true,
   "sideBar": true,
   "skip_h1_title": false,
   "title_cell": "Table of Contents",
   "title_sidebar": "Contents",
   "toc_cell": false,
   "toc_position": {},
   "toc_section_display": true,
   "toc_window_display": true
  },
  "varInspector": {
   "cols": {
    "lenName": 16,
    "lenType": 16,
    "lenVar": 40
   },
   "kernels_config": {
    "python": {
     "delete_cmd_postfix": "",
     "delete_cmd_prefix": "del ",
     "library": "var_list.py",
     "varRefreshCmd": "print(var_dic_list())"
    },
    "r": {
     "delete_cmd_postfix": ") ",
     "delete_cmd_prefix": "rm(",
     "library": "var_list.r",
     "varRefreshCmd": "cat(var_dic_list()) "
    }
   },
   "types_to_exclude": [
    "module",
    "function",
    "builtin_function_or_method",
    "instance",
    "_Feature"
   ],
   "window_display": false
  }
 },
 "nbformat": 4,
 "nbformat_minor": 2
}
