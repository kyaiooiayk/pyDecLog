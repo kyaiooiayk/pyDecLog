{
 "cells": [
  {
   "cell_type": "code",
   "execution_count": 1,
   "metadata": {
    "ExecuteTime": {
     "end_time": "2023-06-24T17:16:54.925154Z",
     "start_time": "2023-06-24T17:16:54.797758Z"
    }
   },
   "outputs": [],
   "source": [
    "from PyDecLog import arguments as arg\n",
    "from PyDecLog import signature as sign\n",
    "from PyDecLog import message as mes\n",
    "from PyDecLog import timing as tim\n",
    "from PyDecLog import lprint\n",
    "from PyDecLog import description as doc\n",
    "from PyDecLog import memory as mem\n",
    "import time"
   ]
  },
  {
   "cell_type": "code",
   "execution_count": 2,
   "metadata": {
    "ExecuteTime": {
     "end_time": "2023-06-24T17:16:54.930763Z",
     "start_time": "2023-06-24T17:16:54.927457Z"
    }
   },
   "outputs": [],
   "source": [
    "lprint = lprint()"
   ]
  },
  {
   "cell_type": "markdown",
   "metadata": {},
   "source": [
    "# Use multiple decorators "
   ]
  },
  {
   "cell_type": "code",
   "execution_count": 4,
   "metadata": {
    "ExecuteTime": {
     "end_time": "2023-06-24T17:16:54.944260Z",
     "start_time": "2023-06-24T17:16:54.940484Z"
    }
   },
   "outputs": [],
   "source": [
    "@doc\n",
    "@sign\n",
    "@arg\n",
    "@tim\n",
    "@mes\n",
    "def sum_(first, second=2):\n",
    "    \"\"\"Sum two numbers.\"\"\"\n",
    "\n",
    "    print(\"Some message on console\")\n",
    "    result = first + second\n",
    "    time.sleep(2)\n",
    "    print(\"Result is: \" + str(result))\n",
    "    return result"
   ]
  },
  {
   "cell_type": "code",
   "execution_count": 5,
   "metadata": {
    "ExecuteTime": {
     "end_time": "2023-06-24T17:16:56.953646Z",
     "start_time": "2023-06-24T17:16:54.946604Z"
    }
   },
   "outputs": [],
   "source": [
    "%timeit\n",
    "dummy = sum_(1,1)"
   ]
  },
  {
   "cell_type": "code",
   "execution_count": 6,
   "metadata": {
    "ExecuteTime": {
     "end_time": "2023-06-24T17:16:58.961280Z",
     "start_time": "2023-06-24T17:16:56.955659Z"
    }
   },
   "outputs": [],
   "source": [
    "dummy = sum_(1, second=2)"
   ]
  },
  {
   "cell_type": "markdown",
   "metadata": {},
   "source": [
    "# Getting function args and kargs"
   ]
  },
  {
   "cell_type": "code",
   "execution_count": 7,
   "metadata": {
    "ExecuteTime": {
     "end_time": "2023-06-24T17:16:58.966539Z",
     "start_time": "2023-06-24T17:16:58.963289Z"
    }
   },
   "outputs": [],
   "source": [
    "@arg\n",
    "def sum_(first, second=2):\n",
    "    \"\"\"Sum two numbers.\"\"\"\n",
    "\n",
    "    print(\"Some message on console\")\n",
    "    result = first + second\n",
    "    time.sleep(2)\n",
    "    print(\"Result is: \" + str(result))\n",
    "    return result"
   ]
  },
  {
   "cell_type": "code",
   "execution_count": 8,
   "metadata": {
    "ExecuteTime": {
     "end_time": "2023-06-24T17:17:00.979540Z",
     "start_time": "2023-06-24T17:16:58.968800Z"
    }
   },
   "outputs": [
    {
     "name": "stdout",
     "output_type": "stream",
     "text": [
      "Some message on console\n",
      "Result is: 3\n"
     ]
    }
   ],
   "source": [
    "dummy = sum_(1,2)"
   ]
  },
  {
   "cell_type": "markdown",
   "metadata": {},
   "source": [
    "# Timing the function"
   ]
  },
  {
   "cell_type": "code",
   "execution_count": 9,
   "metadata": {
    "ExecuteTime": {
     "end_time": "2023-06-24T17:17:04.003267Z",
     "start_time": "2023-06-24T17:17:00.984707Z"
    }
   },
   "outputs": [
    {
     "name": "stdout",
     "output_type": "stream",
     "text": [
      "Some message on console\n",
      "Result is: 3\n"
     ]
    },
    {
     "data": {
      "text/plain": [
       "3"
      ]
     },
     "execution_count": 9,
     "metadata": {},
     "output_type": "execute_result"
    }
   ],
   "source": [
    "@tim\n",
    "def sum_(first, second=2):\n",
    "    \"\"\"Sum two numbers.\"\"\"\n",
    "\n",
    "    print(\"Some message on console\")\n",
    "    result = first + second\n",
    "    time.sleep(3)\n",
    "    print(\"Result is: \" + str(result))\n",
    "    return result\n",
    "sum_(1,2)"
   ]
  },
  {
   "cell_type": "markdown",
   "metadata": {},
   "source": [
    "# Changing time units"
   ]
  },
  {
   "cell_type": "code",
   "execution_count": 10,
   "metadata": {
    "ExecuteTime": {
     "end_time": "2023-06-24T17:17:07.018119Z",
     "start_time": "2023-06-24T17:17:04.005341Z"
    }
   },
   "outputs": [
    {
     "name": "stdout",
     "output_type": "stream",
     "text": [
      "Some message on console\n"
     ]
    },
    {
     "name": "stderr",
     "output_type": "stream",
     "text": [
      "sum_ was executed in: 0.05 min\n"
     ]
    },
    {
     "name": "stdout",
     "output_type": "stream",
     "text": [
      "Result is: 3\n"
     ]
    },
    {
     "data": {
      "text/plain": [
       "3"
      ]
     },
     "execution_count": 10,
     "metadata": {},
     "output_type": "execute_result"
    }
   ],
   "source": [
    "@tim(unit=\"min\", console_log_level=\"debug\")\n",
    "def sum_(first, second=2):\n",
    "    \"\"\"Sum two numbers.\"\"\"\n",
    "\n",
    "    print(\"Some message on console\")\n",
    "    result = first + second\n",
    "    time.sleep(3)\n",
    "    print(\"Result is: \" + str(result))\n",
    "    return result\n",
    "sum_(1,2)"
   ]
  },
  {
   "cell_type": "code",
   "execution_count": 11,
   "metadata": {
    "ExecuteTime": {
     "end_time": "2023-06-24T17:17:10.034461Z",
     "start_time": "2023-06-24T17:17:07.020517Z"
    }
   },
   "outputs": [
    {
     "name": "stdout",
     "output_type": "stream",
     "text": [
      "Some message on console\n"
     ]
    },
    {
     "name": "stderr",
     "output_type": "stream",
     "text": [
      "sum_ was executed in: 0.001 hr\n"
     ]
    },
    {
     "name": "stdout",
     "output_type": "stream",
     "text": [
      "Result is: 3\n"
     ]
    },
    {
     "data": {
      "text/plain": [
       "3"
      ]
     },
     "execution_count": 11,
     "metadata": {},
     "output_type": "execute_result"
    }
   ],
   "source": [
    "@tim(unit=\"hr\", console_log_level=\"debug\")\n",
    "def sum_(first, second=2):\n",
    "    \"\"\"Sum two numbers.\"\"\"\n",
    "\n",
    "    print(\"Some message on console\")\n",
    "    result = first + second\n",
    "    time.sleep(3)\n",
    "    print(\"Result is: \" + str(result))\n",
    "    return result\n",
    "sum_(1,2)"
   ]
  },
  {
   "cell_type": "markdown",
   "metadata": {},
   "source": [
    "# Decorating the `print` function"
   ]
  },
  {
   "cell_type": "code",
   "execution_count": 12,
   "metadata": {
    "ExecuteTime": {
     "end_time": "2023-06-24T17:17:10.040057Z",
     "start_time": "2023-06-24T17:17:10.036438Z"
    },
    "code_folding": [
     1
    ]
   },
   "outputs": [],
   "source": [
    "@mes\n",
    "def sum_(first, second=2):\n",
    "    \"\"\"Sum two numbers.\"\"\"\n",
    "\n",
    "    print(\"Some message on console\")\n",
    "    result = first + second\n",
    "    time.sleep(2)\n",
    "    print(\"Result is: \" + str(result))\n",
    "    return result"
   ]
  },
  {
   "cell_type": "code",
   "execution_count": 13,
   "metadata": {
    "ExecuteTime": {
     "end_time": "2023-06-24T17:17:12.047996Z",
     "start_time": "2023-06-24T17:17:10.042390Z"
    }
   },
   "outputs": [
    {
     "data": {
      "text/plain": [
       "3"
      ]
     },
     "execution_count": 13,
     "metadata": {},
     "output_type": "execute_result"
    }
   ],
   "source": [
    "sum_(1,2)"
   ]
  },
  {
   "cell_type": "markdown",
   "metadata": {},
   "source": [
    "## Controlling print message level"
   ]
  },
  {
   "cell_type": "markdown",
   "metadata": {},
   "source": [
    "## Default"
   ]
  },
  {
   "cell_type": "code",
   "execution_count": 14,
   "metadata": {
    "ExecuteTime": {
     "end_time": "2023-06-24T17:17:12.053524Z",
     "start_time": "2023-06-24T17:17:12.050352Z"
    }
   },
   "outputs": [],
   "source": [
    "@mes\n",
    "def sum_(first, second=2):\n",
    "    \"\"\"Sum two numbers.\"\"\"\n",
    "\n",
    "    print(\"Some message on console\")\n",
    "    result = first + second\n",
    "    time.sleep(2)\n",
    "    print(\"Result is: \" + str(result))\n",
    "    return result"
   ]
  },
  {
   "cell_type": "code",
   "execution_count": 15,
   "metadata": {
    "ExecuteTime": {
     "end_time": "2023-06-24T17:17:14.064576Z",
     "start_time": "2023-06-24T17:17:12.055805Z"
    }
   },
   "outputs": [],
   "source": [
    "dummy = sum_(1,2)"
   ]
  },
  {
   "cell_type": "markdown",
   "metadata": {},
   "source": [
    "## User-defined"
   ]
  },
  {
   "cell_type": "code",
   "execution_count": 16,
   "metadata": {
    "ExecuteTime": {
     "end_time": "2023-06-24T17:17:16.072955Z",
     "start_time": "2023-06-24T17:17:14.067286Z"
    }
   },
   "outputs": [],
   "source": [
    "@mes(level=\"debug\")\n",
    "def sum_(first, second=2):\n",
    "    \"\"\"Sum two numbers.\"\"\"\n",
    "\n",
    "    print(\"Some message on console\")\n",
    "    result = first + second\n",
    "    time.sleep(2)\n",
    "    print(\"Result is: \" + str(result))\n",
    "    return result\n",
    "dummy = sum_(1,2)"
   ]
  },
  {
   "cell_type": "code",
   "execution_count": 17,
   "metadata": {
    "ExecuteTime": {
     "end_time": "2023-06-24T17:17:18.081399Z",
     "start_time": "2023-06-24T17:17:16.075830Z"
    }
   },
   "outputs": [],
   "source": [
    "@mes(level=\"warning\")\n",
    "def sum_(first, second=2):\n",
    "    \"\"\"Sum two numbers.\"\"\"\n",
    "\n",
    "    print(\"Some message on console\")\n",
    "    result = first + second\n",
    "    time.sleep(2)\n",
    "    print(\"Result is: \" + str(result))\n",
    "    return result\n",
    "dummy = sum_(1,2)"
   ]
  },
  {
   "cell_type": "code",
   "execution_count": 18,
   "metadata": {
    "ExecuteTime": {
     "end_time": "2023-06-24T17:17:20.089385Z",
     "start_time": "2023-06-24T17:17:18.084438Z"
    }
   },
   "outputs": [],
   "source": [
    "@mes(level=\"error\")\n",
    "def sum_(first, second=2):\n",
    "    \"\"\"Sum two numbers.\"\"\"\n",
    "\n",
    "    print(\"Some message on console\")\n",
    "    result = first + second\n",
    "    time.sleep(2)\n",
    "    print(\"Result is: \" + str(result))\n",
    "    return result\n",
    "dummy = sum_(1,2)"
   ]
  },
  {
   "cell_type": "code",
   "execution_count": 19,
   "metadata": {
    "ExecuteTime": {
     "end_time": "2023-06-24T17:17:22.099623Z",
     "start_time": "2023-06-24T17:17:20.091879Z"
    }
   },
   "outputs": [
    {
     "name": "stderr",
     "output_type": "stream",
     "text": [
      "Some message on console\n",
      "Result is: 3\n"
     ]
    }
   ],
   "source": [
    "@mes(level=\"critical\")\n",
    "def sum_(first, second=2):\n",
    "    \"\"\"Sum two numbers.\"\"\"\n",
    "\n",
    "    print(\"Some message on console\")\n",
    "    result = first + second\n",
    "    time.sleep(2)\n",
    "    print(\"Result is: \" + str(result))\n",
    "    return result\n",
    "dummy = sum_(1,2)"
   ]
  },
  {
   "cell_type": "markdown",
   "metadata": {},
   "source": [
    "## Super-custom"
   ]
  },
  {
   "cell_type": "markdown",
   "metadata": {},
   "source": [
    "- No need to use decorator here."
   ]
  },
  {
   "cell_type": "code",
   "execution_count": 20,
   "metadata": {
    "ExecuteTime": {
     "end_time": "2023-06-24T17:17:22.109596Z",
     "start_time": "2023-06-24T17:17:22.101822Z"
    },
    "scrolled": true
   },
   "outputs": [
    {
     "name": "stderr",
     "output_type": "stream",
     "text": [
      "Results 1 is: 3\n",
      "Results 3 is: 3\n",
      "Results 4 is: 3\n",
      "Results 5 is: 3\n"
     ]
    }
   ],
   "source": [
    "def sum_(first=0, second=0):\n",
    "    \"\"\"Sum two numbers.\n",
    "    \"\"\"\n",
    "\n",
    "    result = first + second    \n",
    "    lprint.info(\"Results 1 is: \" + str(result))    \n",
    "    lprint.debug(\"Results 2 is: \" + str(result))\n",
    "    lprint.warning(\"Results 3 is: \" + str(result))\n",
    "    lprint.error(\"Results 4 is: \" + str(result))\n",
    "    lprint.critical(\"Results 5 is: \" + str(result))\n",
    "    \n",
    "    return result\n",
    "dummy = sum_(1,2)"
   ]
  },
  {
   "cell_type": "markdown",
   "metadata": {},
   "source": [
    "## Adding message to log outside of a function"
   ]
  },
  {
   "cell_type": "code",
   "execution_count": 22,
   "metadata": {
    "ExecuteTime": {
     "end_time": "2023-06-24T17:20:21.008070Z",
     "start_time": "2023-06-24T17:20:21.005301Z"
    }
   },
   "outputs": [],
   "source": [
    "from PyDecLog import lprint"
   ]
  },
  {
   "cell_type": "code",
   "execution_count": 23,
   "metadata": {
    "ExecuteTime": {
     "end_time": "2023-06-24T17:20:21.547927Z",
     "start_time": "2023-06-24T17:20:21.544684Z"
    }
   },
   "outputs": [],
   "source": [
    "lprint(console_log_level=\"critical\").info(\"simple message\") "
   ]
  },
  {
   "cell_type": "code",
   "execution_count": null,
   "metadata": {
    "ExecuteTime": {
     "end_time": "2023-06-24T17:17:22.311556Z",
     "start_time": "2023-06-24T17:17:22.311538Z"
    }
   },
   "outputs": [],
   "source": [
    "lprint(console_log_level=\"critical\").debug(\"simple message\") "
   ]
  },
  {
   "cell_type": "code",
   "execution_count": null,
   "metadata": {
    "ExecuteTime": {
     "end_time": "2023-06-24T17:17:22.312916Z",
     "start_time": "2023-06-24T17:17:22.312896Z"
    }
   },
   "outputs": [],
   "source": [
    "lprint(console_log_level=\"critical\").warning(\"simple message\") "
   ]
  },
  {
   "cell_type": "code",
   "execution_count": null,
   "metadata": {
    "ExecuteTime": {
     "end_time": "2023-06-24T17:17:22.314405Z",
     "start_time": "2023-06-24T17:17:22.314386Z"
    }
   },
   "outputs": [],
   "source": [
    "lprint(console_log_level=\"critical\").error(\"simple message\") "
   ]
  },
  {
   "cell_type": "code",
   "execution_count": null,
   "metadata": {
    "ExecuteTime": {
     "end_time": "2023-06-24T17:17:22.315797Z",
     "start_time": "2023-06-24T17:17:22.315775Z"
    }
   },
   "outputs": [],
   "source": [
    "lprint(console_log_level=\"critical\").critical(\"simple CRITICAL message\") "
   ]
  },
  {
   "cell_type": "markdown",
   "metadata": {},
   "source": [
    "# Profiling variables memory"
   ]
  },
  {
   "cell_type": "code",
   "execution_count": null,
   "metadata": {
    "ExecuteTime": {
     "end_time": "2023-06-24T17:17:22.317558Z",
     "start_time": "2023-06-24T17:17:22.317535Z"
    },
    "scrolled": true
   },
   "outputs": [],
   "source": [
    "@mem(level=\"debug\", console_log_level=\"debug\")\n",
    "def sum_(first, second=1):\n",
    "    \"\"\"Sum two numbers.\"\"\"\n",
    "\n",
    "    print(\"Some message on console\")\n",
    "    result = first + second\n",
    "    print(\"Result is: \" + str(result))\n",
    "\n",
    "    return result\n",
    "\n",
    "\n",
    "dummy = sum_(1, second=2)"
   ]
  },
  {
   "cell_type": "markdown",
   "metadata": {},
   "source": [
    "# Profiling variables types"
   ]
  },
  {
   "cell_type": "code",
   "execution_count": null,
   "metadata": {
    "ExecuteTime": {
     "end_time": "2023-06-24T17:17:22.319379Z",
     "start_time": "2023-06-24T17:17:22.319356Z"
    }
   },
   "outputs": [],
   "source": [
    "from PyDecLog import typing as typ\n",
    "\n",
    "@typ\n",
    "def sum_(first, second=1):\n",
    "    \"\"\"Sum two numbers.\"\"\"\n",
    "\n",
    "    print(\"Some message on console\")\n",
    "    result = first + second    \n",
    "    print(\"Result is: \" + str(result))\n",
    "    \n",
    "    return result\n",
    "dummy = sum_(1, 2)"
   ]
  },
  {
   "cell_type": "markdown",
   "metadata": {
    "ExecuteTime": {
     "end_time": "2023-06-23T08:32:38.380972Z",
     "start_time": "2023-06-23T08:32:36.371227Z"
    }
   },
   "source": [
    "# Profile locals"
   ]
  },
  {
   "cell_type": "code",
   "execution_count": null,
   "metadata": {
    "ExecuteTime": {
     "end_time": "2023-06-24T17:17:22.321585Z",
     "start_time": "2023-06-24T17:17:22.321562Z"
    }
   },
   "outputs": [],
   "source": [
    "from PyDecLog import profile_locals"
   ]
  },
  {
   "cell_type": "code",
   "execution_count": null,
   "metadata": {
    "ExecuteTime": {
     "end_time": "2023-06-24T17:17:22.323131Z",
     "start_time": "2023-06-24T17:17:22.323108Z"
    },
    "code_folding": []
   },
   "outputs": [],
   "source": [
    "@profile_locals\n",
    "def func(test=False):\n",
    "    local1 = 1\n",
    "    local2 = 2\n",
    "    return 1\n",
    "\n",
    "output = func()\n",
    "for key, value in func.locals.items():\n",
    "        msg = f\"Variable: {key} | value: {value} | type: {type(value)} | size: {getsizeof(value)}\"\n",
    "        \n",
    "        lprint(console_log_level=\"critical\").error(msg) "
   ]
  },
  {
   "cell_type": "code",
   "execution_count": null,
   "metadata": {},
   "outputs": [],
   "source": []
  }
 ],
 "metadata": {
  "hide_input": false,
  "kernelspec": {
   "display_name": "trainingAI",
   "language": "python",
   "name": "trainingai"
  },
  "language_info": {
   "codemirror_mode": {
    "name": "ipython",
    "version": 3
   },
   "file_extension": ".py",
   "mimetype": "text/x-python",
   "name": "python",
   "nbconvert_exporter": "python",
   "pygments_lexer": "ipython3",
   "version": "3.9.7"
  },
  "toc": {
   "base_numbering": 1,
   "nav_menu": {},
   "number_sections": true,
   "sideBar": true,
   "skip_h1_title": false,
   "title_cell": "Table of Contents",
   "title_sidebar": "Contents",
   "toc_cell": false,
   "toc_position": {},
   "toc_section_display": true,
   "toc_window_display": true
  },
  "varInspector": {
   "cols": {
    "lenName": 16,
    "lenType": 16,
    "lenVar": 40
   },
   "kernels_config": {
    "python": {
     "delete_cmd_postfix": "",
     "delete_cmd_prefix": "del ",
     "library": "var_list.py",
     "varRefreshCmd": "print(var_dic_list())"
    },
    "r": {
     "delete_cmd_postfix": ") ",
     "delete_cmd_prefix": "rm(",
     "library": "var_list.r",
     "varRefreshCmd": "cat(var_dic_list()) "
    }
   },
   "types_to_exclude": [
    "module",
    "function",
    "builtin_function_or_method",
    "instance",
    "_Feature"
   ],
   "window_display": false
  }
 },
 "nbformat": 4,
 "nbformat_minor": 2
}
