{
 "cells": [
  {
   "cell_type": "code",
   "execution_count": 10,
   "metadata": {
    "ExecuteTime": {
     "end_time": "2023-06-22T17:26:01.178186Z",
     "start_time": "2023-06-22T17:26:01.175401Z"
    }
   },
   "outputs": [],
   "source": [
    "from Decorators import arguments as arg\n",
    "from Decorators import signature as sign\n",
    "from Decorators import message as mes\n",
    "from Decorators import timing as tim\n",
    "from Decorators import lprint\n",
    "import time"
   ]
  },
  {
   "cell_type": "code",
   "execution_count": 11,
   "metadata": {
    "ExecuteTime": {
     "end_time": "2023-06-22T17:26:02.859784Z",
     "start_time": "2023-06-22T17:26:02.857654Z"
    }
   },
   "outputs": [],
   "source": [
    "lprint = lprint()"
   ]
  },
  {
   "cell_type": "markdown",
   "metadata": {},
   "source": [
    "# Call decorators separately"
   ]
  },
  {
   "cell_type": "code",
   "execution_count": 12,
   "metadata": {
    "ExecuteTime": {
     "end_time": "2023-06-22T17:26:04.615949Z",
     "start_time": "2023-06-22T17:26:04.612895Z"
    }
   },
   "outputs": [],
   "source": [
    "@sign()\n",
    "@arg()\n",
    "@tim()\n",
    "@mes()\n",
    "def sum_(first, second=2):\n",
    "    \"\"\"Sum\n",
    "\n",
    "    Sum two numbers.\n",
    "    \"\"\"\n",
    "    \n",
    "    print(\"calling\")\n",
    "    result = first + second    \n",
    "    time.sleep(2)\n",
    "    print(\"Results is: \" + str(result))\n",
    "    return result"
   ]
  },
  {
   "cell_type": "code",
   "execution_count": 13,
   "metadata": {
    "ExecuteTime": {
     "end_time": "2023-06-22T17:26:08.625841Z",
     "start_time": "2023-06-22T17:26:06.618039Z"
    }
   },
   "outputs": [],
   "source": [
    "%timeit\n",
    "a = sum_(1,1)"
   ]
  },
  {
   "cell_type": "code",
   "execution_count": 14,
   "metadata": {
    "ExecuteTime": {
     "end_time": "2023-06-22T17:26:12.633873Z",
     "start_time": "2023-06-22T17:26:10.628372Z"
    }
   },
   "outputs": [],
   "source": [
    "dummy = sum_(1, second=2)"
   ]
  },
  {
   "cell_type": "markdown",
   "metadata": {},
   "source": [
    "# Calling `@infoer` alone"
   ]
  },
  {
   "cell_type": "code",
   "execution_count": 6,
   "metadata": {
    "ExecuteTime": {
     "end_time": "2023-06-22T17:16:01.116209Z",
     "start_time": "2023-06-22T17:16:01.112987Z"
    }
   },
   "outputs": [],
   "source": [
    "@infoer(level=\"debug\", console_log_level=\"info\")\n",
    "def sum_(first, second, third=1):\n",
    "    \"\"\"Sum\n",
    "\n",
    "    Sum two numbers.\n",
    "    \"\"\"\n",
    "\n",
    "    result = first + second\n",
    "    print(\"Results is: \" + str(result))\n",
    "    return result"
   ]
  },
  {
   "cell_type": "code",
   "execution_count": 7,
   "metadata": {
    "ExecuteTime": {
     "end_time": "2023-06-22T17:16:01.122725Z",
     "start_time": "2023-06-22T17:16:01.118502Z"
    }
   },
   "outputs": [
    {
     "name": "stdout",
     "output_type": "stream",
     "text": [
      "Results is: 3\n"
     ]
    }
   ],
   "source": [
    "dummy = sum_(1,2,False)"
   ]
  },
  {
   "cell_type": "markdown",
   "metadata": {},
   "source": [
    "# Calling `@timer` alone"
   ]
  },
  {
   "cell_type": "code",
   "execution_count": 8,
   "metadata": {
    "ExecuteTime": {
     "end_time": "2023-06-22T17:16:01.128103Z",
     "start_time": "2023-06-22T17:16:01.124977Z"
    }
   },
   "outputs": [],
   "source": [
    "@timer()\n",
    "def sum_(first=0, second=0):\n",
    "    \"\"\"Sum\n",
    "\n",
    "    Sum two numbers.\n",
    "    \"\"\"\n",
    "\n",
    "    result = first + second\n",
    "    print(\"Results is: \" + str(result))\n",
    "    return result"
   ]
  },
  {
   "cell_type": "code",
   "execution_count": 9,
   "metadata": {
    "ExecuteTime": {
     "end_time": "2023-06-22T17:16:01.144280Z",
     "start_time": "2023-06-22T17:16:01.134039Z"
    }
   },
   "outputs": [
    {
     "name": "stdout",
     "output_type": "stream",
     "text": [
      "Results is: 3\n"
     ]
    },
    {
     "data": {
      "text/plain": [
       "3"
      ]
     },
     "execution_count": 9,
     "metadata": {},
     "output_type": "execute_result"
    }
   ],
   "source": [
    "sum_(1,2)"
   ]
  },
  {
   "cell_type": "markdown",
   "metadata": {},
   "source": [
    "# Calling `@printer` alone"
   ]
  },
  {
   "cell_type": "code",
   "execution_count": 10,
   "metadata": {
    "ExecuteTime": {
     "end_time": "2023-06-22T17:16:01.150319Z",
     "start_time": "2023-06-22T17:16:01.146746Z"
    }
   },
   "outputs": [],
   "source": [
    "@printer()\n",
    "def sum_(first=0, second=0):\n",
    "    \"\"\"Sum\n",
    "\n",
    "    Sum two numbers.\n",
    "    \"\"\"\n",
    "\n",
    "    result = first + second\n",
    "    \n",
    "    print(\"Results 1 is: \" + str(result))    \n",
    "    print(\"Results 2 is: \" + str(result))\n",
    "    \n",
    "    return result"
   ]
  },
  {
   "cell_type": "code",
   "execution_count": 11,
   "metadata": {
    "ExecuteTime": {
     "end_time": "2023-06-22T17:16:01.157501Z",
     "start_time": "2023-06-22T17:16:01.152555Z"
    }
   },
   "outputs": [
    {
     "data": {
      "text/plain": [
       "3"
      ]
     },
     "execution_count": 11,
     "metadata": {},
     "output_type": "execute_result"
    }
   ],
   "source": [
    "sum_(1,2)"
   ]
  },
  {
   "cell_type": "markdown",
   "metadata": {},
   "source": [
    "## Controlling print message level"
   ]
  },
  {
   "cell_type": "markdown",
   "metadata": {},
   "source": [
    "## Default"
   ]
  },
  {
   "cell_type": "code",
   "execution_count": 12,
   "metadata": {
    "ExecuteTime": {
     "end_time": "2023-06-22T17:16:01.162930Z",
     "start_time": "2023-06-22T17:16:01.159528Z"
    }
   },
   "outputs": [],
   "source": [
    "@printer()\n",
    "def sum_(first=0, second=0):\n",
    "    \"\"\"Sum\n",
    "\n",
    "    Sum two numbers.\n",
    "    \"\"\"\n",
    "\n",
    "    result = first + second    \n",
    "    print(\"Results 1 is: \" + str(result))    \n",
    "    print(\"Results 2 is: \" + str(result))\n",
    "    print(\"Results 3 is: \" + str(result))\n",
    "    print(\"Results 4 is: \" + str(result))\n",
    "    print(\"Results 5 is: \" + str(result))\n",
    "    \n",
    "    return result"
   ]
  },
  {
   "cell_type": "code",
   "execution_count": 13,
   "metadata": {
    "ExecuteTime": {
     "end_time": "2023-06-22T17:16:01.168890Z",
     "start_time": "2023-06-22T17:16:01.164907Z"
    }
   },
   "outputs": [],
   "source": [
    "dummy = sum_(1,2)"
   ]
  },
  {
   "cell_type": "markdown",
   "metadata": {},
   "source": [
    "## User-defined"
   ]
  },
  {
   "cell_type": "code",
   "execution_count": 14,
   "metadata": {
    "ExecuteTime": {
     "end_time": "2023-06-22T17:16:01.175054Z",
     "start_time": "2023-06-22T17:16:01.171082Z"
    }
   },
   "outputs": [],
   "source": [
    "@printer(level=\"debug\")\n",
    "def sum_(first=0, second=0):    \n",
    "    result = first + second    \n",
    "    print(\"Results 1 is: \" + str(result))    \n",
    "    return result\n",
    "dummy = sum_(1,2)"
   ]
  },
  {
   "cell_type": "code",
   "execution_count": 15,
   "metadata": {
    "ExecuteTime": {
     "end_time": "2023-06-22T17:16:01.181323Z",
     "start_time": "2023-06-22T17:16:01.177219Z"
    }
   },
   "outputs": [],
   "source": [
    "@printer(level=\"warning\")\n",
    "def sum_(first=0, second=0):    \n",
    "    result = first + second    \n",
    "    print(\"Results 1 is: \" + str(result))    \n",
    "    return result\n",
    "dummy = sum_(1,2)"
   ]
  },
  {
   "cell_type": "code",
   "execution_count": 16,
   "metadata": {
    "ExecuteTime": {
     "end_time": "2023-06-22T17:16:01.186561Z",
     "start_time": "2023-06-22T17:16:01.183046Z"
    }
   },
   "outputs": [],
   "source": [
    "@printer(level=\"error\")\n",
    "def sum_(first=0, second=0):    \n",
    "    result = first + second    \n",
    "    print(\"Results 1 is: \" + str(result))    \n",
    "    return result\n",
    "dummy = sum_(1,2)"
   ]
  },
  {
   "cell_type": "code",
   "execution_count": 17,
   "metadata": {
    "ExecuteTime": {
     "end_time": "2023-06-22T17:16:01.193751Z",
     "start_time": "2023-06-22T17:16:01.188990Z"
    }
   },
   "outputs": [
    {
     "name": "stderr",
     "output_type": "stream",
     "text": [
      "Results 1 is: 3\n"
     ]
    }
   ],
   "source": [
    "@printer(level=\"critical\")\n",
    "def sum_(first=0, second=0):    \n",
    "    result = first + second    \n",
    "    print(\"Results 1 is: \" + str(result))    \n",
    "    return result\n",
    "dummy = sum_(1,2)"
   ]
  },
  {
   "cell_type": "markdown",
   "metadata": {},
   "source": [
    "## Super-custom"
   ]
  },
  {
   "cell_type": "markdown",
   "metadata": {},
   "source": [
    "- No need to use decorator here."
   ]
  },
  {
   "cell_type": "code",
   "execution_count": 18,
   "metadata": {
    "ExecuteTime": {
     "end_time": "2023-06-22T17:16:01.198824Z",
     "start_time": "2023-06-22T17:16:01.195698Z"
    }
   },
   "outputs": [],
   "source": [
    "def sum_(first=0, second=0):\n",
    "    \"\"\"Sum\n",
    "\n",
    "    Sum two numbers.\n",
    "    \"\"\"\n",
    "\n",
    "    result = first + second    \n",
    "    lprint.info(\"Results 1 is: \" + str(result))    \n",
    "    lprint.debug(\"Results 2 is: \" + str(result))\n",
    "    lprint.warning(\"Results 3 is: \" + str(result))\n",
    "    lprint.error(\"Results 4 is: \" + str(result))\n",
    "    lprint.critical(\"Results 5 is: \" + str(result))\n",
    "    \n",
    "    return result"
   ]
  },
  {
   "cell_type": "code",
   "execution_count": 19,
   "metadata": {
    "ExecuteTime": {
     "end_time": "2023-06-22T17:16:01.205249Z",
     "start_time": "2023-06-22T17:16:01.200535Z"
    }
   },
   "outputs": [
    {
     "name": "stderr",
     "output_type": "stream",
     "text": [
      "Results 1 is: 3\n",
      "Results 3 is: 3\n",
      "Results 4 is: 3\n",
      "Results 5 is: 3\n"
     ]
    }
   ],
   "source": [
    "dummy = sum_(1,2)"
   ]
  },
  {
   "cell_type": "markdown",
   "metadata": {},
   "source": [
    "## Adding message to log outside of a function"
   ]
  },
  {
   "cell_type": "code",
   "execution_count": 20,
   "metadata": {
    "ExecuteTime": {
     "end_time": "2023-06-22T17:16:01.209370Z",
     "start_time": "2023-06-22T17:16:01.207230Z"
    }
   },
   "outputs": [],
   "source": [
    "from Decorators import lprint"
   ]
  },
  {
   "cell_type": "code",
   "execution_count": 21,
   "metadata": {
    "ExecuteTime": {
     "end_time": "2023-06-22T17:16:01.213708Z",
     "start_time": "2023-06-22T17:16:01.210768Z"
    }
   },
   "outputs": [],
   "source": [
    "lprint(console_log_level=\"critical\").info(\"simple message\") "
   ]
  },
  {
   "cell_type": "code",
   "execution_count": 22,
   "metadata": {
    "ExecuteTime": {
     "end_time": "2023-06-22T17:16:01.217980Z",
     "start_time": "2023-06-22T17:16:01.215389Z"
    }
   },
   "outputs": [],
   "source": [
    "lprint(console_log_level=\"critical\").debug(\"simple message\") "
   ]
  },
  {
   "cell_type": "code",
   "execution_count": 23,
   "metadata": {
    "ExecuteTime": {
     "end_time": "2023-06-22T17:16:01.221983Z",
     "start_time": "2023-06-22T17:16:01.219183Z"
    }
   },
   "outputs": [],
   "source": [
    "lprint(console_log_level=\"critical\").warning(\"simple message\") "
   ]
  },
  {
   "cell_type": "code",
   "execution_count": 24,
   "metadata": {
    "ExecuteTime": {
     "end_time": "2023-06-22T17:16:01.226014Z",
     "start_time": "2023-06-22T17:16:01.223621Z"
    }
   },
   "outputs": [],
   "source": [
    "lprint(console_log_level=\"critical\").error(\"simple message\") "
   ]
  },
  {
   "cell_type": "code",
   "execution_count": 25,
   "metadata": {
    "ExecuteTime": {
     "end_time": "2023-06-22T17:16:01.230500Z",
     "start_time": "2023-06-22T17:16:01.227683Z"
    }
   },
   "outputs": [
    {
     "name": "stderr",
     "output_type": "stream",
     "text": [
      "simple CRITICAL message\n"
     ]
    }
   ],
   "source": [
    "lprint(console_log_level=\"critical\").critical(\"simple CRITICAL message\") "
   ]
  },
  {
   "cell_type": "code",
   "execution_count": null,
   "metadata": {},
   "outputs": [],
   "source": []
  },
  {
   "cell_type": "code",
   "execution_count": null,
   "metadata": {},
   "outputs": [],
   "source": []
  }
 ],
 "metadata": {
  "hide_input": false,
  "kernelspec": {
   "display_name": "trainingAI",
   "language": "python",
   "name": "trainingai"
  },
  "language_info": {
   "codemirror_mode": {
    "name": "ipython",
    "version": 3
   },
   "file_extension": ".py",
   "mimetype": "text/x-python",
   "name": "python",
   "nbconvert_exporter": "python",
   "pygments_lexer": "ipython3",
   "version": "3.9.7"
  },
  "toc": {
   "base_numbering": 1,
   "nav_menu": {},
   "number_sections": true,
   "sideBar": true,
   "skip_h1_title": false,
   "title_cell": "Table of Contents",
   "title_sidebar": "Contents",
   "toc_cell": false,
   "toc_position": {},
   "toc_section_display": true,
   "toc_window_display": true
  },
  "varInspector": {
   "cols": {
    "lenName": 16,
    "lenType": 16,
    "lenVar": 40
   },
   "kernels_config": {
    "python": {
     "delete_cmd_postfix": "",
     "delete_cmd_prefix": "del ",
     "library": "var_list.py",
     "varRefreshCmd": "print(var_dic_list())"
    },
    "r": {
     "delete_cmd_postfix": ") ",
     "delete_cmd_prefix": "rm(",
     "library": "var_list.r",
     "varRefreshCmd": "cat(var_dic_list()) "
    }
   },
   "types_to_exclude": [
    "module",
    "function",
    "builtin_function_or_method",
    "instance",
    "_Feature"
   ],
   "window_display": false
  }
 },
 "nbformat": 4,
 "nbformat_minor": 2
}
