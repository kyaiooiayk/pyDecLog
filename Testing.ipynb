{
 "cells": [
  {
   "cell_type": "code",
   "execution_count": 1,
   "metadata": {
    "ExecuteTime": {
     "end_time": "2023-06-22T18:52:17.133207Z",
     "start_time": "2023-06-22T18:52:17.126546Z"
    }
   },
   "outputs": [],
   "source": [
    "from Decorators import arguments as arg\n",
    "from Decorators import signature as sign\n",
    "from Decorators import message as mes\n",
    "from Decorators import timing as tim\n",
    "from Decorators import lprint\n",
    "from Decorators import description as doc\n",
    "import time"
   ]
  },
  {
   "cell_type": "code",
   "execution_count": 2,
   "metadata": {
    "ExecuteTime": {
     "end_time": "2023-06-22T18:52:18.926849Z",
     "start_time": "2023-06-22T18:52:18.924743Z"
    }
   },
   "outputs": [],
   "source": [
    "lprint = lprint()"
   ]
  },
  {
   "cell_type": "markdown",
   "metadata": {},
   "source": [
    "# Use multiple decorators "
   ]
  },
  {
   "cell_type": "code",
   "execution_count": 3,
   "metadata": {
    "ExecuteTime": {
     "end_time": "2023-06-22T18:52:20.584783Z",
     "start_time": "2023-06-22T18:52:20.582050Z"
    }
   },
   "outputs": [],
   "source": [
    "@doc()\n",
    "@sign()\n",
    "@arg()\n",
    "@tim()\n",
    "@mes()\n",
    "def sum_(first, second=2):\n",
    "    \"\"\"Sum two numbers.\"\"\"\n",
    "\n",
    "    print(\"Some message on console\")\n",
    "    result = first + second\n",
    "    time.sleep(2)\n",
    "    print(\"Result is: \" + str(result))\n",
    "    return result"
   ]
  },
  {
   "cell_type": "code",
   "execution_count": 4,
   "metadata": {
    "ExecuteTime": {
     "end_time": "2023-06-22T18:52:24.596854Z",
     "start_time": "2023-06-22T18:52:22.585897Z"
    }
   },
   "outputs": [],
   "source": [
    "%timeit\n",
    "dummy = sum_(1,1)"
   ]
  },
  {
   "cell_type": "code",
   "execution_count": 35,
   "metadata": {
    "ExecuteTime": {
     "end_time": "2023-06-22T18:02:57.231190Z",
     "start_time": "2023-06-22T18:02:55.220853Z"
    }
   },
   "outputs": [],
   "source": [
    "dummy = sum_(1, second=2)"
   ]
  },
  {
   "cell_type": "markdown",
   "metadata": {},
   "source": [
    "# Getting function args and kargs"
   ]
  },
  {
   "cell_type": "code",
   "execution_count": 36,
   "metadata": {
    "ExecuteTime": {
     "end_time": "2023-06-22T18:02:59.267292Z",
     "start_time": "2023-06-22T18:02:59.264456Z"
    }
   },
   "outputs": [],
   "source": [
    "@arg()\n",
    "def sum_(first, second=2):\n",
    "    \"\"\"Sum two numbers.\"\"\"\n",
    "\n",
    "    print(\"Some message on console\")\n",
    "    result = first + second\n",
    "    time.sleep(2)\n",
    "    print(\"Result is: \" + str(result))\n",
    "    return result"
   ]
  },
  {
   "cell_type": "code",
   "execution_count": 37,
   "metadata": {
    "ExecuteTime": {
     "end_time": "2023-06-22T18:03:02.776001Z",
     "start_time": "2023-06-22T18:03:00.770830Z"
    }
   },
   "outputs": [
    {
     "name": "stdout",
     "output_type": "stream",
     "text": [
      "Some message on console\n",
      "Result is: 3\n"
     ]
    }
   ],
   "source": [
    "dummy = sum_(1,2)"
   ]
  },
  {
   "cell_type": "markdown",
   "metadata": {},
   "source": [
    "# Timing the function"
   ]
  },
  {
   "cell_type": "code",
   "execution_count": 65,
   "metadata": {
    "ExecuteTime": {
     "end_time": "2023-06-22T18:26:48.484217Z",
     "start_time": "2023-06-22T18:26:18.470481Z"
    }
   },
   "outputs": [
    {
     "name": "stdout",
     "output_type": "stream",
     "text": [
      "Some message on console\n",
      "Result is: 3\n"
     ]
    },
    {
     "data": {
      "text/plain": [
       "3"
      ]
     },
     "execution_count": 65,
     "metadata": {},
     "output_type": "execute_result"
    }
   ],
   "source": [
    "@tim()\n",
    "def sum_(first, second=2):\n",
    "    \"\"\"Sum two numbers.\"\"\"\n",
    "\n",
    "    print(\"Some message on console\")\n",
    "    result = first + second\n",
    "    time.sleep(30)\n",
    "    print(\"Result is: \" + str(result))\n",
    "    return result\n",
    "sum_(1,2)"
   ]
  },
  {
   "cell_type": "markdown",
   "metadata": {},
   "source": [
    "# Changing time units"
   ]
  },
  {
   "cell_type": "code",
   "execution_count": 69,
   "metadata": {
    "ExecuteTime": {
     "end_time": "2023-06-22T18:28:34.165815Z",
     "start_time": "2023-06-22T18:28:04.157824Z"
    }
   },
   "outputs": [
    {
     "name": "stdout",
     "output_type": "stream",
     "text": [
      "Some message on console\n"
     ]
    },
    {
     "name": "stderr",
     "output_type": "stream",
     "text": [
      "sum_ was executed in: 0.5min\n"
     ]
    },
    {
     "name": "stdout",
     "output_type": "stream",
     "text": [
      "Result is: 3\n"
     ]
    },
    {
     "data": {
      "text/plain": [
       "3"
      ]
     },
     "execution_count": 69,
     "metadata": {},
     "output_type": "execute_result"
    }
   ],
   "source": [
    "@tim(unit=\"min\", console_log_level=\"debug\")\n",
    "def sum_(first, second=2):\n",
    "    \"\"\"Sum two numbers.\"\"\"\n",
    "\n",
    "    print(\"Some message on console\")\n",
    "    result = first + second\n",
    "    time.sleep(30)\n",
    "    print(\"Result is: \" + str(result))\n",
    "    return result\n",
    "sum_(1,2)"
   ]
  },
  {
   "cell_type": "code",
   "execution_count": 70,
   "metadata": {
    "ExecuteTime": {
     "end_time": "2023-06-22T18:29:06.082216Z",
     "start_time": "2023-06-22T18:28:36.070779Z"
    }
   },
   "outputs": [
    {
     "name": "stdout",
     "output_type": "stream",
     "text": [
      "Some message on console\n"
     ]
    },
    {
     "name": "stderr",
     "output_type": "stream",
     "text": [
      "sum_ was executed in: 0.008hr\n"
     ]
    },
    {
     "name": "stdout",
     "output_type": "stream",
     "text": [
      "Result is: 3\n"
     ]
    },
    {
     "data": {
      "text/plain": [
       "3"
      ]
     },
     "execution_count": 70,
     "metadata": {},
     "output_type": "execute_result"
    }
   ],
   "source": [
    "@tim(unit=\"hr\", console_log_level=\"debug\")\n",
    "def sum_(first, second=2):\n",
    "    \"\"\"Sum two numbers.\"\"\"\n",
    "\n",
    "    print(\"Some message on console\")\n",
    "    result = first + second\n",
    "    time.sleep(30)\n",
    "    print(\"Result is: \" + str(result))\n",
    "    return result\n",
    "sum_(1,2)"
   ]
  },
  {
   "cell_type": "markdown",
   "metadata": {},
   "source": [
    "# Profiling the `print` function"
   ]
  },
  {
   "cell_type": "code",
   "execution_count": 47,
   "metadata": {
    "ExecuteTime": {
     "end_time": "2023-06-22T18:13:07.468187Z",
     "start_time": "2023-06-22T18:13:07.464856Z"
    }
   },
   "outputs": [],
   "source": [
    "@mes()\n",
    "def sum_(first, second=2):\n",
    "    \"\"\"Sum two numbers.\"\"\"\n",
    "\n",
    "    print(\"Some message on console\")\n",
    "    result = first + second\n",
    "    time.sleep(2)\n",
    "    print(\"Result is: \" + str(result))\n",
    "    return result"
   ]
  },
  {
   "cell_type": "code",
   "execution_count": 48,
   "metadata": {
    "ExecuteTime": {
     "end_time": "2023-06-22T18:13:11.949858Z",
     "start_time": "2023-06-22T18:13:09.940438Z"
    }
   },
   "outputs": [
    {
     "data": {
      "text/plain": [
       "3"
      ]
     },
     "execution_count": 48,
     "metadata": {},
     "output_type": "execute_result"
    }
   ],
   "source": [
    "sum_(1,2)"
   ]
  },
  {
   "cell_type": "markdown",
   "metadata": {},
   "source": [
    "## Controlling print message level"
   ]
  },
  {
   "cell_type": "markdown",
   "metadata": {},
   "source": [
    "## Default"
   ]
  },
  {
   "cell_type": "code",
   "execution_count": 49,
   "metadata": {
    "ExecuteTime": {
     "end_time": "2023-06-22T18:13:41.491010Z",
     "start_time": "2023-06-22T18:13:41.487824Z"
    }
   },
   "outputs": [],
   "source": [
    "@mes()\n",
    "def sum_(first, second=2):\n",
    "    \"\"\"Sum two numbers.\"\"\"\n",
    "\n",
    "    print(\"Some message on console\")\n",
    "    result = first + second\n",
    "    time.sleep(2)\n",
    "    print(\"Result is: \" + str(result))\n",
    "    return result"
   ]
  },
  {
   "cell_type": "code",
   "execution_count": 50,
   "metadata": {
    "ExecuteTime": {
     "end_time": "2023-06-22T18:13:45.210872Z",
     "start_time": "2023-06-22T18:13:43.205208Z"
    }
   },
   "outputs": [],
   "source": [
    "dummy = sum_(1,2)"
   ]
  },
  {
   "cell_type": "markdown",
   "metadata": {},
   "source": [
    "## User-defined"
   ]
  },
  {
   "cell_type": "code",
   "execution_count": 51,
   "metadata": {
    "ExecuteTime": {
     "end_time": "2023-06-22T18:21:12.922361Z",
     "start_time": "2023-06-22T18:21:10.916602Z"
    }
   },
   "outputs": [],
   "source": [
    "@mes(level=\"debug\")\n",
    "def sum_(first, second=2):\n",
    "    \"\"\"Sum two numbers.\"\"\"\n",
    "\n",
    "    print(\"Some message on console\")\n",
    "    result = first + second\n",
    "    time.sleep(2)\n",
    "    print(\"Result is: \" + str(result))\n",
    "    return result\n",
    "dummy = sum_(1,2)"
   ]
  },
  {
   "cell_type": "code",
   "execution_count": 53,
   "metadata": {
    "ExecuteTime": {
     "end_time": "2023-06-22T18:21:27.877566Z",
     "start_time": "2023-06-22T18:21:25.870015Z"
    }
   },
   "outputs": [],
   "source": [
    "@mes(level=\"warning\")\n",
    "def sum_(first, second=2):\n",
    "    \"\"\"Sum two numbers.\"\"\"\n",
    "\n",
    "    print(\"Some message on console\")\n",
    "    result = first + second\n",
    "    time.sleep(2)\n",
    "    print(\"Result is: \" + str(result))\n",
    "    return result\n",
    "dummy = sum_(1,2)"
   ]
  },
  {
   "cell_type": "code",
   "execution_count": 54,
   "metadata": {
    "ExecuteTime": {
     "end_time": "2023-06-22T18:21:36.743357Z",
     "start_time": "2023-06-22T18:21:34.735890Z"
    }
   },
   "outputs": [],
   "source": [
    "@mes(level=\"error\")\n",
    "def sum_(first, second=2):\n",
    "    \"\"\"Sum two numbers.\"\"\"\n",
    "\n",
    "    print(\"Some message on console\")\n",
    "    result = first + second\n",
    "    time.sleep(2)\n",
    "    print(\"Result is: \" + str(result))\n",
    "    return result\n",
    "dummy = sum_(1,2)"
   ]
  },
  {
   "cell_type": "code",
   "execution_count": 55,
   "metadata": {
    "ExecuteTime": {
     "end_time": "2023-06-22T18:21:43.047510Z",
     "start_time": "2023-06-22T18:21:41.035761Z"
    }
   },
   "outputs": [
    {
     "name": "stderr",
     "output_type": "stream",
     "text": [
      "Some message on console\n",
      "Result is: 3\n"
     ]
    }
   ],
   "source": [
    "@mes(level=\"critical\")\n",
    "def sum_(first, second=2):\n",
    "    \"\"\"Sum two numbers.\"\"\"\n",
    "\n",
    "    print(\"Some message on console\")\n",
    "    result = first + second\n",
    "    time.sleep(2)\n",
    "    print(\"Result is: \" + str(result))\n",
    "    return result\n",
    "dummy = sum_(1,2)"
   ]
  },
  {
   "cell_type": "markdown",
   "metadata": {},
   "source": [
    "## Super-custom"
   ]
  },
  {
   "cell_type": "markdown",
   "metadata": {},
   "source": [
    "- No need to use decorator here."
   ]
  },
  {
   "cell_type": "code",
   "execution_count": 56,
   "metadata": {
    "ExecuteTime": {
     "end_time": "2023-06-22T18:22:05.163142Z",
     "start_time": "2023-06-22T18:22:05.156495Z"
    },
    "scrolled": true
   },
   "outputs": [
    {
     "name": "stderr",
     "output_type": "stream",
     "text": [
      "Results 1 is: 3\n",
      "Results 3 is: 3\n",
      "Results 4 is: 3\n",
      "Results 5 is: 3\n"
     ]
    }
   ],
   "source": [
    "def sum_(first=0, second=0):\n",
    "    \"\"\"Sum two numbers.\n",
    "    \"\"\"\n",
    "\n",
    "    result = first + second    \n",
    "    lprint.info(\"Results 1 is: \" + str(result))    \n",
    "    lprint.debug(\"Results 2 is: \" + str(result))\n",
    "    lprint.warning(\"Results 3 is: \" + str(result))\n",
    "    lprint.error(\"Results 4 is: \" + str(result))\n",
    "    lprint.critical(\"Results 5 is: \" + str(result))\n",
    "    \n",
    "    return result\n",
    "dummy = sum_(1,2)"
   ]
  },
  {
   "cell_type": "markdown",
   "metadata": {},
   "source": [
    "## Adding message to log outside of a function"
   ]
  },
  {
   "cell_type": "code",
   "execution_count": 57,
   "metadata": {
    "ExecuteTime": {
     "end_time": "2023-06-22T18:22:17.245590Z",
     "start_time": "2023-06-22T18:22:17.243038Z"
    }
   },
   "outputs": [],
   "source": [
    "from Decorators import lprint"
   ]
  },
  {
   "cell_type": "code",
   "execution_count": 58,
   "metadata": {
    "ExecuteTime": {
     "end_time": "2023-06-22T18:22:19.053292Z",
     "start_time": "2023-06-22T18:22:19.050807Z"
    }
   },
   "outputs": [],
   "source": [
    "lprint(console_log_level=\"critical\").info(\"simple message\") "
   ]
  },
  {
   "cell_type": "code",
   "execution_count": 59,
   "metadata": {
    "ExecuteTime": {
     "end_time": "2023-06-22T18:22:20.916969Z",
     "start_time": "2023-06-22T18:22:20.914448Z"
    }
   },
   "outputs": [],
   "source": [
    "lprint(console_log_level=\"critical\").debug(\"simple message\") "
   ]
  },
  {
   "cell_type": "code",
   "execution_count": 60,
   "metadata": {
    "ExecuteTime": {
     "end_time": "2023-06-22T18:22:24.285327Z",
     "start_time": "2023-06-22T18:22:24.281919Z"
    }
   },
   "outputs": [],
   "source": [
    "lprint(console_log_level=\"critical\").warning(\"simple message\") "
   ]
  },
  {
   "cell_type": "code",
   "execution_count": 61,
   "metadata": {
    "ExecuteTime": {
     "end_time": "2023-06-22T18:22:26.096091Z",
     "start_time": "2023-06-22T18:22:26.093680Z"
    }
   },
   "outputs": [],
   "source": [
    "lprint(console_log_level=\"critical\").error(\"simple message\") "
   ]
  },
  {
   "cell_type": "code",
   "execution_count": 62,
   "metadata": {
    "ExecuteTime": {
     "end_time": "2023-06-22T18:22:27.741468Z",
     "start_time": "2023-06-22T18:22:27.738102Z"
    }
   },
   "outputs": [
    {
     "name": "stderr",
     "output_type": "stream",
     "text": [
      "simple CRITICAL message\n"
     ]
    }
   ],
   "source": [
    "lprint(console_log_level=\"critical\").critical(\"simple CRITICAL message\") "
   ]
  },
  {
   "cell_type": "code",
   "execution_count": null,
   "metadata": {},
   "outputs": [],
   "source": []
  }
 ],
 "metadata": {
  "hide_input": false,
  "kernelspec": {
   "display_name": "trainingAI",
   "language": "python",
   "name": "trainingai"
  },
  "language_info": {
   "codemirror_mode": {
    "name": "ipython",
    "version": 3
   },
   "file_extension": ".py",
   "mimetype": "text/x-python",
   "name": "python",
   "nbconvert_exporter": "python",
   "pygments_lexer": "ipython3",
   "version": "3.9.7"
  },
  "toc": {
   "base_numbering": 1,
   "nav_menu": {},
   "number_sections": true,
   "sideBar": true,
   "skip_h1_title": false,
   "title_cell": "Table of Contents",
   "title_sidebar": "Contents",
   "toc_cell": false,
   "toc_position": {},
   "toc_section_display": true,
   "toc_window_display": true
  },
  "varInspector": {
   "cols": {
    "lenName": 16,
    "lenType": 16,
    "lenVar": 40
   },
   "kernels_config": {
    "python": {
     "delete_cmd_postfix": "",
     "delete_cmd_prefix": "del ",
     "library": "var_list.py",
     "varRefreshCmd": "print(var_dic_list())"
    },
    "r": {
     "delete_cmd_postfix": ") ",
     "delete_cmd_prefix": "rm(",
     "library": "var_list.r",
     "varRefreshCmd": "cat(var_dic_list()) "
    }
   },
   "types_to_exclude": [
    "module",
    "function",
    "builtin_function_or_method",
    "instance",
    "_Feature"
   ],
   "window_display": false
  }
 },
 "nbformat": 4,
 "nbformat_minor": 2
}
