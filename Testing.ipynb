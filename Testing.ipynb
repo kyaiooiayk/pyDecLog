{
 "cells": [
  {
   "cell_type": "code",
   "execution_count": 1,
   "metadata": {
    "ExecuteTime": {
     "end_time": "2023-06-24T14:51:45.047222Z",
     "start_time": "2023-06-24T14:51:44.922152Z"
    }
   },
   "outputs": [],
   "source": [
    "from PyDecLog import arguments as arg\n",
    "from PyDecLog import signature as sign\n",
    "from PyDecLog import message as mes\n",
    "from PyDecLog import timing as tim\n",
    "from PyDecLog import lprint\n",
    "from PyDecLog import description as doc\n",
    "from PyDecLog import memory as mem\n",
    "import time"
   ]
  },
  {
   "cell_type": "code",
   "execution_count": 2,
   "metadata": {
    "ExecuteTime": {
     "end_time": "2023-06-24T14:51:45.052688Z",
     "start_time": "2023-06-24T14:51:45.049551Z"
    }
   },
   "outputs": [],
   "source": [
    "lprint = lprint()"
   ]
  },
  {
   "cell_type": "markdown",
   "metadata": {},
   "source": [
    "# Use multiple decorators "
   ]
  },
  {
   "cell_type": "code",
   "execution_count": 3,
   "metadata": {
    "ExecuteTime": {
     "end_time": "2023-06-24T14:51:45.059955Z",
     "start_time": "2023-06-24T14:51:45.055982Z"
    }
   },
   "outputs": [],
   "source": [
    "@doc\n",
    "@sign\n",
    "@arg\n",
    "@tim\n",
    "@mes\n",
    "def sum_(first, second=2):\n",
    "    \"\"\"Sum two numbers.\"\"\"\n",
    "\n",
    "    print(\"Some message on console\")\n",
    "    result = first + second\n",
    "    time.sleep(2)\n",
    "    print(\"Result is: \" + str(result))\n",
    "    return result"
   ]
  },
  {
   "cell_type": "code",
   "execution_count": 4,
   "metadata": {
    "ExecuteTime": {
     "end_time": "2023-06-24T14:51:47.072398Z",
     "start_time": "2023-06-24T14:51:45.062107Z"
    }
   },
   "outputs": [],
   "source": [
    "%timeit\n",
    "dummy = sum_(1,1)"
   ]
  },
  {
   "cell_type": "code",
   "execution_count": 5,
   "metadata": {
    "ExecuteTime": {
     "end_time": "2023-06-24T14:51:49.084354Z",
     "start_time": "2023-06-24T14:51:47.074993Z"
    }
   },
   "outputs": [],
   "source": [
    "dummy = sum_(1, second=2)"
   ]
  },
  {
   "cell_type": "markdown",
   "metadata": {},
   "source": [
    "# Getting function args and kargs"
   ]
  },
  {
   "cell_type": "code",
   "execution_count": 6,
   "metadata": {
    "ExecuteTime": {
     "end_time": "2023-06-24T14:51:49.091290Z",
     "start_time": "2023-06-24T14:51:49.086967Z"
    }
   },
   "outputs": [],
   "source": [
    "@arg\n",
    "def sum_(first, second=2):\n",
    "    \"\"\"Sum two numbers.\"\"\"\n",
    "\n",
    "    print(\"Some message on console\")\n",
    "    result = first + second\n",
    "    time.sleep(2)\n",
    "    print(\"Result is: \" + str(result))\n",
    "    return result"
   ]
  },
  {
   "cell_type": "code",
   "execution_count": 7,
   "metadata": {
    "ExecuteTime": {
     "end_time": "2023-06-24T14:51:51.099071Z",
     "start_time": "2023-06-24T14:51:49.093783Z"
    }
   },
   "outputs": [
    {
     "name": "stdout",
     "output_type": "stream",
     "text": [
      "Some message on console\n",
      "Result is: 3\n"
     ]
    }
   ],
   "source": [
    "dummy = sum_(1,2)"
   ]
  },
  {
   "cell_type": "markdown",
   "metadata": {},
   "source": [
    "# Timing the function"
   ]
  },
  {
   "cell_type": "code",
   "execution_count": 8,
   "metadata": {
    "ExecuteTime": {
     "end_time": "2023-06-24T14:51:54.120830Z",
     "start_time": "2023-06-24T14:51:51.101364Z"
    }
   },
   "outputs": [
    {
     "name": "stdout",
     "output_type": "stream",
     "text": [
      "Some message on console\n",
      "Result is: 3\n"
     ]
    },
    {
     "data": {
      "text/plain": [
       "3"
      ]
     },
     "execution_count": 8,
     "metadata": {},
     "output_type": "execute_result"
    }
   ],
   "source": [
    "@tim\n",
    "def sum_(first, second=2):\n",
    "    \"\"\"Sum two numbers.\"\"\"\n",
    "\n",
    "    print(\"Some message on console\")\n",
    "    result = first + second\n",
    "    time.sleep(3)\n",
    "    print(\"Result is: \" + str(result))\n",
    "    return result\n",
    "sum_(1,2)"
   ]
  },
  {
   "cell_type": "markdown",
   "metadata": {},
   "source": [
    "# Changing time units"
   ]
  },
  {
   "cell_type": "code",
   "execution_count": 9,
   "metadata": {
    "ExecuteTime": {
     "end_time": "2023-06-24T14:51:57.138954Z",
     "start_time": "2023-06-24T14:51:54.125929Z"
    }
   },
   "outputs": [
    {
     "name": "stdout",
     "output_type": "stream",
     "text": [
      "Some message on console\n"
     ]
    },
    {
     "name": "stderr",
     "output_type": "stream",
     "text": [
      "sum_ was executed in: 0.05 min\n"
     ]
    },
    {
     "name": "stdout",
     "output_type": "stream",
     "text": [
      "Result is: 3\n"
     ]
    },
    {
     "data": {
      "text/plain": [
       "3"
      ]
     },
     "execution_count": 9,
     "metadata": {},
     "output_type": "execute_result"
    }
   ],
   "source": [
    "@tim(unit=\"min\", console_log_level=\"debug\")\n",
    "def sum_(first, second=2):\n",
    "    \"\"\"Sum two numbers.\"\"\"\n",
    "\n",
    "    print(\"Some message on console\")\n",
    "    result = first + second\n",
    "    time.sleep(3)\n",
    "    print(\"Result is: \" + str(result))\n",
    "    return result\n",
    "sum_(1,2)"
   ]
  },
  {
   "cell_type": "code",
   "execution_count": 10,
   "metadata": {
    "ExecuteTime": {
     "end_time": "2023-06-24T14:52:00.154914Z",
     "start_time": "2023-06-24T14:51:57.140860Z"
    }
   },
   "outputs": [
    {
     "name": "stdout",
     "output_type": "stream",
     "text": [
      "Some message on console\n"
     ]
    },
    {
     "name": "stderr",
     "output_type": "stream",
     "text": [
      "sum_ was executed in: 0.001 hr\n"
     ]
    },
    {
     "name": "stdout",
     "output_type": "stream",
     "text": [
      "Result is: 3\n"
     ]
    },
    {
     "data": {
      "text/plain": [
       "3"
      ]
     },
     "execution_count": 10,
     "metadata": {},
     "output_type": "execute_result"
    }
   ],
   "source": [
    "@tim(unit=\"hr\", console_log_level=\"debug\")\n",
    "def sum_(first, second=2):\n",
    "    \"\"\"Sum two numbers.\"\"\"\n",
    "\n",
    "    print(\"Some message on console\")\n",
    "    result = first + second\n",
    "    time.sleep(3)\n",
    "    print(\"Result is: \" + str(result))\n",
    "    return result\n",
    "sum_(1,2)"
   ]
  },
  {
   "cell_type": "markdown",
   "metadata": {},
   "source": [
    "# Decorating the `print` function"
   ]
  },
  {
   "cell_type": "code",
   "execution_count": 11,
   "metadata": {
    "ExecuteTime": {
     "end_time": "2023-06-24T14:52:00.160255Z",
     "start_time": "2023-06-24T14:52:00.156987Z"
    },
    "code_folding": [
     1
    ]
   },
   "outputs": [],
   "source": [
    "@mes\n",
    "def sum_(first, second=2):\n",
    "    \"\"\"Sum two numbers.\"\"\"\n",
    "\n",
    "    print(\"Some message on console\")\n",
    "    result = first + second\n",
    "    time.sleep(2)\n",
    "    print(\"Result is: \" + str(result))\n",
    "    return result"
   ]
  },
  {
   "cell_type": "code",
   "execution_count": 12,
   "metadata": {
    "ExecuteTime": {
     "end_time": "2023-06-24T14:52:02.170160Z",
     "start_time": "2023-06-24T14:52:00.162656Z"
    }
   },
   "outputs": [
    {
     "data": {
      "text/plain": [
       "3"
      ]
     },
     "execution_count": 12,
     "metadata": {},
     "output_type": "execute_result"
    }
   ],
   "source": [
    "sum_(1,2)"
   ]
  },
  {
   "cell_type": "markdown",
   "metadata": {},
   "source": [
    "## Controlling print message level"
   ]
  },
  {
   "cell_type": "markdown",
   "metadata": {},
   "source": [
    "## Default"
   ]
  },
  {
   "cell_type": "code",
   "execution_count": 13,
   "metadata": {
    "ExecuteTime": {
     "end_time": "2023-06-24T14:52:02.175334Z",
     "start_time": "2023-06-24T14:52:02.171963Z"
    }
   },
   "outputs": [],
   "source": [
    "@mes\n",
    "def sum_(first, second=2):\n",
    "    \"\"\"Sum two numbers.\"\"\"\n",
    "\n",
    "    print(\"Some message on console\")\n",
    "    result = first + second\n",
    "    time.sleep(2)\n",
    "    print(\"Result is: \" + str(result))\n",
    "    return result"
   ]
  },
  {
   "cell_type": "code",
   "execution_count": 14,
   "metadata": {
    "ExecuteTime": {
     "end_time": "2023-06-24T14:52:04.185535Z",
     "start_time": "2023-06-24T14:52:02.177308Z"
    }
   },
   "outputs": [],
   "source": [
    "dummy = sum_(1,2)"
   ]
  },
  {
   "cell_type": "markdown",
   "metadata": {},
   "source": [
    "## User-defined"
   ]
  },
  {
   "cell_type": "code",
   "execution_count": 15,
   "metadata": {
    "ExecuteTime": {
     "end_time": "2023-06-24T14:52:06.198166Z",
     "start_time": "2023-06-24T14:52:04.188529Z"
    }
   },
   "outputs": [],
   "source": [
    "@mes(level=\"debug\")\n",
    "def sum_(first, second=2):\n",
    "    \"\"\"Sum two numbers.\"\"\"\n",
    "\n",
    "    print(\"Some message on console\")\n",
    "    result = first + second\n",
    "    time.sleep(2)\n",
    "    print(\"Result is: \" + str(result))\n",
    "    return result\n",
    "dummy = sum_(1,2)"
   ]
  },
  {
   "cell_type": "code",
   "execution_count": 16,
   "metadata": {
    "ExecuteTime": {
     "end_time": "2023-06-24T14:52:08.204831Z",
     "start_time": "2023-06-24T14:52:06.200720Z"
    }
   },
   "outputs": [],
   "source": [
    "@mes(level=\"warning\")\n",
    "def sum_(first, second=2):\n",
    "    \"\"\"Sum two numbers.\"\"\"\n",
    "\n",
    "    print(\"Some message on console\")\n",
    "    result = first + second\n",
    "    time.sleep(2)\n",
    "    print(\"Result is: \" + str(result))\n",
    "    return result\n",
    "dummy = sum_(1,2)"
   ]
  },
  {
   "cell_type": "code",
   "execution_count": 17,
   "metadata": {
    "ExecuteTime": {
     "end_time": "2023-06-24T14:52:10.214910Z",
     "start_time": "2023-06-24T14:52:08.207048Z"
    }
   },
   "outputs": [],
   "source": [
    "@mes(level=\"error\")\n",
    "def sum_(first, second=2):\n",
    "    \"\"\"Sum two numbers.\"\"\"\n",
    "\n",
    "    print(\"Some message on console\")\n",
    "    result = first + second\n",
    "    time.sleep(2)\n",
    "    print(\"Result is: \" + str(result))\n",
    "    return result\n",
    "dummy = sum_(1,2)"
   ]
  },
  {
   "cell_type": "code",
   "execution_count": 18,
   "metadata": {
    "ExecuteTime": {
     "end_time": "2023-06-24T14:52:12.223784Z",
     "start_time": "2023-06-24T14:52:10.217932Z"
    }
   },
   "outputs": [
    {
     "name": "stderr",
     "output_type": "stream",
     "text": [
      "Some message on console\n",
      "Result is: 3\n"
     ]
    }
   ],
   "source": [
    "@mes(level=\"critical\")\n",
    "def sum_(first, second=2):\n",
    "    \"\"\"Sum two numbers.\"\"\"\n",
    "\n",
    "    print(\"Some message on console\")\n",
    "    result = first + second\n",
    "    time.sleep(2)\n",
    "    print(\"Result is: \" + str(result))\n",
    "    return result\n",
    "dummy = sum_(1,2)"
   ]
  },
  {
   "cell_type": "markdown",
   "metadata": {},
   "source": [
    "## Super-custom"
   ]
  },
  {
   "cell_type": "markdown",
   "metadata": {},
   "source": [
    "- No need to use decorator here."
   ]
  },
  {
   "cell_type": "code",
   "execution_count": 19,
   "metadata": {
    "ExecuteTime": {
     "end_time": "2023-06-24T14:52:12.232874Z",
     "start_time": "2023-06-24T14:52:12.225906Z"
    },
    "scrolled": true
   },
   "outputs": [
    {
     "name": "stderr",
     "output_type": "stream",
     "text": [
      "Results 1 is: 3\n",
      "Results 3 is: 3\n",
      "Results 4 is: 3\n",
      "Results 5 is: 3\n"
     ]
    }
   ],
   "source": [
    "def sum_(first=0, second=0):\n",
    "    \"\"\"Sum two numbers.\n",
    "    \"\"\"\n",
    "\n",
    "    result = first + second    \n",
    "    lprint.info(\"Results 1 is: \" + str(result))    \n",
    "    lprint.debug(\"Results 2 is: \" + str(result))\n",
    "    lprint.warning(\"Results 3 is: \" + str(result))\n",
    "    lprint.error(\"Results 4 is: \" + str(result))\n",
    "    lprint.critical(\"Results 5 is: \" + str(result))\n",
    "    \n",
    "    return result\n",
    "dummy = sum_(1,2)"
   ]
  },
  {
   "cell_type": "markdown",
   "metadata": {},
   "source": [
    "## Adding message to log outside of a function"
   ]
  },
  {
   "cell_type": "code",
   "execution_count": 20,
   "metadata": {
    "ExecuteTime": {
     "end_time": "2023-06-24T14:52:12.419435Z",
     "start_time": "2023-06-24T14:52:12.235414Z"
    }
   },
   "outputs": [
    {
     "ename": "TypeError",
     "evalue": "'Logger' object is not callable",
     "output_type": "error",
     "traceback": [
      "\u001b[0;31m---------------------------------------------------------------------------\u001b[0m",
      "\u001b[0;31mTypeError\u001b[0m                                 Traceback (most recent call last)",
      "\u001b[0;32m/var/folders/5x/lyqr8wv507n43bnwpsz4dq_c0000gn/T/ipykernel_1806/775632692.py\u001b[0m in \u001b[0;36m<module>\u001b[0;34m\u001b[0m\n\u001b[0;32m----> 1\u001b[0;31m \u001b[0mlprint\u001b[0m\u001b[0;34m(\u001b[0m\u001b[0mconsole_log_level\u001b[0m\u001b[0;34m=\u001b[0m\u001b[0;34m\"critical\"\u001b[0m\u001b[0;34m)\u001b[0m\u001b[0;34m.\u001b[0m\u001b[0minfo\u001b[0m\u001b[0;34m(\u001b[0m\u001b[0;34m\"simple message\"\u001b[0m\u001b[0;34m)\u001b[0m\u001b[0;34m\u001b[0m\u001b[0;34m\u001b[0m\u001b[0m\n\u001b[0m",
      "\u001b[0;31mTypeError\u001b[0m: 'Logger' object is not callable"
     ]
    }
   ],
   "source": [
    "lprint(console_log_level=\"critical\").info(\"simple message\") "
   ]
  },
  {
   "cell_type": "code",
   "execution_count": null,
   "metadata": {
    "ExecuteTime": {
     "end_time": "2023-06-24T14:52:12.435455Z",
     "start_time": "2023-06-24T14:52:12.435430Z"
    }
   },
   "outputs": [],
   "source": [
    "lprint(console_log_level=\"critical\").debug(\"simple message\") "
   ]
  },
  {
   "cell_type": "code",
   "execution_count": null,
   "metadata": {
    "ExecuteTime": {
     "end_time": "2023-06-24T14:52:12.437939Z",
     "start_time": "2023-06-24T14:52:12.437918Z"
    }
   },
   "outputs": [],
   "source": [
    "lprint(console_log_level=\"critical\").warning(\"simple message\") "
   ]
  },
  {
   "cell_type": "code",
   "execution_count": null,
   "metadata": {
    "ExecuteTime": {
     "end_time": "2023-06-24T14:52:12.439392Z",
     "start_time": "2023-06-24T14:52:12.439370Z"
    }
   },
   "outputs": [],
   "source": [
    "lprint(console_log_level=\"critical\").error(\"simple message\") "
   ]
  },
  {
   "cell_type": "code",
   "execution_count": null,
   "metadata": {
    "ExecuteTime": {
     "end_time": "2023-06-24T14:52:12.441045Z",
     "start_time": "2023-06-24T14:52:12.441024Z"
    }
   },
   "outputs": [],
   "source": [
    "lprint(console_log_level=\"critical\").critical(\"simple CRITICAL message\") "
   ]
  },
  {
   "cell_type": "markdown",
   "metadata": {},
   "source": [
    "# Profiling variables memory"
   ]
  },
  {
   "cell_type": "code",
   "execution_count": null,
   "metadata": {
    "ExecuteTime": {
     "end_time": "2023-06-24T14:52:12.442327Z",
     "start_time": "2023-06-24T14:52:12.442310Z"
    },
    "scrolled": true
   },
   "outputs": [],
   "source": [
    "@mem(level=\"debug\", console_log_level=\"debug\")\n",
    "def sum_(first, second=1):\n",
    "    \"\"\"Sum two numbers.\"\"\"\n",
    "\n",
    "    print(\"Some message on console\")\n",
    "    result = first + second\n",
    "    print(\"Result is: \" + str(result))\n",
    "\n",
    "    return result\n",
    "\n",
    "\n",
    "dummy = sum_(1, second=2)"
   ]
  },
  {
   "cell_type": "markdown",
   "metadata": {},
   "source": [
    "# Profiling variables types"
   ]
  },
  {
   "cell_type": "code",
   "execution_count": null,
   "metadata": {
    "ExecuteTime": {
     "end_time": "2023-06-24T14:52:12.443744Z",
     "start_time": "2023-06-24T14:52:12.443723Z"
    }
   },
   "outputs": [],
   "source": [
    "from PyDecLog import typing as typ\n",
    "\n",
    "@typ\n",
    "def sum_(first, second=1):\n",
    "    \"\"\"Sum two numbers.\"\"\"\n",
    "\n",
    "    print(\"Some message on console\")\n",
    "    result = first + second    \n",
    "    print(\"Result is: \" + str(result))\n",
    "    \n",
    "    return result\n",
    "dummy = sum_(1, 2)"
   ]
  },
  {
   "cell_type": "markdown",
   "metadata": {
    "ExecuteTime": {
     "end_time": "2023-06-23T08:32:38.380972Z",
     "start_time": "2023-06-23T08:32:36.371227Z"
    }
   },
   "source": [
    "# Profile locals"
   ]
  },
  {
   "cell_type": "code",
   "execution_count": null,
   "metadata": {
    "ExecuteTime": {
     "end_time": "2023-06-24T14:52:12.445755Z",
     "start_time": "2023-06-24T14:52:12.445737Z"
    }
   },
   "outputs": [],
   "source": [
    "from PyDecLog import profile_locals"
   ]
  },
  {
   "cell_type": "code",
   "execution_count": null,
   "metadata": {
    "ExecuteTime": {
     "end_time": "2023-06-24T14:52:12.447139Z",
     "start_time": "2023-06-24T14:52:12.447118Z"
    },
    "code_folding": []
   },
   "outputs": [],
   "source": [
    "@profile_locals\n",
    "def func(test=False):\n",
    "    local1 = 1\n",
    "    local2 = 2\n",
    "    return 1\n",
    "\n",
    "output = func()\n",
    "for key, value in func.locals.items():\n",
    "        msg = f\"Variable: {key} | value: {value} | type: {type(value)} | size: {getsizeof(value)}\"\n",
    "        \n",
    "        lprint(console_log_level=\"critical\").error(msg) "
   ]
  },
  {
   "cell_type": "code",
   "execution_count": null,
   "metadata": {},
   "outputs": [],
   "source": []
  }
 ],
 "metadata": {
  "hide_input": false,
  "kernelspec": {
   "display_name": "trainingAI",
   "language": "python",
   "name": "trainingai"
  },
  "language_info": {
   "codemirror_mode": {
    "name": "ipython",
    "version": 3
   },
   "file_extension": ".py",
   "mimetype": "text/x-python",
   "name": "python",
   "nbconvert_exporter": "python",
   "pygments_lexer": "ipython3",
   "version": "3.9.7"
  },
  "toc": {
   "base_numbering": 1,
   "nav_menu": {},
   "number_sections": true,
   "sideBar": true,
   "skip_h1_title": false,
   "title_cell": "Table of Contents",
   "title_sidebar": "Contents",
   "toc_cell": false,
   "toc_position": {},
   "toc_section_display": true,
   "toc_window_display": true
  },
  "varInspector": {
   "cols": {
    "lenName": 16,
    "lenType": 16,
    "lenVar": 40
   },
   "kernels_config": {
    "python": {
     "delete_cmd_postfix": "",
     "delete_cmd_prefix": "del ",
     "library": "var_list.py",
     "varRefreshCmd": "print(var_dic_list())"
    },
    "r": {
     "delete_cmd_postfix": ") ",
     "delete_cmd_prefix": "rm(",
     "library": "var_list.r",
     "varRefreshCmd": "cat(var_dic_list()) "
    }
   },
   "types_to_exclude": [
    "module",
    "function",
    "builtin_function_or_method",
    "instance",
    "_Feature"
   ],
   "window_display": false
  }
 },
 "nbformat": 4,
 "nbformat_minor": 2
}
